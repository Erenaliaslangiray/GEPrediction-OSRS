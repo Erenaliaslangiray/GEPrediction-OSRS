{
 "cells": [
  {
   "cell_type": "code",
   "execution_count": 1,
   "metadata": {
    "colab": {},
    "colab_type": "code",
    "id": "7rZnJaGTWQw0"
   },
   "outputs": [
    {
     "name": "stderr",
     "output_type": "stream",
     "text": [
      "C:\\Users\\User\\Anaconda3\\lib\\site-packages\\h5py\\__init__.py:34: FutureWarning: Conversion of the second argument of issubdtype from `float` to `np.floating` is deprecated. In future, it will be treated as `np.float64 == np.dtype(float).type`.\n",
      "  from ._conv import register_converters as _register_converters\n"
     ]
    }
   ],
   "source": [
    "from __future__ import absolute_import, division, print_function, unicode_literals\n",
    "import tensorflow as tf\n",
    "import matplotlib as mpl\n",
    "import matplotlib.pyplot as plt\n",
    "import numpy as np\n",
    "import os\n",
    "import pandas as pd\n",
    "\n",
    "mpl.rcParams['figure.figsize'] = (8, 6)\n",
    "mpl.rcParams['axes.grid'] = False\n",
    "%matplotlib inline"
   ]
  },
  {
   "cell_type": "markdown",
   "metadata": {
    "colab_type": "text",
    "id": "TokBlnUhWFw9"
   },
   "source": [
    "## The GE dataset"
   ]
  },
  {
   "cell_type": "code",
   "execution_count": 2,
   "metadata": {
    "colab": {},
    "colab_type": "code",
    "collapsed": true,
    "id": "TX6uGeeeWIkG"
   },
   "outputs": [],
   "source": [
    "buy_average = pd.read_csv(\"data/rsbuddy/buy_average.csv\")\n",
    "buy_average = buy_average.set_index('timestamp')"
   ]
  },
  {
   "cell_type": "code",
   "execution_count": 3,
   "metadata": {
    "colab": {},
    "colab_type": "code",
    "id": "ojHE-iCCWIhz"
   },
   "outputs": [
    {
     "data": {
      "text/html": [
       "<div>\n",
       "<style scoped>\n",
       "    .dataframe tbody tr th:only-of-type {\n",
       "        vertical-align: middle;\n",
       "    }\n",
       "\n",
       "    .dataframe tbody tr th {\n",
       "        vertical-align: top;\n",
       "    }\n",
       "\n",
       "    .dataframe thead th {\n",
       "        text-align: right;\n",
       "    }\n",
       "</style>\n",
       "<table border=\"1\" class=\"dataframe\">\n",
       "  <thead>\n",
       "    <tr style=\"text-align: right;\">\n",
       "      <th></th>\n",
       "      <th>Cannonball</th>\n",
       "      <th>Cannon_base</th>\n",
       "      <th>Cannon_stand</th>\n",
       "      <th>Cannon_barrels</th>\n",
       "      <th>Cannon_furnace</th>\n",
       "      <th>Insect_repellent</th>\n",
       "      <th>Bucket_of_wax</th>\n",
       "      <th>Candle</th>\n",
       "      <th>Bronze_arrowtips</th>\n",
       "      <th>Iron_arrowtips</th>\n",
       "      <th>...</th>\n",
       "      <th>Watchtower_teleport</th>\n",
       "      <th>Teleport_to_house</th>\n",
       "      <th>Bones_to_bananas</th>\n",
       "      <th>Bones_to_peaches</th>\n",
       "      <th>Enchant_sapphire_or_opal</th>\n",
       "      <th>Enchant_emerald_or_jade</th>\n",
       "      <th>Enchant_ruby_or_topaz</th>\n",
       "      <th>Enchant_diamond</th>\n",
       "      <th>Enchant_dragonstone</th>\n",
       "      <th>Enchant_onyx</th>\n",
       "    </tr>\n",
       "    <tr>\n",
       "      <th>timestamp</th>\n",
       "      <th></th>\n",
       "      <th></th>\n",
       "      <th></th>\n",
       "      <th></th>\n",
       "      <th></th>\n",
       "      <th></th>\n",
       "      <th></th>\n",
       "      <th></th>\n",
       "      <th></th>\n",
       "      <th></th>\n",
       "      <th></th>\n",
       "      <th></th>\n",
       "      <th></th>\n",
       "      <th></th>\n",
       "      <th></th>\n",
       "      <th></th>\n",
       "      <th></th>\n",
       "      <th></th>\n",
       "      <th></th>\n",
       "      <th></th>\n",
       "      <th></th>\n",
       "    </tr>\n",
       "  </thead>\n",
       "  <tbody>\n",
       "    <tr>\n",
       "      <th>1577227800</th>\n",
       "      <td>174</td>\n",
       "      <td>188000</td>\n",
       "      <td>186627</td>\n",
       "      <td>0</td>\n",
       "      <td>193811</td>\n",
       "      <td>202</td>\n",
       "      <td>4800</td>\n",
       "      <td>398</td>\n",
       "      <td>0</td>\n",
       "      <td>3</td>\n",
       "      <td>...</td>\n",
       "      <td>380</td>\n",
       "      <td>461</td>\n",
       "      <td>0</td>\n",
       "      <td>831</td>\n",
       "      <td>0</td>\n",
       "      <td>0</td>\n",
       "      <td>0</td>\n",
       "      <td>0</td>\n",
       "      <td>0</td>\n",
       "      <td>0</td>\n",
       "    </tr>\n",
       "    <tr>\n",
       "      <th>1577228101</th>\n",
       "      <td>174</td>\n",
       "      <td>188000</td>\n",
       "      <td>186627</td>\n",
       "      <td>0</td>\n",
       "      <td>193811</td>\n",
       "      <td>202</td>\n",
       "      <td>4800</td>\n",
       "      <td>398</td>\n",
       "      <td>0</td>\n",
       "      <td>3</td>\n",
       "      <td>...</td>\n",
       "      <td>380</td>\n",
       "      <td>461</td>\n",
       "      <td>0</td>\n",
       "      <td>831</td>\n",
       "      <td>0</td>\n",
       "      <td>0</td>\n",
       "      <td>0</td>\n",
       "      <td>0</td>\n",
       "      <td>0</td>\n",
       "      <td>0</td>\n",
       "    </tr>\n",
       "    <tr>\n",
       "      <th>1577228400</th>\n",
       "      <td>174</td>\n",
       "      <td>188000</td>\n",
       "      <td>186627</td>\n",
       "      <td>0</td>\n",
       "      <td>193811</td>\n",
       "      <td>202</td>\n",
       "      <td>4800</td>\n",
       "      <td>398</td>\n",
       "      <td>0</td>\n",
       "      <td>3</td>\n",
       "      <td>...</td>\n",
       "      <td>380</td>\n",
       "      <td>461</td>\n",
       "      <td>0</td>\n",
       "      <td>831</td>\n",
       "      <td>0</td>\n",
       "      <td>0</td>\n",
       "      <td>0</td>\n",
       "      <td>0</td>\n",
       "      <td>0</td>\n",
       "      <td>0</td>\n",
       "    </tr>\n",
       "    <tr>\n",
       "      <th>1577228700</th>\n",
       "      <td>174</td>\n",
       "      <td>188000</td>\n",
       "      <td>186627</td>\n",
       "      <td>0</td>\n",
       "      <td>193811</td>\n",
       "      <td>202</td>\n",
       "      <td>4800</td>\n",
       "      <td>398</td>\n",
       "      <td>0</td>\n",
       "      <td>3</td>\n",
       "      <td>...</td>\n",
       "      <td>380</td>\n",
       "      <td>461</td>\n",
       "      <td>0</td>\n",
       "      <td>831</td>\n",
       "      <td>0</td>\n",
       "      <td>0</td>\n",
       "      <td>0</td>\n",
       "      <td>0</td>\n",
       "      <td>0</td>\n",
       "      <td>0</td>\n",
       "    </tr>\n",
       "    <tr>\n",
       "      <th>1577229001</th>\n",
       "      <td>174</td>\n",
       "      <td>188000</td>\n",
       "      <td>186627</td>\n",
       "      <td>0</td>\n",
       "      <td>193811</td>\n",
       "      <td>202</td>\n",
       "      <td>4800</td>\n",
       "      <td>398</td>\n",
       "      <td>0</td>\n",
       "      <td>3</td>\n",
       "      <td>...</td>\n",
       "      <td>380</td>\n",
       "      <td>461</td>\n",
       "      <td>0</td>\n",
       "      <td>831</td>\n",
       "      <td>0</td>\n",
       "      <td>0</td>\n",
       "      <td>0</td>\n",
       "      <td>0</td>\n",
       "      <td>0</td>\n",
       "      <td>0</td>\n",
       "    </tr>\n",
       "  </tbody>\n",
       "</table>\n",
       "<p>5 rows × 3657 columns</p>\n",
       "</div>"
      ],
      "text/plain": [
       "            Cannonball  Cannon_base  Cannon_stand  Cannon_barrels  \\\n",
       "timestamp                                                           \n",
       "1577227800         174       188000        186627               0   \n",
       "1577228101         174       188000        186627               0   \n",
       "1577228400         174       188000        186627               0   \n",
       "1577228700         174       188000        186627               0   \n",
       "1577229001         174       188000        186627               0   \n",
       "\n",
       "            Cannon_furnace  Insect_repellent  Bucket_of_wax  Candle  \\\n",
       "timestamp                                                             \n",
       "1577227800          193811               202           4800     398   \n",
       "1577228101          193811               202           4800     398   \n",
       "1577228400          193811               202           4800     398   \n",
       "1577228700          193811               202           4800     398   \n",
       "1577229001          193811               202           4800     398   \n",
       "\n",
       "            Bronze_arrowtips  Iron_arrowtips  ...  Watchtower_teleport  \\\n",
       "timestamp                                     ...                        \n",
       "1577227800                 0               3  ...                  380   \n",
       "1577228101                 0               3  ...                  380   \n",
       "1577228400                 0               3  ...                  380   \n",
       "1577228700                 0               3  ...                  380   \n",
       "1577229001                 0               3  ...                  380   \n",
       "\n",
       "            Teleport_to_house  Bones_to_bananas  Bones_to_peaches  \\\n",
       "timestamp                                                           \n",
       "1577227800                461                 0               831   \n",
       "1577228101                461                 0               831   \n",
       "1577228400                461                 0               831   \n",
       "1577228700                461                 0               831   \n",
       "1577229001                461                 0               831   \n",
       "\n",
       "            Enchant_sapphire_or_opal  Enchant_emerald_or_jade  \\\n",
       "timestamp                                                       \n",
       "1577227800                         0                        0   \n",
       "1577228101                         0                        0   \n",
       "1577228400                         0                        0   \n",
       "1577228700                         0                        0   \n",
       "1577229001                         0                        0   \n",
       "\n",
       "            Enchant_ruby_or_topaz  Enchant_diamond  Enchant_dragonstone  \\\n",
       "timestamp                                                                 \n",
       "1577227800                      0                0                    0   \n",
       "1577228101                      0                0                    0   \n",
       "1577228400                      0                0                    0   \n",
       "1577228700                      0                0                    0   \n",
       "1577229001                      0                0                    0   \n",
       "\n",
       "            Enchant_onyx  \n",
       "timestamp                 \n",
       "1577227800             0  \n",
       "1577228101             0  \n",
       "1577228400             0  \n",
       "1577228700             0  \n",
       "1577229001             0  \n",
       "\n",
       "[5 rows x 3657 columns]"
      ]
     },
     "execution_count": 3,
     "metadata": {},
     "output_type": "execute_result"
    }
   ],
   "source": [
    "buy_average.head()"
   ]
  },
  {
   "cell_type": "code",
   "execution_count": 4,
   "metadata": {},
   "outputs": [
    {
     "data": {
      "text/plain": [
       "(3398, 3657)"
      ]
     },
     "execution_count": 4,
     "metadata": {},
     "output_type": "execute_result"
    }
   ],
   "source": [
    "buy_average.shape"
   ]
  },
  {
   "cell_type": "code",
   "execution_count": 5,
   "metadata": {
    "collapsed": true
   },
   "outputs": [],
   "source": [
    "buy_average = buy_average.drop_duplicates()"
   ]
  },
  {
   "cell_type": "code",
   "execution_count": 6,
   "metadata": {},
   "outputs": [
    {
     "data": {
      "text/plain": [
       "(1086, 3657)"
      ]
     },
     "execution_count": 6,
     "metadata": {},
     "output_type": "execute_result"
    }
   ],
   "source": [
    "buy_average.shape"
   ]
  },
  {
   "cell_type": "code",
   "execution_count": 7,
   "metadata": {},
   "outputs": [
    {
     "name": "stdout",
     "output_type": "stream",
     "text": [
      "(1086, 6)\n"
     ]
    },
    {
     "data": {
      "text/html": [
       "<div>\n",
       "<style scoped>\n",
       "    .dataframe tbody tr th:only-of-type {\n",
       "        vertical-align: middle;\n",
       "    }\n",
       "\n",
       "    .dataframe tbody tr th {\n",
       "        vertical-align: top;\n",
       "    }\n",
       "\n",
       "    .dataframe thead th {\n",
       "        text-align: right;\n",
       "    }\n",
       "</style>\n",
       "<table border=\"1\" class=\"dataframe\">\n",
       "  <thead>\n",
       "    <tr style=\"text-align: right;\">\n",
       "      <th></th>\n",
       "      <th>Rune_axe</th>\n",
       "      <th>Rune_2h_sword</th>\n",
       "      <th>Rune_scimitar</th>\n",
       "      <th>Rune_chainbody</th>\n",
       "      <th>Rune_full_helm</th>\n",
       "      <th>Rune_kiteshield</th>\n",
       "    </tr>\n",
       "    <tr>\n",
       "      <th>timestamp</th>\n",
       "      <th></th>\n",
       "      <th></th>\n",
       "      <th></th>\n",
       "      <th></th>\n",
       "      <th></th>\n",
       "      <th></th>\n",
       "    </tr>\n",
       "  </thead>\n",
       "  <tbody>\n",
       "    <tr>\n",
       "      <th>1577227800</th>\n",
       "      <td>7196</td>\n",
       "      <td>37882</td>\n",
       "      <td>15022</td>\n",
       "      <td>29748</td>\n",
       "      <td>20602</td>\n",
       "      <td>32079</td>\n",
       "    </tr>\n",
       "    <tr>\n",
       "      <th>1577229600</th>\n",
       "      <td>7123</td>\n",
       "      <td>37881</td>\n",
       "      <td>15036</td>\n",
       "      <td>29657</td>\n",
       "      <td>20600</td>\n",
       "      <td>32095</td>\n",
       "    </tr>\n",
       "    <tr>\n",
       "      <th>1577231400</th>\n",
       "      <td>7237</td>\n",
       "      <td>37821</td>\n",
       "      <td>15019</td>\n",
       "      <td>29577</td>\n",
       "      <td>20633</td>\n",
       "      <td>32340</td>\n",
       "    </tr>\n",
       "    <tr>\n",
       "      <th>1577233501</th>\n",
       "      <td>7250</td>\n",
       "      <td>37816</td>\n",
       "      <td>15018</td>\n",
       "      <td>29530</td>\n",
       "      <td>20634</td>\n",
       "      <td>32152</td>\n",
       "    </tr>\n",
       "    <tr>\n",
       "      <th>1577235300</th>\n",
       "      <td>7316</td>\n",
       "      <td>37819</td>\n",
       "      <td>15009</td>\n",
       "      <td>29743</td>\n",
       "      <td>20785</td>\n",
       "      <td>32119</td>\n",
       "    </tr>\n",
       "  </tbody>\n",
       "</table>\n",
       "</div>"
      ],
      "text/plain": [
       "            Rune_axe  Rune_2h_sword  Rune_scimitar  Rune_chainbody  \\\n",
       "timestamp                                                            \n",
       "1577227800      7196          37882          15022           29748   \n",
       "1577229600      7123          37881          15036           29657   \n",
       "1577231400      7237          37821          15019           29577   \n",
       "1577233501      7250          37816          15018           29530   \n",
       "1577235300      7316          37819          15009           29743   \n",
       "\n",
       "            Rune_full_helm  Rune_kiteshield  \n",
       "timestamp                                    \n",
       "1577227800           20602            32079  \n",
       "1577229600           20600            32095  \n",
       "1577231400           20633            32340  \n",
       "1577233501           20634            32152  \n",
       "1577235300           20785            32119  "
      ]
     },
     "execution_count": 7,
     "metadata": {},
     "output_type": "execute_result"
    }
   ],
   "source": [
    "item_to_predict = 'Rune_scimitar'\n",
    "items_selected = ['Rune_axe', 'Rune_2h_sword', 'Rune_scimitar', 'Rune_chainbody', 'Rune_full_helm', 'Rune_kiteshield']\n",
    "df = buy_average[items_selected].replace(to_replace=0, method='ffill')\n",
    "print(df.shape)\n",
    "df.head()"
   ]
  },
  {
   "cell_type": "markdown",
   "metadata": {},
   "source": [
    "# Feature Engineering"
   ]
  },
  {
   "cell_type": "markdown",
   "metadata": {},
   "source": [
    "## Known finance features (MACD, RSI)"
   ]
  },
  {
   "cell_type": "code",
   "execution_count": 8,
   "metadata": {
    "collapsed": true
   },
   "outputs": [],
   "source": [
    "def moving_average_convergence(group, nslow=26, nfast=12):\n",
    "    emaslow = group.ewm(span=nslow, min_periods=1).mean()\n",
    "    emafast = group.ewm(span=nfast, min_periods=1).mean()\n",
    "    result = pd.DataFrame({'MACD': emafast-emaslow, 'emaSlw': emaslow, 'emaFst': emafast})\n",
    "    return result\n",
    "\n",
    "def moving_average(group, n=9):\n",
    "    sma = group.rolling(n).mean()\n",
    "    sma=sma.rename('SMA')\n",
    "    return sma\n",
    "\n",
    "def RSI(group, n=14):\n",
    "    delta = group.diff()\n",
    "    dUp, dDown = delta.copy(), delta.copy()\n",
    "    dUp[dUp < 0] = 0\n",
    "    dDown[dDown > 0] = 0\n",
    "\n",
    "    RolUp = dUp.rolling(n).mean()\n",
    "    RolDown = dDown.rolling(n).mean().abs()\n",
    "    \n",
    "    RS = RolUp / RolDown\n",
    "    rsi= 100.0 - (100.0 / (1.0 + RS))\n",
    "    rsi=rsi.rename('RSI')\n",
    "    return rsi"
   ]
  },
  {
   "cell_type": "code",
   "execution_count": 9,
   "metadata": {},
   "outputs": [
    {
     "data": {
      "text/html": [
       "<div>\n",
       "<style scoped>\n",
       "    .dataframe tbody tr th:only-of-type {\n",
       "        vertical-align: middle;\n",
       "    }\n",
       "\n",
       "    .dataframe tbody tr th {\n",
       "        vertical-align: top;\n",
       "    }\n",
       "\n",
       "    .dataframe thead th {\n",
       "        text-align: right;\n",
       "    }\n",
       "</style>\n",
       "<table border=\"1\" class=\"dataframe\">\n",
       "  <thead>\n",
       "    <tr style=\"text-align: right;\">\n",
       "      <th></th>\n",
       "      <th>MACD</th>\n",
       "      <th>emaSlw</th>\n",
       "      <th>emaFst</th>\n",
       "      <th>SMA</th>\n",
       "      <th>RSI</th>\n",
       "    </tr>\n",
       "    <tr>\n",
       "      <th>timestamp</th>\n",
       "      <th></th>\n",
       "      <th></th>\n",
       "      <th></th>\n",
       "      <th></th>\n",
       "      <th></th>\n",
       "    </tr>\n",
       "  </thead>\n",
       "  <tbody>\n",
       "    <tr>\n",
       "      <th>1577227800</th>\n",
       "      <td>0.000000</td>\n",
       "      <td>15022.000000</td>\n",
       "      <td>15022.000000</td>\n",
       "      <td>NaN</td>\n",
       "      <td>NaN</td>\n",
       "    </tr>\n",
       "    <tr>\n",
       "      <th>1577229600</th>\n",
       "      <td>0.314103</td>\n",
       "      <td>15029.269231</td>\n",
       "      <td>15029.583333</td>\n",
       "      <td>NaN</td>\n",
       "      <td>NaN</td>\n",
       "    </tr>\n",
       "    <tr>\n",
       "      <th>1577231400</th>\n",
       "      <td>-0.126940</td>\n",
       "      <td>15025.579596</td>\n",
       "      <td>15025.452656</td>\n",
       "      <td>NaN</td>\n",
       "      <td>NaN</td>\n",
       "    </tr>\n",
       "    <tr>\n",
       "      <th>1577233501</th>\n",
       "      <td>-0.360528</td>\n",
       "      <td>15023.460672</td>\n",
       "      <td>15023.100144</td>\n",
       "      <td>NaN</td>\n",
       "      <td>NaN</td>\n",
       "    </tr>\n",
       "    <tr>\n",
       "      <th>1577235300</th>\n",
       "      <td>-0.837998</td>\n",
       "      <td>15020.107183</td>\n",
       "      <td>15019.269185</td>\n",
       "      <td>NaN</td>\n",
       "      <td>NaN</td>\n",
       "    </tr>\n",
       "  </tbody>\n",
       "</table>\n",
       "</div>"
      ],
      "text/plain": [
       "                MACD        emaSlw        emaFst  SMA  RSI\n",
       "timestamp                                                 \n",
       "1577227800  0.000000  15022.000000  15022.000000  NaN  NaN\n",
       "1577229600  0.314103  15029.269231  15029.583333  NaN  NaN\n",
       "1577231400 -0.126940  15025.579596  15025.452656  NaN  NaN\n",
       "1577233501 -0.360528  15023.460672  15023.100144  NaN  NaN\n",
       "1577235300 -0.837998  15020.107183  15019.269185  NaN  NaN"
      ]
     },
     "execution_count": 9,
     "metadata": {},
     "output_type": "execute_result"
    }
   ],
   "source": [
    "macd = moving_average_convergence(df[item_to_predict])\n",
    "sma = moving_average(df[item_to_predict])\n",
    "rsi = RSI(df[item_to_predict], 10)\n",
    "finance_features = pd.concat([macd, sma, rsi], axis=1)\n",
    "finance_features.head()"
   ]
  },
  {
   "cell_type": "markdown",
   "metadata": {},
   "source": [
    "## Fetched API features (buy quantity, sell price average)"
   ]
  },
  {
   "cell_type": "code",
   "execution_count": 10,
   "metadata": {},
   "outputs": [
    {
     "name": "stdout",
     "output_type": "stream",
     "text": [
      "(1086, 6)\n"
     ]
    },
    {
     "data": {
      "text/html": [
       "<div>\n",
       "<style scoped>\n",
       "    .dataframe tbody tr th:only-of-type {\n",
       "        vertical-align: middle;\n",
       "    }\n",
       "\n",
       "    .dataframe tbody tr th {\n",
       "        vertical-align: top;\n",
       "    }\n",
       "\n",
       "    .dataframe thead th {\n",
       "        text-align: right;\n",
       "    }\n",
       "</style>\n",
       "<table border=\"1\" class=\"dataframe\">\n",
       "  <thead>\n",
       "    <tr style=\"text-align: right;\">\n",
       "      <th></th>\n",
       "      <th>Rune_axe_sa</th>\n",
       "      <th>Rune_2h_sword_sa</th>\n",
       "      <th>Rune_scimitar_sa</th>\n",
       "      <th>Rune_chainbody_sa</th>\n",
       "      <th>Rune_full_helm_sa</th>\n",
       "      <th>Rune_kiteshield_sa</th>\n",
       "    </tr>\n",
       "    <tr>\n",
       "      <th>timestamp</th>\n",
       "      <th></th>\n",
       "      <th></th>\n",
       "      <th></th>\n",
       "      <th></th>\n",
       "      <th></th>\n",
       "      <th></th>\n",
       "    </tr>\n",
       "  </thead>\n",
       "  <tbody>\n",
       "    <tr>\n",
       "      <th>1577227800</th>\n",
       "      <td>7178</td>\n",
       "      <td>37818</td>\n",
       "      <td>14979</td>\n",
       "      <td>29506</td>\n",
       "      <td>20590</td>\n",
       "      <td>32059</td>\n",
       "    </tr>\n",
       "    <tr>\n",
       "      <th>1577229600</th>\n",
       "      <td>7147</td>\n",
       "      <td>37848</td>\n",
       "      <td>14982</td>\n",
       "      <td>29507</td>\n",
       "      <td>20595</td>\n",
       "      <td>32052</td>\n",
       "    </tr>\n",
       "    <tr>\n",
       "      <th>1577231400</th>\n",
       "      <td>7150</td>\n",
       "      <td>37828</td>\n",
       "      <td>14988</td>\n",
       "      <td>29498</td>\n",
       "      <td>20597</td>\n",
       "      <td>32053</td>\n",
       "    </tr>\n",
       "    <tr>\n",
       "      <th>1577233501</th>\n",
       "      <td>7160</td>\n",
       "      <td>37795</td>\n",
       "      <td>14991</td>\n",
       "      <td>29448</td>\n",
       "      <td>20600</td>\n",
       "      <td>32058</td>\n",
       "    </tr>\n",
       "    <tr>\n",
       "      <th>1577235300</th>\n",
       "      <td>7191</td>\n",
       "      <td>37808</td>\n",
       "      <td>14995</td>\n",
       "      <td>29430</td>\n",
       "      <td>20596</td>\n",
       "      <td>32061</td>\n",
       "    </tr>\n",
       "  </tbody>\n",
       "</table>\n",
       "</div>"
      ],
      "text/plain": [
       "            Rune_axe_sa  Rune_2h_sword_sa  Rune_scimitar_sa  \\\n",
       "timestamp                                                     \n",
       "1577227800         7178             37818             14979   \n",
       "1577229600         7147             37848             14982   \n",
       "1577231400         7150             37828             14988   \n",
       "1577233501         7160             37795             14991   \n",
       "1577235300         7191             37808             14995   \n",
       "\n",
       "            Rune_chainbody_sa  Rune_full_helm_sa  Rune_kiteshield_sa  \n",
       "timestamp                                                             \n",
       "1577227800              29506              20590               32059  \n",
       "1577229600              29507              20595               32052  \n",
       "1577231400              29498              20597               32053  \n",
       "1577233501              29448              20600               32058  \n",
       "1577235300              29430              20596               32061  "
      ]
     },
     "execution_count": 10,
     "metadata": {},
     "output_type": "execute_result"
    }
   ],
   "source": [
    "sell_average = pd.read_csv(\"data/rsbuddy/sell_average.csv\")\n",
    "sell_average = sell_average.set_index('timestamp')\n",
    "sell_average = sell_average.drop_duplicates()\n",
    "sell_average = sell_average[items_selected].replace(to_replace=0, method='ffill')\n",
    "print(sell_average.shape)\n",
    "sell_average.columns = [str(col) + '_sa' for col in sell_average.columns]\n",
    "sell_average.head()"
   ]
  },
  {
   "cell_type": "code",
   "execution_count": 11,
   "metadata": {},
   "outputs": [
    {
     "name": "stdout",
     "output_type": "stream",
     "text": [
      "(1086, 6)\n"
     ]
    },
    {
     "data": {
      "text/html": [
       "<div>\n",
       "<style scoped>\n",
       "    .dataframe tbody tr th:only-of-type {\n",
       "        vertical-align: middle;\n",
       "    }\n",
       "\n",
       "    .dataframe tbody tr th {\n",
       "        vertical-align: top;\n",
       "    }\n",
       "\n",
       "    .dataframe thead th {\n",
       "        text-align: right;\n",
       "    }\n",
       "</style>\n",
       "<table border=\"1\" class=\"dataframe\">\n",
       "  <thead>\n",
       "    <tr style=\"text-align: right;\">\n",
       "      <th></th>\n",
       "      <th>Rune_axe_bq</th>\n",
       "      <th>Rune_2h_sword_bq</th>\n",
       "      <th>Rune_scimitar_bq</th>\n",
       "      <th>Rune_chainbody_bq</th>\n",
       "      <th>Rune_full_helm_bq</th>\n",
       "      <th>Rune_kiteshield_bq</th>\n",
       "    </tr>\n",
       "    <tr>\n",
       "      <th>timestamp</th>\n",
       "      <th></th>\n",
       "      <th></th>\n",
       "      <th></th>\n",
       "      <th></th>\n",
       "      <th></th>\n",
       "      <th></th>\n",
       "    </tr>\n",
       "  </thead>\n",
       "  <tbody>\n",
       "    <tr>\n",
       "      <th>1577227800</th>\n",
       "      <td>85</td>\n",
       "      <td>234</td>\n",
       "      <td>62</td>\n",
       "      <td>1</td>\n",
       "      <td>256</td>\n",
       "      <td>220</td>\n",
       "    </tr>\n",
       "    <tr>\n",
       "      <th>1577229600</th>\n",
       "      <td>26</td>\n",
       "      <td>170</td>\n",
       "      <td>40</td>\n",
       "      <td>22</td>\n",
       "      <td>202</td>\n",
       "      <td>159</td>\n",
       "    </tr>\n",
       "    <tr>\n",
       "      <th>1577231400</th>\n",
       "      <td>4</td>\n",
       "      <td>76</td>\n",
       "      <td>55</td>\n",
       "      <td>53</td>\n",
       "      <td>75</td>\n",
       "      <td>23</td>\n",
       "    </tr>\n",
       "    <tr>\n",
       "      <th>1577233501</th>\n",
       "      <td>2</td>\n",
       "      <td>201</td>\n",
       "      <td>57</td>\n",
       "      <td>33</td>\n",
       "      <td>32</td>\n",
       "      <td>86</td>\n",
       "    </tr>\n",
       "    <tr>\n",
       "      <th>1577235300</th>\n",
       "      <td>5</td>\n",
       "      <td>241</td>\n",
       "      <td>13</td>\n",
       "      <td>29</td>\n",
       "      <td>3</td>\n",
       "      <td>91</td>\n",
       "    </tr>\n",
       "  </tbody>\n",
       "</table>\n",
       "</div>"
      ],
      "text/plain": [
       "            Rune_axe_bq  Rune_2h_sword_bq  Rune_scimitar_bq  \\\n",
       "timestamp                                                     \n",
       "1577227800           85               234                62   \n",
       "1577229600           26               170                40   \n",
       "1577231400            4                76                55   \n",
       "1577233501            2               201                57   \n",
       "1577235300            5               241                13   \n",
       "\n",
       "            Rune_chainbody_bq  Rune_full_helm_bq  Rune_kiteshield_bq  \n",
       "timestamp                                                             \n",
       "1577227800                  1                256                 220  \n",
       "1577229600                 22                202                 159  \n",
       "1577231400                 53                 75                  23  \n",
       "1577233501                 33                 32                  86  \n",
       "1577235300                 29                  3                  91  "
      ]
     },
     "execution_count": 11,
     "metadata": {},
     "output_type": "execute_result"
    }
   ],
   "source": [
    "buy_quantity = pd.read_csv(\"data/rsbuddy/buy_quantity.csv\")\n",
    "buy_quantity = buy_quantity.set_index('timestamp')\n",
    "buy_quantity = buy_quantity.drop_duplicates()\n",
    "buy_quantity = buy_quantity[items_selected].replace(to_replace=0, method='ffill')\n",
    "print(buy_quantity.shape)\n",
    "buy_quantity.columns = [str(col) + '_bq' for col in buy_quantity.columns]\n",
    "buy_quantity.head()"
   ]
  },
  {
   "cell_type": "code",
   "execution_count": 12,
   "metadata": {},
   "outputs": [
    {
     "name": "stdout",
     "output_type": "stream",
     "text": [
      "(1086, 6)\n"
     ]
    },
    {
     "data": {
      "text/html": [
       "<div>\n",
       "<style scoped>\n",
       "    .dataframe tbody tr th:only-of-type {\n",
       "        vertical-align: middle;\n",
       "    }\n",
       "\n",
       "    .dataframe tbody tr th {\n",
       "        vertical-align: top;\n",
       "    }\n",
       "\n",
       "    .dataframe thead th {\n",
       "        text-align: right;\n",
       "    }\n",
       "</style>\n",
       "<table border=\"1\" class=\"dataframe\">\n",
       "  <thead>\n",
       "    <tr style=\"text-align: right;\">\n",
       "      <th></th>\n",
       "      <th>Rune_axe_sq</th>\n",
       "      <th>Rune_2h_sword_sq</th>\n",
       "      <th>Rune_scimitar_sq</th>\n",
       "      <th>Rune_chainbody_sq</th>\n",
       "      <th>Rune_full_helm_sq</th>\n",
       "      <th>Rune_kiteshield_sq</th>\n",
       "    </tr>\n",
       "    <tr>\n",
       "      <th>timestamp</th>\n",
       "      <th></th>\n",
       "      <th></th>\n",
       "      <th></th>\n",
       "      <th></th>\n",
       "      <th></th>\n",
       "      <th></th>\n",
       "    </tr>\n",
       "  </thead>\n",
       "  <tbody>\n",
       "    <tr>\n",
       "      <th>1577227800</th>\n",
       "      <td>38</td>\n",
       "      <td>33</td>\n",
       "      <td>56</td>\n",
       "      <td>56</td>\n",
       "      <td>145</td>\n",
       "      <td>167</td>\n",
       "    </tr>\n",
       "    <tr>\n",
       "      <th>1577229600</th>\n",
       "      <td>23</td>\n",
       "      <td>23</td>\n",
       "      <td>68</td>\n",
       "      <td>59</td>\n",
       "      <td>171</td>\n",
       "      <td>112</td>\n",
       "    </tr>\n",
       "    <tr>\n",
       "      <th>1577231400</th>\n",
       "      <td>47</td>\n",
       "      <td>26</td>\n",
       "      <td>136</td>\n",
       "      <td>57</td>\n",
       "      <td>165</td>\n",
       "      <td>70</td>\n",
       "    </tr>\n",
       "    <tr>\n",
       "      <th>1577233501</th>\n",
       "      <td>47</td>\n",
       "      <td>23</td>\n",
       "      <td>151</td>\n",
       "      <td>61</td>\n",
       "      <td>89</td>\n",
       "      <td>78</td>\n",
       "    </tr>\n",
       "    <tr>\n",
       "      <th>1577235300</th>\n",
       "      <td>15</td>\n",
       "      <td>17</td>\n",
       "      <td>47</td>\n",
       "      <td>37</td>\n",
       "      <td>138</td>\n",
       "      <td>122</td>\n",
       "    </tr>\n",
       "  </tbody>\n",
       "</table>\n",
       "</div>"
      ],
      "text/plain": [
       "            Rune_axe_sq  Rune_2h_sword_sq  Rune_scimitar_sq  \\\n",
       "timestamp                                                     \n",
       "1577227800           38                33                56   \n",
       "1577229600           23                23                68   \n",
       "1577231400           47                26               136   \n",
       "1577233501           47                23               151   \n",
       "1577235300           15                17                47   \n",
       "\n",
       "            Rune_chainbody_sq  Rune_full_helm_sq  Rune_kiteshield_sq  \n",
       "timestamp                                                             \n",
       "1577227800                 56                145                 167  \n",
       "1577229600                 59                171                 112  \n",
       "1577231400                 57                165                  70  \n",
       "1577233501                 61                 89                  78  \n",
       "1577235300                 37                138                 122  "
      ]
     },
     "execution_count": 12,
     "metadata": {},
     "output_type": "execute_result"
    }
   ],
   "source": [
    "sell_quantity = pd.read_csv(\"data/rsbuddy/sell_quantity.csv\")\n",
    "sell_quantity = sell_quantity.set_index('timestamp')\n",
    "sell_quantity = sell_quantity.drop_duplicates()\n",
    "sell_quantity = sell_quantity[items_selected].replace(to_replace=0, method='ffill')\n",
    "print(sell_quantity.shape)\n",
    "sell_quantity.columns = [str(col) + '_sq' for col in sell_quantity.columns]\n",
    "sell_quantity.head()"
   ]
  },
  {
   "cell_type": "markdown",
   "metadata": {},
   "source": [
    "## Datetime properties"
   ]
  },
  {
   "cell_type": "code",
   "execution_count": 13,
   "metadata": {},
   "outputs": [
    {
     "data": {
      "text/html": [
       "<div>\n",
       "<style scoped>\n",
       "    .dataframe tbody tr th:only-of-type {\n",
       "        vertical-align: middle;\n",
       "    }\n",
       "\n",
       "    .dataframe tbody tr th {\n",
       "        vertical-align: top;\n",
       "    }\n",
       "\n",
       "    .dataframe thead th {\n",
       "        text-align: right;\n",
       "    }\n",
       "</style>\n",
       "<table border=\"1\" class=\"dataframe\">\n",
       "  <thead>\n",
       "    <tr style=\"text-align: right;\">\n",
       "      <th></th>\n",
       "      <th>Rune_axe</th>\n",
       "      <th>Rune_2h_sword</th>\n",
       "      <th>Rune_scimitar</th>\n",
       "      <th>Rune_chainbody</th>\n",
       "      <th>Rune_full_helm</th>\n",
       "      <th>Rune_kiteshield</th>\n",
       "      <th>datetime</th>\n",
       "      <th>dayofweek</th>\n",
       "      <th>hour</th>\n",
       "    </tr>\n",
       "    <tr>\n",
       "      <th>timestamp</th>\n",
       "      <th></th>\n",
       "      <th></th>\n",
       "      <th></th>\n",
       "      <th></th>\n",
       "      <th></th>\n",
       "      <th></th>\n",
       "      <th></th>\n",
       "      <th></th>\n",
       "      <th></th>\n",
       "    </tr>\n",
       "  </thead>\n",
       "  <tbody>\n",
       "    <tr>\n",
       "      <th>1577227800</th>\n",
       "      <td>7196</td>\n",
       "      <td>37882</td>\n",
       "      <td>15022</td>\n",
       "      <td>29748</td>\n",
       "      <td>20602</td>\n",
       "      <td>32079</td>\n",
       "      <td>2019-12-24 22:50:00</td>\n",
       "      <td>1</td>\n",
       "      <td>22</td>\n",
       "    </tr>\n",
       "    <tr>\n",
       "      <th>1577229600</th>\n",
       "      <td>7123</td>\n",
       "      <td>37881</td>\n",
       "      <td>15036</td>\n",
       "      <td>29657</td>\n",
       "      <td>20600</td>\n",
       "      <td>32095</td>\n",
       "      <td>2019-12-24 23:20:00</td>\n",
       "      <td>1</td>\n",
       "      <td>23</td>\n",
       "    </tr>\n",
       "    <tr>\n",
       "      <th>1577231400</th>\n",
       "      <td>7237</td>\n",
       "      <td>37821</td>\n",
       "      <td>15019</td>\n",
       "      <td>29577</td>\n",
       "      <td>20633</td>\n",
       "      <td>32340</td>\n",
       "      <td>2019-12-24 23:50:00</td>\n",
       "      <td>1</td>\n",
       "      <td>23</td>\n",
       "    </tr>\n",
       "    <tr>\n",
       "      <th>1577233501</th>\n",
       "      <td>7250</td>\n",
       "      <td>37816</td>\n",
       "      <td>15018</td>\n",
       "      <td>29530</td>\n",
       "      <td>20634</td>\n",
       "      <td>32152</td>\n",
       "      <td>2019-12-25 00:25:01</td>\n",
       "      <td>2</td>\n",
       "      <td>0</td>\n",
       "    </tr>\n",
       "    <tr>\n",
       "      <th>1577235300</th>\n",
       "      <td>7316</td>\n",
       "      <td>37819</td>\n",
       "      <td>15009</td>\n",
       "      <td>29743</td>\n",
       "      <td>20785</td>\n",
       "      <td>32119</td>\n",
       "      <td>2019-12-25 00:55:00</td>\n",
       "      <td>2</td>\n",
       "      <td>0</td>\n",
       "    </tr>\n",
       "  </tbody>\n",
       "</table>\n",
       "</div>"
      ],
      "text/plain": [
       "            Rune_axe  Rune_2h_sword  Rune_scimitar  Rune_chainbody  \\\n",
       "timestamp                                                            \n",
       "1577227800      7196          37882          15022           29748   \n",
       "1577229600      7123          37881          15036           29657   \n",
       "1577231400      7237          37821          15019           29577   \n",
       "1577233501      7250          37816          15018           29530   \n",
       "1577235300      7316          37819          15009           29743   \n",
       "\n",
       "            Rune_full_helm  Rune_kiteshield            datetime  dayofweek  \\\n",
       "timestamp                                                                    \n",
       "1577227800           20602            32079 2019-12-24 22:50:00          1   \n",
       "1577229600           20600            32095 2019-12-24 23:20:00          1   \n",
       "1577231400           20633            32340 2019-12-24 23:50:00          1   \n",
       "1577233501           20634            32152 2019-12-25 00:25:01          2   \n",
       "1577235300           20785            32119 2019-12-25 00:55:00          2   \n",
       "\n",
       "            hour  \n",
       "timestamp         \n",
       "1577227800    22  \n",
       "1577229600    23  \n",
       "1577231400    23  \n",
       "1577233501     0  \n",
       "1577235300     0  "
      ]
     },
     "execution_count": 13,
     "metadata": {},
     "output_type": "execute_result"
    }
   ],
   "source": [
    "df['datetime'] = df.index\n",
    "df['datetime'] = pd.to_datetime(df['datetime'], unit='s')\n",
    "df['dayofweek'] = df['datetime'].dt.dayofweek\n",
    "df['hour'] = df['datetime'].dt.hour\n",
    "df.head()"
   ]
  },
  {
   "cell_type": "markdown",
   "metadata": {},
   "source": [
    "## Differentiated signal"
   ]
  },
  {
   "cell_type": "code",
   "execution_count": 14,
   "metadata": {},
   "outputs": [
    {
     "data": {
      "text/html": [
       "<div>\n",
       "<style scoped>\n",
       "    .dataframe tbody tr th:only-of-type {\n",
       "        vertical-align: middle;\n",
       "    }\n",
       "\n",
       "    .dataframe tbody tr th {\n",
       "        vertical-align: top;\n",
       "    }\n",
       "\n",
       "    .dataframe thead th {\n",
       "        text-align: right;\n",
       "    }\n",
       "</style>\n",
       "<table border=\"1\" class=\"dataframe\">\n",
       "  <thead>\n",
       "    <tr style=\"text-align: right;\">\n",
       "      <th></th>\n",
       "      <th>Rune_axe</th>\n",
       "      <th>Rune_2h_sword</th>\n",
       "      <th>Rune_scimitar</th>\n",
       "      <th>Rune_chainbody</th>\n",
       "      <th>Rune_full_helm</th>\n",
       "      <th>Rune_kiteshield</th>\n",
       "      <th>datetime</th>\n",
       "      <th>dayofweek</th>\n",
       "      <th>hour</th>\n",
       "      <th>slope</th>\n",
       "    </tr>\n",
       "    <tr>\n",
       "      <th>timestamp</th>\n",
       "      <th></th>\n",
       "      <th></th>\n",
       "      <th></th>\n",
       "      <th></th>\n",
       "      <th></th>\n",
       "      <th></th>\n",
       "      <th></th>\n",
       "      <th></th>\n",
       "      <th></th>\n",
       "      <th></th>\n",
       "    </tr>\n",
       "  </thead>\n",
       "  <tbody>\n",
       "    <tr>\n",
       "      <th>1970-01-01 00:00:01.577227800</th>\n",
       "      <td>7196</td>\n",
       "      <td>37882</td>\n",
       "      <td>15022</td>\n",
       "      <td>29748</td>\n",
       "      <td>20602</td>\n",
       "      <td>32079</td>\n",
       "      <td>2019-12-24 22:50:00</td>\n",
       "      <td>1</td>\n",
       "      <td>22</td>\n",
       "      <td>14.0</td>\n",
       "    </tr>\n",
       "    <tr>\n",
       "      <th>1970-01-01 00:00:01.577229600</th>\n",
       "      <td>7123</td>\n",
       "      <td>37881</td>\n",
       "      <td>15036</td>\n",
       "      <td>29657</td>\n",
       "      <td>20600</td>\n",
       "      <td>32095</td>\n",
       "      <td>2019-12-24 23:20:00</td>\n",
       "      <td>1</td>\n",
       "      <td>23</td>\n",
       "      <td>-1.5</td>\n",
       "    </tr>\n",
       "    <tr>\n",
       "      <th>1970-01-01 00:00:01.577231400</th>\n",
       "      <td>7237</td>\n",
       "      <td>37821</td>\n",
       "      <td>15019</td>\n",
       "      <td>29577</td>\n",
       "      <td>20633</td>\n",
       "      <td>32340</td>\n",
       "      <td>2019-12-24 23:50:00</td>\n",
       "      <td>1</td>\n",
       "      <td>23</td>\n",
       "      <td>-9.0</td>\n",
       "    </tr>\n",
       "    <tr>\n",
       "      <th>1970-01-01 00:00:01.577233501</th>\n",
       "      <td>7250</td>\n",
       "      <td>37816</td>\n",
       "      <td>15018</td>\n",
       "      <td>29530</td>\n",
       "      <td>20634</td>\n",
       "      <td>32152</td>\n",
       "      <td>2019-12-25 00:25:01</td>\n",
       "      <td>2</td>\n",
       "      <td>0</td>\n",
       "      <td>-5.0</td>\n",
       "    </tr>\n",
       "    <tr>\n",
       "      <th>1970-01-01 00:00:01.577235300</th>\n",
       "      <td>7316</td>\n",
       "      <td>37819</td>\n",
       "      <td>15009</td>\n",
       "      <td>29743</td>\n",
       "      <td>20785</td>\n",
       "      <td>32119</td>\n",
       "      <td>2019-12-25 00:55:00</td>\n",
       "      <td>2</td>\n",
       "      <td>0</td>\n",
       "      <td>-5.0</td>\n",
       "    </tr>\n",
       "  </tbody>\n",
       "</table>\n",
       "</div>"
      ],
      "text/plain": [
       "                               Rune_axe  Rune_2h_sword  Rune_scimitar  \\\n",
       "timestamp                                                               \n",
       "1970-01-01 00:00:01.577227800      7196          37882          15022   \n",
       "1970-01-01 00:00:01.577229600      7123          37881          15036   \n",
       "1970-01-01 00:00:01.577231400      7237          37821          15019   \n",
       "1970-01-01 00:00:01.577233501      7250          37816          15018   \n",
       "1970-01-01 00:00:01.577235300      7316          37819          15009   \n",
       "\n",
       "                               Rune_chainbody  Rune_full_helm  \\\n",
       "timestamp                                                       \n",
       "1970-01-01 00:00:01.577227800           29748           20602   \n",
       "1970-01-01 00:00:01.577229600           29657           20600   \n",
       "1970-01-01 00:00:01.577231400           29577           20633   \n",
       "1970-01-01 00:00:01.577233501           29530           20634   \n",
       "1970-01-01 00:00:01.577235300           29743           20785   \n",
       "\n",
       "                               Rune_kiteshield            datetime  dayofweek  \\\n",
       "timestamp                                                                       \n",
       "1970-01-01 00:00:01.577227800            32079 2019-12-24 22:50:00          1   \n",
       "1970-01-01 00:00:01.577229600            32095 2019-12-24 23:20:00          1   \n",
       "1970-01-01 00:00:01.577231400            32340 2019-12-24 23:50:00          1   \n",
       "1970-01-01 00:00:01.577233501            32152 2019-12-25 00:25:01          2   \n",
       "1970-01-01 00:00:01.577235300            32119 2019-12-25 00:55:00          2   \n",
       "\n",
       "                               hour  slope  \n",
       "timestamp                                   \n",
       "1970-01-01 00:00:01.577227800    22   14.0  \n",
       "1970-01-01 00:00:01.577229600    23   -1.5  \n",
       "1970-01-01 00:00:01.577231400    23   -9.0  \n",
       "1970-01-01 00:00:01.577233501     0   -5.0  \n",
       "1970-01-01 00:00:01.577235300     0   -5.0  "
      ]
     },
     "execution_count": 14,
     "metadata": {},
     "output_type": "execute_result"
    }
   ],
   "source": [
    "tmp = df.copy()\n",
    "tmp.index = pd.to_datetime(tmp.index)\n",
    "\n",
    "slope = pd.Series(np.gradient(tmp[item_to_predict]), df.index, name='slope')\n",
    "\n",
    "tmp = pd.concat([tmp, slope], axis=1)\n",
    "tmp.head()"
   ]
  },
  {
   "cell_type": "markdown",
   "metadata": {},
   "source": [
    "## Appending features to main dataframe"
   ]
  },
  {
   "cell_type": "code",
   "execution_count": 15,
   "metadata": {},
   "outputs": [
    {
     "name": "stdout",
     "output_type": "stream",
     "text": [
      "(1076, 33)\n"
     ]
    },
    {
     "data": {
      "text/html": [
       "<div>\n",
       "<style scoped>\n",
       "    .dataframe tbody tr th:only-of-type {\n",
       "        vertical-align: middle;\n",
       "    }\n",
       "\n",
       "    .dataframe tbody tr th {\n",
       "        vertical-align: top;\n",
       "    }\n",
       "\n",
       "    .dataframe thead th {\n",
       "        text-align: right;\n",
       "    }\n",
       "</style>\n",
       "<table border=\"1\" class=\"dataframe\">\n",
       "  <thead>\n",
       "    <tr style=\"text-align: right;\">\n",
       "      <th></th>\n",
       "      <th>Rune_axe</th>\n",
       "      <th>Rune_2h_sword</th>\n",
       "      <th>Rune_scimitar</th>\n",
       "      <th>Rune_chainbody</th>\n",
       "      <th>Rune_full_helm</th>\n",
       "      <th>Rune_kiteshield</th>\n",
       "      <th>datetime</th>\n",
       "      <th>dayofweek</th>\n",
       "      <th>hour</th>\n",
       "      <th>MACD</th>\n",
       "      <th>...</th>\n",
       "      <th>Rune_chainbody_bq</th>\n",
       "      <th>Rune_full_helm_bq</th>\n",
       "      <th>Rune_kiteshield_bq</th>\n",
       "      <th>Rune_axe_sq</th>\n",
       "      <th>Rune_2h_sword_sq</th>\n",
       "      <th>Rune_scimitar_sq</th>\n",
       "      <th>Rune_chainbody_sq</th>\n",
       "      <th>Rune_full_helm_sq</th>\n",
       "      <th>Rune_kiteshield_sq</th>\n",
       "      <th>slope</th>\n",
       "    </tr>\n",
       "    <tr>\n",
       "      <th>timestamp</th>\n",
       "      <th></th>\n",
       "      <th></th>\n",
       "      <th></th>\n",
       "      <th></th>\n",
       "      <th></th>\n",
       "      <th></th>\n",
       "      <th></th>\n",
       "      <th></th>\n",
       "      <th></th>\n",
       "      <th></th>\n",
       "      <th></th>\n",
       "      <th></th>\n",
       "      <th></th>\n",
       "      <th></th>\n",
       "      <th></th>\n",
       "      <th></th>\n",
       "      <th></th>\n",
       "      <th></th>\n",
       "      <th></th>\n",
       "      <th></th>\n",
       "      <th></th>\n",
       "    </tr>\n",
       "  </thead>\n",
       "  <tbody>\n",
       "    <tr>\n",
       "      <th>1577246100</th>\n",
       "      <td>7165</td>\n",
       "      <td>37849</td>\n",
       "      <td>14984</td>\n",
       "      <td>29747</td>\n",
       "      <td>20687</td>\n",
       "      <td>32350</td>\n",
       "      <td>2019-12-25 03:55:00</td>\n",
       "      <td>2</td>\n",
       "      <td>3</td>\n",
       "      <td>-3.324748</td>\n",
       "      <td>...</td>\n",
       "      <td>1</td>\n",
       "      <td>2</td>\n",
       "      <td>1</td>\n",
       "      <td>71</td>\n",
       "      <td>16</td>\n",
       "      <td>40</td>\n",
       "      <td>20</td>\n",
       "      <td>113</td>\n",
       "      <td>122</td>\n",
       "      <td>38.0</td>\n",
       "    </tr>\n",
       "    <tr>\n",
       "      <th>1577247901</th>\n",
       "      <td>7169</td>\n",
       "      <td>37830</td>\n",
       "      <td>15050</td>\n",
       "      <td>29747</td>\n",
       "      <td>20687</td>\n",
       "      <td>32046</td>\n",
       "      <td>2019-12-25 04:25:01</td>\n",
       "      <td>2</td>\n",
       "      <td>4</td>\n",
       "      <td>-0.471082</td>\n",
       "      <td>...</td>\n",
       "      <td>1</td>\n",
       "      <td>2</td>\n",
       "      <td>112</td>\n",
       "      <td>68</td>\n",
       "      <td>15</td>\n",
       "      <td>37</td>\n",
       "      <td>13</td>\n",
       "      <td>136</td>\n",
       "      <td>123</td>\n",
       "      <td>32.0</td>\n",
       "    </tr>\n",
       "    <tr>\n",
       "      <th>1577249700</th>\n",
       "      <td>7163</td>\n",
       "      <td>37875</td>\n",
       "      <td>15048</td>\n",
       "      <td>29747</td>\n",
       "      <td>20798</td>\n",
       "      <td>32047</td>\n",
       "      <td>2019-12-25 04:55:00</td>\n",
       "      <td>2</td>\n",
       "      <td>4</td>\n",
       "      <td>1.538547</td>\n",
       "      <td>...</td>\n",
       "      <td>1</td>\n",
       "      <td>11</td>\n",
       "      <td>202</td>\n",
       "      <td>52</td>\n",
       "      <td>18</td>\n",
       "      <td>42</td>\n",
       "      <td>12</td>\n",
       "      <td>136</td>\n",
       "      <td>68</td>\n",
       "      <td>-47.0</td>\n",
       "    </tr>\n",
       "    <tr>\n",
       "      <th>1577251500</th>\n",
       "      <td>7194</td>\n",
       "      <td>37915</td>\n",
       "      <td>14956</td>\n",
       "      <td>29747</td>\n",
       "      <td>20798</td>\n",
       "      <td>32090</td>\n",
       "      <td>2019-12-25 05:25:00</td>\n",
       "      <td>2</td>\n",
       "      <td>5</td>\n",
       "      <td>-2.309169</td>\n",
       "      <td>...</td>\n",
       "      <td>1</td>\n",
       "      <td>11</td>\n",
       "      <td>155</td>\n",
       "      <td>52</td>\n",
       "      <td>315</td>\n",
       "      <td>29</td>\n",
       "      <td>14</td>\n",
       "      <td>122</td>\n",
       "      <td>96</td>\n",
       "      <td>-32.5</td>\n",
       "    </tr>\n",
       "    <tr>\n",
       "      <th>1577253301</th>\n",
       "      <td>7186</td>\n",
       "      <td>37907</td>\n",
       "      <td>14983</td>\n",
       "      <td>29420</td>\n",
       "      <td>20573</td>\n",
       "      <td>32131</td>\n",
       "      <td>2019-12-25 05:55:01</td>\n",
       "      <td>2</td>\n",
       "      <td>5</td>\n",
       "      <td>-3.579239</td>\n",
       "      <td>...</td>\n",
       "      <td>1</td>\n",
       "      <td>355</td>\n",
       "      <td>86</td>\n",
       "      <td>519</td>\n",
       "      <td>308</td>\n",
       "      <td>19</td>\n",
       "      <td>548</td>\n",
       "      <td>1702</td>\n",
       "      <td>120</td>\n",
       "      <td>27.0</td>\n",
       "    </tr>\n",
       "  </tbody>\n",
       "</table>\n",
       "<p>5 rows × 33 columns</p>\n",
       "</div>"
      ],
      "text/plain": [
       "            Rune_axe  Rune_2h_sword  Rune_scimitar  Rune_chainbody  \\\n",
       "timestamp                                                            \n",
       "1577246100      7165          37849          14984           29747   \n",
       "1577247901      7169          37830          15050           29747   \n",
       "1577249700      7163          37875          15048           29747   \n",
       "1577251500      7194          37915          14956           29747   \n",
       "1577253301      7186          37907          14983           29420   \n",
       "\n",
       "            Rune_full_helm  Rune_kiteshield            datetime  dayofweek  \\\n",
       "timestamp                                                                    \n",
       "1577246100           20687            32350 2019-12-25 03:55:00          2   \n",
       "1577247901           20687            32046 2019-12-25 04:25:01          2   \n",
       "1577249700           20798            32047 2019-12-25 04:55:00          2   \n",
       "1577251500           20798            32090 2019-12-25 05:25:00          2   \n",
       "1577253301           20573            32131 2019-12-25 05:55:01          2   \n",
       "\n",
       "            hour      MACD  ...  Rune_chainbody_bq  Rune_full_helm_bq  \\\n",
       "timestamp                   ...                                         \n",
       "1577246100     3 -3.324748  ...                  1                  2   \n",
       "1577247901     4 -0.471082  ...                  1                  2   \n",
       "1577249700     4  1.538547  ...                  1                 11   \n",
       "1577251500     5 -2.309169  ...                  1                 11   \n",
       "1577253301     5 -3.579239  ...                  1                355   \n",
       "\n",
       "            Rune_kiteshield_bq  Rune_axe_sq  Rune_2h_sword_sq  \\\n",
       "timestamp                                                       \n",
       "1577246100                   1           71                16   \n",
       "1577247901                 112           68                15   \n",
       "1577249700                 202           52                18   \n",
       "1577251500                 155           52               315   \n",
       "1577253301                  86          519               308   \n",
       "\n",
       "            Rune_scimitar_sq  Rune_chainbody_sq  Rune_full_helm_sq  \\\n",
       "timestamp                                                            \n",
       "1577246100                40                 20                113   \n",
       "1577247901                37                 13                136   \n",
       "1577249700                42                 12                136   \n",
       "1577251500                29                 14                122   \n",
       "1577253301                19                548               1702   \n",
       "\n",
       "            Rune_kiteshield_sq  slope  \n",
       "timestamp                              \n",
       "1577246100                 122   38.0  \n",
       "1577247901                 123   32.0  \n",
       "1577249700                  68  -47.0  \n",
       "1577251500                  96  -32.5  \n",
       "1577253301                 120   27.0  \n",
       "\n",
       "[5 rows x 33 columns]"
      ]
     },
     "execution_count": 15,
     "metadata": {},
     "output_type": "execute_result"
    }
   ],
   "source": [
    "df = pd.concat([df,finance_features, sell_average, buy_quantity, sell_quantity, slope], axis=1)\n",
    "df = df.dropna()\n",
    "print(df.shape)\n",
    "df.head()"
   ]
  },
  {
   "cell_type": "markdown",
   "metadata": {},
   "source": [
    "# Time Series Analysis"
   ]
  },
  {
   "cell_type": "code",
   "execution_count": 16,
   "metadata": {
    "colab": {},
    "colab_type": "code",
    "collapsed": true,
    "id": "7AoxQuTrWIbi"
   },
   "outputs": [],
   "source": [
    "def univariate_data(dataset, start_index, end_index, history_size, target_size):\n",
    "  data = []\n",
    "  labels = []\n",
    "\n",
    "  start_index = start_index + history_size\n",
    "  if end_index is None:\n",
    "    end_index = len(dataset) - target_size\n",
    "\n",
    "  for i in range(start_index, end_index):\n",
    "    indices = range(i-history_size, i)\n",
    "    # Reshape data from (history_size,) to (history_size, 1)\n",
    "    data.append(np.reshape(dataset[indices], (history_size, 1)))\n",
    "    labels.append(dataset[i+target_size])\n",
    "  return np.array(data), np.array(labels)"
   ]
  },
  {
   "cell_type": "code",
   "execution_count": 17,
   "metadata": {
    "colab": {},
    "colab_type": "code",
    "collapsed": true,
    "id": "ia-MPAHxbInX"
   },
   "outputs": [],
   "source": [
    "TRAIN_SPLIT = 750"
   ]
  },
  {
   "cell_type": "code",
   "execution_count": 18,
   "metadata": {
    "colab": {},
    "colab_type": "code",
    "collapsed": true,
    "id": "-x-GgENynHdx"
   },
   "outputs": [],
   "source": [
    "tf.random.set_seed(13)"
   ]
  },
  {
   "cell_type": "markdown",
   "metadata": {
    "colab_type": "text",
    "id": "8YEwr-NoWUpV"
   },
   "source": [
    "## Part 1: Univariate time series"
   ]
  },
  {
   "cell_type": "code",
   "execution_count": 19,
   "metadata": {
    "colab": {},
    "colab_type": "code",
    "id": "nbdcnm1_WIY9"
   },
   "outputs": [
    {
     "data": {
      "text/plain": [
       "timestamp\n",
       "1577246100    14984\n",
       "1577247901    15050\n",
       "1577249700    15048\n",
       "1577251500    14956\n",
       "1577253301    14983\n",
       "Name: Rune_scimitar, dtype: int64"
      ]
     },
     "execution_count": 19,
     "metadata": {},
     "output_type": "execute_result"
    }
   ],
   "source": [
    "uni_data = df[item_to_predict]\n",
    "uni_data.head()"
   ]
  },
  {
   "cell_type": "code",
   "execution_count": 20,
   "metadata": {
    "colab": {},
    "colab_type": "code",
    "id": "ftOExwAqWXSU"
   },
   "outputs": [
    {
     "data": {
      "text/plain": [
       "array([<matplotlib.axes._subplots.AxesSubplot object at 0x0000024500A315F8>],\n",
       "      dtype=object)"
      ]
     },
     "execution_count": 20,
     "metadata": {},
     "output_type": "execute_result"
    },
    {
     "data": {
      "image/png": "[encoded data removed]",
      "text/plain": [
       "<Figure size 432x288 with 1 Axes>"
      ]
     },
     "metadata": {
      "needs_background": "light"
     },
     "output_type": "display_data"
    }
   ],
   "source": [
    "uni_data.plot(subplots=True)"
   ]
  },
  {
   "cell_type": "code",
   "execution_count": 21,
   "metadata": {
    "colab": {},
    "colab_type": "code",
    "collapsed": true,
    "id": "ejSEiDqBWXQa"
   },
   "outputs": [],
   "source": [
    "uni_data = uni_data.values"
   ]
  },
  {
   "cell_type": "code",
   "execution_count": 22,
   "metadata": {
    "colab": {},
    "colab_type": "code",
    "collapsed": true,
    "id": "Eji6njXvHusN"
   },
   "outputs": [],
   "source": [
    "uni_train_mean = uni_data[:TRAIN_SPLIT].mean()\n",
    "uni_train_std = uni_data[:TRAIN_SPLIT].std()"
   ]
  },
  {
   "cell_type": "code",
   "execution_count": 23,
   "metadata": {
    "colab": {},
    "colab_type": "code",
    "collapsed": true,
    "id": "BO55yRD6H0Dx"
   },
   "outputs": [],
   "source": [
    "uni_data = (uni_data-uni_train_mean)/uni_train_std"
   ]
  },
  {
   "cell_type": "code",
   "execution_count": 24,
   "metadata": {
    "colab": {},
    "colab_type": "code",
    "collapsed": true,
    "id": "aJJ-T49vWXOZ"
   },
   "outputs": [],
   "source": [
    "univariate_past_history = 30\n",
    "univariate_future_target = 0\n",
    "\n",
    "x_train_uni, y_train_uni = univariate_data(uni_data, 0, TRAIN_SPLIT,\n",
    "                                           univariate_past_history,\n",
    "                                           univariate_future_target)\n",
    "x_val_uni, y_val_uni = univariate_data(uni_data, TRAIN_SPLIT, None,\n",
    "                                       univariate_past_history,\n",
    "                                       univariate_future_target)"
   ]
  },
  {
   "cell_type": "code",
   "execution_count": 25,
   "metadata": {
    "colab": {},
    "colab_type": "code",
    "id": "feDd95XFdz5H"
   },
   "outputs": [
    {
     "name": "stdout",
     "output_type": "stream",
     "text": [
      "Single window of past history\n",
      "[[-0.56791607]\n",
      " [ 0.44933906]\n",
      " [ 0.41851315]\n",
      " [-0.99947886]\n",
      " [-0.58332903]\n",
      " [-0.1671792 ]\n",
      " [ 0.15649289]\n",
      " [ 0.68053341]\n",
      " [ 0.81925002]\n",
      " [ 0.69594637]\n",
      " [-0.13635329]\n",
      " [-0.21341807]\n",
      " [ 0.44933906]\n",
      " [ 0.44933906]\n",
      " [ 0.43392611]\n",
      " [ 0.43392611]\n",
      " [ 0.58805567]\n",
      " [ 0.01777628]\n",
      " [-0.19800512]\n",
      " [ 0.92714072]\n",
      " [-0.49085129]\n",
      " [-0.6295679 ]\n",
      " [-1.52351938]\n",
      " [-1.10736956]\n",
      " [-0.59874199]\n",
      " [-0.6295679 ]\n",
      " [-0.2750699 ]\n",
      " [ 0.04860219]\n",
      " [-0.19800512]\n",
      " [-0.93782703]]\n",
      "\n",
      " Target to predict\n",
      "0.01777627662747813\n"
     ]
    }
   ],
   "source": [
    "print ('Single window of past history')\n",
    "print (x_train_uni[0])\n",
    "print ('\\n Target to predict')\n",
    "print (y_train_uni[0])"
   ]
  },
  {
   "cell_type": "code",
   "execution_count": 26,
   "metadata": {
    "colab": {},
    "colab_type": "code",
    "collapsed": true,
    "id": "qVukM9dRipop"
   },
   "outputs": [],
   "source": [
    "def create_time_steps(length):\n",
    "  time_steps = []\n",
    "  for i in range(-length, 0, 1):\n",
    "    time_steps.append(i)\n",
    "  return time_steps"
   ]
  },
  {
   "cell_type": "code",
   "execution_count": 27,
   "metadata": {
    "colab": {},
    "colab_type": "code",
    "collapsed": true,
    "id": "QQeGvh7cWXMR"
   },
   "outputs": [],
   "source": [
    "def show_plot(plot_data, delta, title):\n",
    "  labels = ['History', 'True Future', 'Model Prediction']\n",
    "  marker = ['.-', 'rx', 'go']\n",
    "  time_steps = create_time_steps(plot_data[0].shape[0])\n",
    "  if delta:\n",
    "    future = delta\n",
    "  else:\n",
    "    future = 0\n",
    "\n",
    "  plt.title(title)\n",
    "  for i, x in enumerate(plot_data):\n",
    "    if i:\n",
    "      plt.plot(future, plot_data[i], marker[i], markersize=10,\n",
    "               label=labels[i])\n",
    "    else:\n",
    "      plt.plot(time_steps, plot_data[i].flatten(), marker[i], label=labels[i])\n",
    "  plt.legend()\n",
    "  plt.xlim([time_steps[0], (future+5)*2])\n",
    "  plt.xlabel('Time-Step')\n",
    "  return plt"
   ]
  },
  {
   "cell_type": "code",
   "execution_count": 28,
   "metadata": {
    "colab": {},
    "colab_type": "code",
    "id": "Pd05iV-UWXKL"
   },
   "outputs": [
    {
     "data": {
      "image/png": "[encoded data removed]",
      "text/plain": [
       "<Figure size 432x288 with 1 Axes>"
      ]
     },
     "metadata": {
      "needs_background": "light"
     },
     "output_type": "display_data"
    }
   ],
   "source": [
    "plot = show_plot([x_train_uni[0], y_train_uni[0]], 0, 'Sample Example')\n",
    "plot.show()"
   ]
  },
  {
   "cell_type": "markdown",
   "metadata": {
    "colab_type": "text",
    "id": "b5rUJ_2YMWzG"
   },
   "source": [
    "### Baseline\n"
   ]
  },
  {
   "cell_type": "code",
   "execution_count": 29,
   "metadata": {
    "colab": {},
    "colab_type": "code",
    "collapsed": true,
    "id": "P9nYWcxMMWnr"
   },
   "outputs": [],
   "source": [
    "def baseline(history):\n",
    "  return np.mean(history)"
   ]
  },
  {
   "cell_type": "code",
   "execution_count": 30,
   "metadata": {
    "colab": {},
    "colab_type": "code",
    "id": "KMcdFYKQMWlm"
   },
   "outputs": [
    {
     "data": {
      "image/png": "[encoded data removed]",
      "text/plain": [
       "<Figure size 432x288 with 1 Axes>"
      ]
     },
     "metadata": {
      "needs_background": "light"
     },
     "output_type": "display_data"
    }
   ],
   "source": [
    "plot = show_plot([x_train_uni[0], y_train_uni[0], baseline(x_train_uni[0])], 0,\n",
    "           'Baseline Prediction Example')\n",
    "plot.show()"
   ]
  },
  {
   "cell_type": "markdown",
   "metadata": {
    "colab_type": "text",
    "id": "H4crpOcoMlSe"
   },
   "source": [
    "### Recurrent neural network"
   ]
  },
  {
   "cell_type": "code",
   "execution_count": 97,
   "metadata": {
    "colab": {},
    "colab_type": "code",
    "collapsed": true,
    "id": "kk-evkrmMWh9"
   },
   "outputs": [],
   "source": [
    "BATCH_SIZE = 32\n",
    "BUFFER_SIZE = 30\n",
    "\n",
    "train_univariate = tf.data.Dataset.from_tensor_slices((x_train_uni, y_train_uni))\n",
    "train_univariate = train_univariate.cache().shuffle(BUFFER_SIZE).batch(BATCH_SIZE).repeat()\n",
    "\n",
    "val_univariate = tf.data.Dataset.from_tensor_slices((x_val_uni, y_val_uni))\n",
    "val_univariate = val_univariate.batch(BATCH_SIZE).repeat()"
   ]
  },
  {
   "cell_type": "code",
   "execution_count": 98,
   "metadata": {
    "colab": {},
    "colab_type": "code",
    "id": "IDbpHosCMWZO"
   },
   "outputs": [],
   "source": [
    "simple_lstm_model = tf.keras.models.Sequential([\n",
    "    tf.keras.layers.LSTM(8, input_shape=x_train_uni.shape[-2:]),\n",
    "    tf.keras.layers.Dense(1)\n",
    "])\n",
    "\n",
    "simple_lstm_model.compile(optimizer='adam', loss='mae')"
   ]
  },
  {
   "cell_type": "code",
   "execution_count": 99,
   "metadata": {
    "colab": {},
    "colab_type": "code",
    "id": "2mPZbIKCMtLR"
   },
   "outputs": [
    {
     "name": "stdout",
     "output_type": "stream",
     "text": [
      "(32, 1)\n"
     ]
    }
   ],
   "source": [
    "for x, y in val_univariate.take(1):\n",
    "    print(simple_lstm_model.predict(x).shape)"
   ]
  },
  {
   "cell_type": "code",
   "execution_count": 100,
   "metadata": {
    "colab": {},
    "colab_type": "code",
    "id": "0opH9xi5MtIk"
   },
   "outputs": [
    {
     "name": "stdout",
     "output_type": "stream",
     "text": [
      "Train for 200 steps, validate for 50 steps\n",
      "Epoch 1/10\n",
      "200/200 [==============================] - 6s 28ms/step - loss: 0.6326 - val_loss: 0.5844\n",
      "Epoch 2/10\n",
      "200/200 [==============================] - 3s 14ms/step - loss: 0.5924 - val_loss: 0.5469\n",
      "Epoch 3/10\n",
      "200/200 [==============================] - 3s 14ms/step - loss: 0.5457 - val_loss: 0.5113\n",
      "Epoch 4/10\n",
      "200/200 [==============================] - 3s 14ms/step - loss: 0.5119 - val_loss: 0.4892\n",
      "Epoch 5/10\n",
      "200/200 [==============================] - 3s 15ms/step - loss: 0.5060 - val_loss: 0.4880\n",
      "Epoch 6/10\n",
      "200/200 [==============================] - 3s 15ms/step - loss: 0.4985 - val_loss: 0.4882\n",
      "Epoch 7/10\n",
      "200/200 [==============================] - 3s 15ms/step - loss: 0.4965 - val_loss: 0.4882\n",
      "Epoch 8/10\n",
      "200/200 [==============================] - 3s 17ms/step - loss: 0.4968 - val_loss: 0.4884\n",
      "Epoch 9/10\n",
      "200/200 [==============================] - 3s 15ms/step - loss: 0.4949 - val_loss: 0.4898\n",
      "Epoch 10/10\n",
      "200/200 [==============================] - 3s 14ms/step - loss: 0.4919 - val_loss: 0.4902\n"
     ]
    },
    {
     "data": {
      "text/plain": [
       "<tensorflow.python.keras.callbacks.History at 0x24537064f28>"
      ]
     },
     "execution_count": 100,
     "metadata": {},
     "output_type": "execute_result"
    }
   ],
   "source": [
    "EVALUATION_INTERVAL = 200\n",
    "EPOCHS = 10\n",
    "\n",
    "simple_lstm_model.fit(train_univariate, epochs=EPOCHS,\n",
    "                      steps_per_epoch=EVALUATION_INTERVAL,\n",
    "                      validation_data=val_univariate, validation_steps=50)"
   ]
  },
  {
   "cell_type": "markdown",
   "metadata": {
    "colab_type": "text",
    "id": "euyPo_lyNryZ"
   },
   "source": [
    "#### Predict using the simple LSTM model\n"
   ]
  },
  {
   "cell_type": "code",
   "execution_count": 101,
   "metadata": {
    "colab": {},
    "colab_type": "code",
    "id": "S2rRLrs8MtGU"
   },
   "outputs": [
    {
     "data": {
      "image/png": "[encoded data removed]",
      "text/plain": [
       "<Figure size 432x288 with 1 Axes>"
      ]
     },
     "metadata": {
      "needs_background": "light"
     },
     "output_type": "display_data"
    },
    {
     "data": {
      "image/png": "[encoded data removed]",
      "text/plain": [
       "<Figure size 432x288 with 1 Axes>"
      ]
     },
     "metadata": {
      "needs_background": "light"
     },
     "output_type": "display_data"
    },
    {
     "data": {
      "image/png": "[encoded data removed]",
      "text/plain": [
       "<Figure size 432x288 with 1 Axes>"
      ]
     },
     "metadata": {
      "needs_background": "light"
     },
     "output_type": "display_data"
    }
   ],
   "source": [
    "for x, y in val_univariate.take(3):\n",
    "  plot = show_plot([x[0].numpy(), y[0].numpy(),\n",
    "                    simple_lstm_model.predict(x)[0]], 0, 'Simple LSTM model')\n",
    "  plot.show()"
   ]
  },
  {
   "cell_type": "markdown",
   "metadata": {
    "colab_type": "text",
    "id": "VlJYi3_HXcw8"
   },
   "source": [
    "## Part 2: Multivariate time series"
   ]
  },
  {
   "cell_type": "code",
   "execution_count": 127,
   "metadata": {
    "collapsed": true
   },
   "outputs": [],
   "source": [
    "features_considered = ['slope', item_to_predict]\n",
    "# ['MACD', 'RSI', 'SMA', 'Rune_axe', 'Rune_axe_bq', 'Rune_axe_sq', 'Rune_axe_sa', 'hour', 'dayofweek', 'slope'\n",
    "# 'Rune_2h_sword', 'Rune_scimitar', 'Rune_chainbody', 'Rune_full_helm', 'Rune_kiteshield']"
   ]
  },
  {
   "cell_type": "code",
   "execution_count": 128,
   "metadata": {
    "colab": {},
    "colab_type": "code",
    "id": "IfQUSiJfUpXJ"
   },
   "outputs": [
    {
     "data": {
      "text/html": [
       "<div>\n",
       "<style scoped>\n",
       "    .dataframe tbody tr th:only-of-type {\n",
       "        vertical-align: middle;\n",
       "    }\n",
       "\n",
       "    .dataframe tbody tr th {\n",
       "        vertical-align: top;\n",
       "    }\n",
       "\n",
       "    .dataframe thead th {\n",
       "        text-align: right;\n",
       "    }\n",
       "</style>\n",
       "<table border=\"1\" class=\"dataframe\">\n",
       "  <thead>\n",
       "    <tr style=\"text-align: right;\">\n",
       "      <th></th>\n",
       "      <th>slope</th>\n",
       "      <th>Rune_scimitar</th>\n",
       "    </tr>\n",
       "    <tr>\n",
       "      <th>timestamp</th>\n",
       "      <th></th>\n",
       "      <th></th>\n",
       "    </tr>\n",
       "  </thead>\n",
       "  <tbody>\n",
       "    <tr>\n",
       "      <th>1577246100</th>\n",
       "      <td>38.0</td>\n",
       "      <td>14984</td>\n",
       "    </tr>\n",
       "    <tr>\n",
       "      <th>1577247901</th>\n",
       "      <td>32.0</td>\n",
       "      <td>15050</td>\n",
       "    </tr>\n",
       "    <tr>\n",
       "      <th>1577249700</th>\n",
       "      <td>-47.0</td>\n",
       "      <td>15048</td>\n",
       "    </tr>\n",
       "    <tr>\n",
       "      <th>1577251500</th>\n",
       "      <td>-32.5</td>\n",
       "      <td>14956</td>\n",
       "    </tr>\n",
       "    <tr>\n",
       "      <th>1577253301</th>\n",
       "      <td>27.0</td>\n",
       "      <td>14983</td>\n",
       "    </tr>\n",
       "  </tbody>\n",
       "</table>\n",
       "</div>"
      ],
      "text/plain": [
       "            slope  Rune_scimitar\n",
       "timestamp                       \n",
       "1577246100   38.0          14984\n",
       "1577247901   32.0          15050\n",
       "1577249700  -47.0          15048\n",
       "1577251500  -32.5          14956\n",
       "1577253301   27.0          14983"
      ]
     },
     "execution_count": 128,
     "metadata": {},
     "output_type": "execute_result"
    }
   ],
   "source": [
    "features = df[features_considered]\n",
    "# features.index = df['timestamp']\n",
    "features.head()"
   ]
  },
  {
   "cell_type": "code",
   "execution_count": 129,
   "metadata": {
    "colab": {},
    "colab_type": "code",
    "id": "QdgC8zvGr21X"
   },
   "outputs": [
    {
     "data": {
      "text/plain": [
       "array([<matplotlib.axes._subplots.AxesSubplot object at 0x00000245443AFFD0>,\n",
       "       <matplotlib.axes._subplots.AxesSubplot object at 0x000002454463F470>],\n",
       "      dtype=object)"
      ]
     },
     "execution_count": 129,
     "metadata": {},
     "output_type": "execute_result"
    },
    {
     "data": {
      "image/png": "[encoded data removed]",
      "text/plain": [
       "<Figure size 432x288 with 2 Axes>"
      ]
     },
     "metadata": {
      "needs_background": "light"
     },
     "output_type": "display_data"
    }
   ],
   "source": [
    "features.plot(subplots=True)"
   ]
  },
  {
   "cell_type": "code",
   "execution_count": 130,
   "metadata": {
    "colab": {},
    "colab_type": "code",
    "collapsed": true,
    "id": "W7VuNIwfHRHx"
   },
   "outputs": [],
   "source": [
    "dataset = features.values\n",
    "data_mean = dataset[:TRAIN_SPLIT].mean(axis=0)\n",
    "data_std = dataset[:TRAIN_SPLIT].std(axis=0)"
   ]
  },
  {
   "cell_type": "code",
   "execution_count": 131,
   "metadata": {
    "colab": {},
    "colab_type": "code",
    "collapsed": true,
    "id": "eJUeWDqploCt"
   },
   "outputs": [],
   "source": [
    "dataset = (dataset-data_mean)/data_std"
   ]
  },
  {
   "cell_type": "markdown",
   "metadata": {
    "colab_type": "text",
    "id": "LyuGuJUgjUK3"
   },
   "source": [
    "### Single step model"
   ]
  },
  {
   "cell_type": "code",
   "execution_count": 132,
   "metadata": {
    "colab": {},
    "colab_type": "code",
    "collapsed": true,
    "id": "d-rVX4d3OF86"
   },
   "outputs": [],
   "source": [
    "def multivariate_data(dataset, target, start_index, end_index, history_size,\n",
    "                      target_size, step, single_step=False):\n",
    "  data = []\n",
    "  labels = []\n",
    "\n",
    "  start_index = start_index + history_size\n",
    "  if end_index is None:\n",
    "    end_index = len(dataset) - target_size\n",
    "\n",
    "  for i in range(start_index, end_index):\n",
    "    indices = range(i-history_size, i, step)\n",
    "    data.append(dataset[indices])\n",
    "\n",
    "    if single_step:\n",
    "      labels.append(target[i+target_size])\n",
    "    else:\n",
    "      labels.append(target[i:i+target_size])\n",
    "\n",
    "  return np.array(data), np.array(labels)"
   ]
  },
  {
   "cell_type": "code",
   "execution_count": 133,
   "metadata": {
    "colab": {},
    "colab_type": "code",
    "collapsed": true,
    "id": "HlhVGzPhmMYI"
   },
   "outputs": [],
   "source": [
    "past_history = 30\n",
    "future_target = 1\n",
    "STEP = 1\n",
    "\n",
    "x_train_single, y_train_single = multivariate_data(dataset, dataset[:, 1], 0,\n",
    "                                                   TRAIN_SPLIT, past_history,\n",
    "                                                   future_target, STEP,\n",
    "                                                   single_step=True)\n",
    "x_val_single, y_val_single = multivariate_data(dataset, dataset[:, 1],\n",
    "                                               TRAIN_SPLIT, None, past_history,\n",
    "                                               future_target, STEP,\n",
    "                                               single_step=True)"
   ]
  },
  {
   "cell_type": "code",
   "execution_count": 134,
   "metadata": {
    "colab": {},
    "colab_type": "code",
    "id": "_tVKm-ZIPls0"
   },
   "outputs": [
    {
     "name": "stdout",
     "output_type": "stream",
     "text": [
      "Single window of past history : (30, 2)\n"
     ]
    }
   ],
   "source": [
    "print ('Single window of past history : {}'.format(x_train_single[0].shape))"
   ]
  },
  {
   "cell_type": "code",
   "execution_count": 135,
   "metadata": {
    "colab": {},
    "colab_type": "code",
    "collapsed": true,
    "id": "eCWG4xgQ3O6E"
   },
   "outputs": [],
   "source": [
    "train_data_single = tf.data.Dataset.from_tensor_slices((x_train_single, y_train_single))\n",
    "train_data_single = train_data_single.cache().shuffle(BUFFER_SIZE).batch(BATCH_SIZE).repeat()\n",
    "\n",
    "val_data_single = tf.data.Dataset.from_tensor_slices((x_val_single, y_val_single))\n",
    "val_data_single = val_data_single.batch(BATCH_SIZE).repeat()"
   ]
  },
  {
   "cell_type": "code",
   "execution_count": 162,
   "metadata": {
    "colab": {},
    "colab_type": "code",
    "collapsed": true,
    "id": "0aWec9_nlxBl"
   },
   "outputs": [],
   "source": [
    "single_step_model = tf.keras.models.Sequential()\n",
    "single_step_model.add(tf.keras.layers.LSTM(32, input_shape=x_train_single.shape[-2:]))\n",
    "single_step_model.add(tf.keras.layers.Dense(1))\n",
    "single_step_model.add(tf.keras.layers.Dropout(0.2))\n",
    "single_step_model.add(tf.keras.layers.Dense(1))\n",
    "single_step_model.add(tf.keras.layers.Dropout(0.2))\n",
    "single_step_model.add(tf.keras.layers.Dense(1))\n",
    "\n",
    "single_step_model.compile(optimizer=tf.keras.optimizers.RMSprop(), loss='mae') #learning_rate=0.001"
   ]
  },
  {
   "cell_type": "code",
   "execution_count": 163,
   "metadata": {
    "colab": {},
    "colab_type": "code",
    "id": "yY7FodHVOPsH"
   },
   "outputs": [
    {
     "name": "stdout",
     "output_type": "stream",
     "text": [
      "(32, 1)\n"
     ]
    }
   ],
   "source": [
    "for x, y in val_data_single.take(1):\n",
    "  print(single_step_model.predict(x).shape)"
   ]
  },
  {
   "cell_type": "code",
   "execution_count": 164,
   "metadata": {
    "colab": {},
    "colab_type": "code",
    "id": "U0jnt2l2mwkl"
   },
   "outputs": [
    {
     "name": "stdout",
     "output_type": "stream",
     "text": [
      "Train for 400 steps, validate for 50 steps\n",
      "Epoch 1/10\n",
      "400/400 [==============================] - 11s 28ms/step - loss: 0.7401 - val_loss: 0.6506\n",
      "Epoch 2/10\n",
      "400/400 [==============================] - 7s 17ms/step - loss: 0.7101 - val_loss: 0.6462\n",
      "Epoch 3/10\n",
      "400/400 [==============================] - 7s 17ms/step - loss: 0.7095 - val_loss: 0.6473\n",
      "Epoch 4/10\n",
      "400/400 [==============================] - 7s 17ms/step - loss: 0.7122 - val_loss: 0.6478\n",
      "Epoch 5/10\n",
      "400/400 [==============================] - 7s 17ms/step - loss: 0.7058 - val_loss: 0.6453\n",
      "Epoch 6/10\n",
      "400/400 [==============================] - 7s 17ms/step - loss: 0.7066 - val_loss: 0.6458\n",
      "Epoch 7/10\n",
      "400/400 [==============================] - 7s 17ms/step - loss: 0.7051 - val_loss: 0.6457\n",
      "Epoch 8/10\n",
      "400/400 [==============================] - 7s 18ms/step - loss: 0.7032 - val_loss: 0.6462\n",
      "Epoch 9/10\n",
      "400/400 [==============================] - 7s 18ms/step - loss: 0.7071 - val_loss: 0.6478\n",
      "Epoch 10/10\n",
      "400/400 [==============================] - 7s 18ms/step - loss: 0.7037 - val_loss: 0.6452\n"
     ]
    }
   ],
   "source": [
    "single_step_history = single_step_model.fit(train_data_single, epochs=EPOCHS,\n",
    "                                            steps_per_epoch=EVALUATION_INTERVAL,\n",
    "                                            validation_data=val_data_single,\n",
    "                                            validation_steps=50)"
   ]
  },
  {
   "cell_type": "code",
   "execution_count": 165,
   "metadata": {
    "colab": {},
    "colab_type": "code",
    "collapsed": true,
    "id": "-ZAdeAnP5c72"
   },
   "outputs": [],
   "source": [
    "def plot_train_history(history, title):\n",
    "  loss = history.history['loss']\n",
    "  val_loss = history.history['val_loss']\n",
    "\n",
    "  epochs = range(len(loss))\n",
    "\n",
    "  plt.figure()\n",
    "\n",
    "  plt.plot(epochs, loss, 'b', label='Training loss')\n",
    "  plt.plot(epochs, val_loss, 'r', label='Validation loss')\n",
    "  plt.title(title)\n",
    "  plt.legend()\n",
    "\n",
    "  plt.show()"
   ]
  },
  {
   "cell_type": "code",
   "execution_count": 166,
   "metadata": {
    "colab": {},
    "colab_type": "code",
    "id": "l8lBKA-z5yYV"
   },
   "outputs": [
    {
     "data": {
      "image/png": "[encoded data removed]",
      "text/plain": [
       "<Figure size 640x480 with 1 Axes>"
      ]
     },
     "metadata": {},
     "output_type": "display_data"
    }
   ],
   "source": [
    "plot_train_history(single_step_history,\n",
    "                   'Single Step Training and validation loss')"
   ]
  },
  {
   "cell_type": "markdown",
   "metadata": {
    "colab_type": "text",
    "id": "DfjrGAlEUp7i"
   },
   "source": [
    "#### Predict a single step future"
   ]
  },
  {
   "cell_type": "code",
   "execution_count": 141,
   "metadata": {
    "colab": {},
    "colab_type": "code",
    "id": "h1qmPLLVUpuN"
   },
   "outputs": [
    {
     "data": {
      "image/png": "[encoded data removed]",
      "text/plain": [
       "<Figure size 432x288 with 1 Axes>"
      ]
     },
     "metadata": {
      "needs_background": "light"
     },
     "output_type": "display_data"
    },
    {
     "data": {
      "image/png": "[encoded data removed]",
      "text/plain": [
       "<Figure size 432x288 with 1 Axes>"
      ]
     },
     "metadata": {
      "needs_background": "light"
     },
     "output_type": "display_data"
    },
    {
     "data": {
      "image/png": "[encoded data removed]",
      "text/plain": [
       "<Figure size 432x288 with 1 Axes>"
      ]
     },
     "metadata": {
      "needs_background": "light"
     },
     "output_type": "display_data"
    }
   ],
   "source": [
    "for x, y in val_data_single.take(3):\n",
    "  plot = show_plot([x[0][:, 1].numpy(), y[0].numpy(),\n",
    "                    single_step_model.predict(x)[0]], 1,\n",
    "                   'Single Step Prediction')\n",
    "  plot.show()"
   ]
  },
  {
   "cell_type": "markdown",
   "metadata": {
    "colab_type": "text",
    "id": "2GnE087bJYSu"
   },
   "source": [
    "### Multi-Step model"
   ]
  },
  {
   "cell_type": "code",
   "execution_count": 142,
   "metadata": {
    "colab": {},
    "colab_type": "code",
    "collapsed": true,
    "id": "kZCk9fqyJZqX"
   },
   "outputs": [],
   "source": [
    "future_target = 5\n",
    "x_train_multi, y_train_multi = multivariate_data(dataset, dataset[:, 1], 0,\n",
    "                                                 TRAIN_SPLIT, past_history,\n",
    "                                                 future_target, STEP)\n",
    "x_val_multi, y_val_multi = multivariate_data(dataset, dataset[:, 1],\n",
    "                                             TRAIN_SPLIT, None, past_history,\n",
    "                                             future_target, STEP)"
   ]
  },
  {
   "cell_type": "code",
   "execution_count": 143,
   "metadata": {
    "colab": {},
    "colab_type": "code",
    "id": "SpWDcBkQRwS-"
   },
   "outputs": [
    {
     "name": "stdout",
     "output_type": "stream",
     "text": [
      "Single window of past history : (30, 2)\n",
      "\n",
      " Target temperature to predict : (5,)\n"
     ]
    }
   ],
   "source": [
    "print ('Single window of past history : {}'.format(x_train_multi[0].shape))\n",
    "print ('\\n Target temperature to predict : {}'.format(y_train_multi[0].shape))"
   ]
  },
  {
   "cell_type": "code",
   "execution_count": 144,
   "metadata": {
    "colab": {},
    "colab_type": "code",
    "collapsed": true,
    "id": "cjR4PJArMOpA"
   },
   "outputs": [],
   "source": [
    "train_data_multi = tf.data.Dataset.from_tensor_slices((x_train_multi, y_train_multi))\n",
    "train_data_multi = train_data_multi.cache().shuffle(BUFFER_SIZE).batch(BATCH_SIZE).repeat()\n",
    "\n",
    "val_data_multi = tf.data.Dataset.from_tensor_slices((x_val_multi, y_val_multi))\n",
    "val_data_multi = val_data_multi.batch(BATCH_SIZE).repeat()"
   ]
  },
  {
   "cell_type": "code",
   "execution_count": 145,
   "metadata": {
    "colab": {},
    "colab_type": "code",
    "collapsed": true,
    "id": "ksXKVbwBV7D3"
   },
   "outputs": [],
   "source": [
    "def multi_step_plot(history, true_future, prediction):\n",
    "  plt.figure(figsize=(12, 6))\n",
    "  num_in = create_time_steps(len(history))\n",
    "  num_out = len(true_future)\n",
    "\n",
    "  plt.plot(num_in, np.array(history[:, 1]), label='History')\n",
    "  plt.plot(np.arange(num_out)/STEP, np.array(true_future), 'bo',\n",
    "           label='True Future')\n",
    "  if prediction.any():\n",
    "    plt.plot(np.arange(num_out)/STEP, np.array(prediction), 'ro',\n",
    "             label='Predicted Future')\n",
    "  plt.legend(loc='upper left')\n",
    "  plt.show()"
   ]
  },
  {
   "cell_type": "code",
   "execution_count": 146,
   "metadata": {
    "colab": {},
    "colab_type": "code",
    "id": "R6G8bacQR4w2"
   },
   "outputs": [
    {
     "data": {
      "image/png": "[encoded data removed]",
      "text/plain": [
       "<Figure size 864x432 with 1 Axes>"
      ]
     },
     "metadata": {
      "needs_background": "light"
     },
     "output_type": "display_data"
    }
   ],
   "source": [
    "for x, y in train_data_multi.take(1):\n",
    "  multi_step_plot(x[0], y[0], np.array([0]))"
   ]
  },
  {
   "cell_type": "code",
   "execution_count": 147,
   "metadata": {
    "colab": {},
    "colab_type": "code",
    "collapsed": true,
    "id": "byAl0NKSNBP6"
   },
   "outputs": [],
   "source": [
    "multi_step_model = tf.keras.models.Sequential()\n",
    "multi_step_model.add(tf.keras.layers.GRU(32,\n",
    "                                          return_sequences=True,\n",
    "                                          input_shape=x_train_multi.shape[-2:]))\n",
    "multi_step_model.add(tf.keras.layers.GRU(16, activation='relu'))\n",
    "multi_step_model.add(tf.keras.layers.Dense(future_target))\n",
    "multi_step_model.add(tf.keras.layers.Dropout(0.5))\n",
    "multi_step_model.add(tf.keras.layers.Dense(future_target))\n",
    "multi_step_model.add(tf.keras.layers.Dropout(0.5))\n",
    "multi_step_model.add(tf.keras.layers.Dense(future_target))\n",
    "multi_step_model.add(tf.keras.layers.Dropout(0.5))\n",
    "multi_step_model.add(tf.keras.layers.Dense(future_target))\n",
    "multi_step_model.add(tf.keras.layers.Dropout(0.5))\n",
    "multi_step_model.add(tf.keras.layers.Dense(future_target))\n",
    "\n",
    "\n",
    "\n",
    "multi_step_model.compile(optimizer=tf.keras.optimizers.RMSprop(clipvalue=1.0), loss='mae')"
   ]
  },
  {
   "cell_type": "code",
   "execution_count": 148,
   "metadata": {
    "colab": {},
    "colab_type": "code",
    "id": "13_ZWvB9SRlZ",
    "scrolled": true
   },
   "outputs": [
    {
     "name": "stdout",
     "output_type": "stream",
     "text": [
      "(32, 5)\n"
     ]
    }
   ],
   "source": [
    "for x, y in val_data_multi.take(1):\n",
    "  print (multi_step_model.predict(x).shape)"
   ]
  },
  {
   "cell_type": "code",
   "execution_count": 149,
   "metadata": {
    "colab": {},
    "colab_type": "code",
    "id": "7uwOhXo3Oems"
   },
   "outputs": [
    {
     "name": "stdout",
     "output_type": "stream",
     "text": [
      "Train for 200 steps, validate for 50 steps\n",
      "Epoch 1/10\n",
      "200/200 [==============================] - 14s 71ms/step - loss: 0.7195 - val_loss: 0.6407\n",
      "Epoch 2/10\n",
      "200/200 [==============================] - 7s 34ms/step - loss: 0.7019 - val_loss: 0.6271\n",
      "Epoch 3/10\n",
      "200/200 [==============================] - 7s 33ms/step - loss: 0.6873 - val_loss: 0.6101\n",
      "Epoch 4/10\n",
      "200/200 [==============================] - 7s 36ms/step - loss: 0.6787 - val_loss: 0.5941\n",
      "Epoch 5/10\n",
      "200/200 [==============================] - 7s 34ms/step - loss: 0.6753 - val_loss: 0.5820\n",
      "Epoch 6/10\n",
      "200/200 [==============================] - 7s 33ms/step - loss: 0.6649 - val_loss: 0.5976\n",
      "Epoch 7/10\n",
      "200/200 [==============================] - 7s 34ms/step - loss: 0.6703 - val_loss: 0.5924\n",
      "Epoch 8/10\n",
      "200/200 [==============================] - 7s 34ms/step - loss: 0.6659 - val_loss: 0.5590\n",
      "Epoch 9/10\n",
      "200/200 [==============================] - 7s 34ms/step - loss: 0.6607 - val_loss: 0.5776\n",
      "Epoch 10/10\n",
      "200/200 [==============================] - 7s 34ms/step - loss: 0.6568 - val_loss: 0.5908\n"
     ]
    }
   ],
   "source": [
    "multi_step_history = multi_step_model.fit(train_data_multi, epochs=EPOCHS,\n",
    "                                          steps_per_epoch=EVALUATION_INTERVAL,\n",
    "                                          validation_data=val_data_multi,\n",
    "                                          validation_steps=50)"
   ]
  },
  {
   "cell_type": "code",
   "execution_count": 150,
   "metadata": {
    "colab": {},
    "colab_type": "code",
    "id": "UKfQoBjQ5l7U"
   },
   "outputs": [
    {
     "data": {
      "image/png": "[encoded data removed]",
      "text/plain": [
       "<Figure size 432x288 with 1 Axes>"
      ]
     },
     "metadata": {
      "needs_background": "light"
     },
     "output_type": "display_data"
    }
   ],
   "source": [
    "plot_train_history(multi_step_history, 'Multi-Step Training and validation loss')"
   ]
  },
  {
   "cell_type": "markdown",
   "metadata": {
    "colab_type": "text",
    "id": "oDg94-yq4pas"
   },
   "source": [
    "#### Predict a multi-step future"
   ]
  },
  {
   "cell_type": "code",
   "execution_count": 151,
   "metadata": {
    "colab": {},
    "colab_type": "code",
    "id": "dt22wq6fyIBU",
    "scrolled": true
   },
   "outputs": [
    {
     "data": {
      "image/png": "[encoded data removed]",
      "text/plain": [
       "<Figure size 864x432 with 1 Axes>"
      ]
     },
     "metadata": {
      "needs_background": "light"
     },
     "output_type": "display_data"
    },
    {
     "data": {
      "image/png": "[encoded data removed]",
      "text/plain": [
       "<Figure size 864x432 with 1 Axes>"
      ]
     },
     "metadata": {
      "needs_background": "light"
     },
     "output_type": "display_data"
    },
    {
     "data": {
      "image/png": "[encoded data removed]",
      "text/plain": [
       "<Figure size 864x432 with 1 Axes>"
      ]
     },
     "metadata": {
      "needs_background": "light"
     },
     "output_type": "display_data"
    }
   ],
   "source": [
    "for x, y in val_data_multi.take(3):\n",
    "  multi_step_plot(x[0], y[0], multi_step_model.predict(x)[0])"
   ]
  },
  {
   "cell_type": "markdown",
   "metadata": {},
   "source": [
    "## Feature Selection"
   ]
  },
  {
   "cell_type": "code",
   "execution_count": 152,
   "metadata": {},
   "outputs": [
    {
     "name": "stderr",
     "output_type": "stream",
     "text": [
      "C:\\Users\\User\\Anaconda3\\lib\\site-packages\\sklearn\\ensemble\\weight_boosting.py:29: DeprecationWarning: numpy.core.umath_tests is an internal NumPy module and should not be imported. It will be removed in a future NumPy release.\n",
      "  from numpy.core.umath_tests import inner1d\n"
     ]
    }
   ],
   "source": [
    "# Univariate linear regression tests and Recursive Feature Elimination (RFE)\n",
    "from sklearn import datasets\n",
    "from sklearn.feature_selection import RFE, f_regression, SelectKBest\n",
    "from sklearn.linear_model import LogisticRegression\n",
    "from sklearn.ensemble import RandomForestRegressor"
   ]
  },
  {
   "cell_type": "markdown",
   "metadata": {},
   "source": [
    "### Regression F Test"
   ]
  },
  {
   "cell_type": "code",
   "execution_count": 153,
   "metadata": {},
   "outputs": [
    {
     "name": "stdout",
     "output_type": "stream",
     "text": [
      "(1076, 31)\n",
      "(1076,)\n",
      "(1076, 7)\n",
      "feature:             Rune_axe \t score:    0.19375\n",
      "feature:        Rune_2h_sword \t score:    3.87857\n",
      "feature:       Rune_chainbody \t score:     3.5647\n",
      "feature:       Rune_full_helm \t score:    22.9884\n",
      "feature:      Rune_kiteshield \t score:    2.19837\n",
      "feature:            dayofweek \t score:    1.55558\n",
      "feature:                 hour \t score:   10.97583\n",
      "feature:                 MACD \t score:  827.07558\n",
      "feature:               emaSlw \t score:  394.28828\n",
      "feature:               emaFst \t score:  804.62128\n",
      "feature:                  SMA \t score:  452.37405\n",
      "feature:                  RSI \t score:    489.208\n",
      "feature:          Rune_axe_sa \t score:    2.27552\n",
      "feature:     Rune_2h_sword_sa \t score:    4.43778\n",
      "feature:     Rune_scimitar_sa \t score:   93.11519\n",
      "feature:    Rune_chainbody_sa \t score:   18.11522\n",
      "feature:    Rune_full_helm_sa \t score:   31.46169\n",
      "feature:   Rune_kiteshield_sa \t score:   11.90286\n",
      "feature:          Rune_axe_bq \t score:     9.8511\n",
      "feature:     Rune_2h_sword_bq \t score:    4.32544\n",
      "feature:     Rune_scimitar_bq \t score:  138.17608\n",
      "feature:    Rune_chainbody_bq \t score:    0.23186\n",
      "feature:    Rune_full_helm_bq \t score:    7.89275\n",
      "feature:   Rune_kiteshield_bq \t score:    0.02111\n",
      "feature:          Rune_axe_sq \t score:    0.37941\n",
      "feature:     Rune_2h_sword_sq \t score:     3.3959\n",
      "feature:     Rune_scimitar_sq \t score:   68.84208\n",
      "feature:    Rune_chainbody_sq \t score:    4.38179\n",
      "feature:    Rune_full_helm_sq \t score:    0.29085\n",
      "feature:   Rune_kiteshield_sq \t score:   12.58029\n",
      "feature:                slope \t score:    0.00017\n",
      "Index(['MACD', 'emaSlw', 'emaFst', 'SMA', 'RSI', 'Rune_scimitar_sa',\n",
      "       'Rune_scimitar_bq'],\n",
      "      dtype='object')\n"
     ]
    },
    {
     "data": {
      "text/html": [
       "<div>\n",
       "<style scoped>\n",
       "    .dataframe tbody tr th:only-of-type {\n",
       "        vertical-align: middle;\n",
       "    }\n",
       "\n",
       "    .dataframe tbody tr th {\n",
       "        vertical-align: top;\n",
       "    }\n",
       "\n",
       "    .dataframe thead th {\n",
       "        text-align: right;\n",
       "    }\n",
       "</style>\n",
       "<table border=\"1\" class=\"dataframe\">\n",
       "  <thead>\n",
       "    <tr style=\"text-align: right;\">\n",
       "      <th></th>\n",
       "      <th>MACD</th>\n",
       "      <th>emaSlw</th>\n",
       "      <th>emaFst</th>\n",
       "      <th>SMA</th>\n",
       "      <th>RSI</th>\n",
       "      <th>Rune_scimitar_sa</th>\n",
       "      <th>Rune_scimitar_bq</th>\n",
       "    </tr>\n",
       "    <tr>\n",
       "      <th>timestamp</th>\n",
       "      <th></th>\n",
       "      <th></th>\n",
       "      <th></th>\n",
       "      <th></th>\n",
       "      <th></th>\n",
       "      <th></th>\n",
       "      <th></th>\n",
       "    </tr>\n",
       "  </thead>\n",
       "  <tbody>\n",
       "    <tr>\n",
       "      <th>1577246100</th>\n",
       "      <td>-0.253769</td>\n",
       "      <td>-0.602069</td>\n",
       "      <td>-0.577587</td>\n",
       "      <td>-0.460418</td>\n",
       "      <td>-1.004653</td>\n",
       "      <td>0.259116</td>\n",
       "      <td>1.351232</td>\n",
       "    </tr>\n",
       "    <tr>\n",
       "      <th>1577247901</th>\n",
       "      <td>-0.035878</td>\n",
       "      <td>-0.431754</td>\n",
       "      <td>-0.362097</td>\n",
       "      <td>-0.376529</td>\n",
       "      <td>0.262390</td>\n",
       "      <td>0.590342</td>\n",
       "      <td>-0.574403</td>\n",
       "    </tr>\n",
       "    <tr>\n",
       "      <th>1577249700</th>\n",
       "      <td>0.117567</td>\n",
       "      <td>-0.297200</td>\n",
       "      <td>-0.198521</td>\n",
       "      <td>-0.295347</td>\n",
       "      <td>0.598359</td>\n",
       "      <td>0.590342</td>\n",
       "      <td>-0.659986</td>\n",
       "    </tr>\n",
       "    <tr>\n",
       "      <th>1577251500</th>\n",
       "      <td>-0.176225</td>\n",
       "      <td>-0.531057</td>\n",
       "      <td>-0.492483</td>\n",
       "      <td>-0.438770</td>\n",
       "      <td>-0.874509</td>\n",
       "      <td>0.557220</td>\n",
       "      <td>-0.189276</td>\n",
       "    </tr>\n",
       "    <tr>\n",
       "      <th>1577253301</th>\n",
       "      <td>-0.273201</td>\n",
       "      <td>-0.632707</td>\n",
       "      <td>-0.609303</td>\n",
       "      <td>-0.506422</td>\n",
       "      <td>-0.349149</td>\n",
       "      <td>0.292239</td>\n",
       "      <td>1.137272</td>\n",
       "    </tr>\n",
       "  </tbody>\n",
       "</table>\n",
       "</div>"
      ],
      "text/plain": [
       "                MACD    emaSlw    emaFst       SMA       RSI  \\\n",
       "timestamp                                                      \n",
       "1577246100 -0.253769 -0.602069 -0.577587 -0.460418 -1.004653   \n",
       "1577247901 -0.035878 -0.431754 -0.362097 -0.376529  0.262390   \n",
       "1577249700  0.117567 -0.297200 -0.198521 -0.295347  0.598359   \n",
       "1577251500 -0.176225 -0.531057 -0.492483 -0.438770 -0.874509   \n",
       "1577253301 -0.273201 -0.632707 -0.609303 -0.506422 -0.349149   \n",
       "\n",
       "            Rune_scimitar_sa  Rune_scimitar_bq  \n",
       "timestamp                                       \n",
       "1577246100          0.259116          1.351232  \n",
       "1577247901          0.590342         -0.574403  \n",
       "1577249700          0.590342         -0.659986  \n",
       "1577251500          0.557220         -0.189276  \n",
       "1577253301          0.292239          1.137272  "
      ]
     },
     "execution_count": 153,
     "metadata": {},
     "output_type": "execute_result"
    }
   ],
   "source": [
    "features = df.drop(['datetime'], axis=1).copy()\n",
    "\n",
    "# normalize dataset\n",
    "dataset=(features-features.mean())/features.std()\n",
    "    \n",
    "X = dataset.drop([item_to_predict], axis=1)\n",
    "y = dataset[item_to_predict]\n",
    "print(X.shape)\n",
    "print(y.shape)\n",
    "\n",
    "# define feature selection\n",
    "fs = SelectKBest(score_func=f_regression, k=7)\n",
    "# apply feature selection\n",
    "X_selected = fs.fit_transform(X, y)\n",
    "print(X_selected.shape)\n",
    "\n",
    "# Get scores for each of the columns\n",
    "scores = fs.scores_\n",
    "for idx, col in enumerate(X.columns): \n",
    "    print(\"feature: {: >20} \\t score: {: >10}\".format(col, round(scores[idx],5)))\n",
    "\n",
    "# Get columns to keep and create new dataframe with those only\n",
    "cols = fs.get_support(indices=True)\n",
    "features_df_new = X.iloc[:,cols]\n",
    "print(features_df_new.columns)\n",
    "features_df_new.head()\n"
   ]
  },
  {
   "cell_type": "markdown",
   "metadata": {},
   "source": [
    "### Recursive Feature Elimination (RFE)"
   ]
  },
  {
   "cell_type": "code",
   "execution_count": 154,
   "metadata": {},
   "outputs": [
    {
     "name": "stdout",
     "output_type": "stream",
     "text": [
      "Selected Features:\n",
      "MACD\n",
      "emaSlw\n",
      "emaFst\n",
      "SMA\n",
      "RSI\n",
      "Rune_scimitar_bq\n",
      "slope\n"
     ]
    }
   ],
   "source": [
    "X = dataset.drop([item_to_predict], axis=1)\n",
    "y = dataset[item_to_predict]\n",
    "\n",
    "# perform feature selection\n",
    "rfe = RFE(RandomForestRegressor(n_estimators=500, random_state=1), 7)\n",
    "fit = rfe.fit(X, y)\n",
    "# report selected features\n",
    "print('Selected Features:')\n",
    "names = dataset.drop([item_to_predict], axis=1).columns.values\n",
    "for i in range(len(fit.support_)):\n",
    "    if fit.support_[i]:\n",
    "        print(names[i])"
   ]
  },
  {
   "cell_type": "code",
   "execution_count": 155,
   "metadata": {},
   "outputs": [
    {
     "data": {
      "image/png": "[encoded data removed]",
      "text/plain": [
       "<Figure size 640x480 with 1 Axes>"
      ]
     },
     "metadata": {},
     "output_type": "display_data"
    }
   ],
   "source": [
    "mpl.rcParams.update(mpl.rcParamsDefault)\n",
    "# plot feature rank\n",
    "names = dataset.drop([item_to_predict], axis=1).columns.values\n",
    "ticks = [i for i in range(len(names))]\n",
    "plt.bar(ticks, fit.ranking_)\n",
    "plt.xticks(ticks, names)\n",
    "plt.xticks(rotation=90);\n",
    "plt.show()"
   ]
  },
  {
   "cell_type": "markdown",
   "metadata": {},
   "source": [
    "### Going through individual features"
   ]
  },
  {
   "cell_type": "code",
   "execution_count": 156,
   "metadata": {
    "scrolled": true
   },
   "outputs": [
    {
     "name": "stdout",
     "output_type": "stream",
     "text": [
      "processing feature: Rune_axe\n"
     ]
    },
    {
     "ename": "KeyboardInterrupt",
     "evalue": "",
     "output_type": "error",
     "traceback": [
      "\u001b[1;31m---------------------------------------------------------------------------\u001b[0m",
      "\u001b[1;31mKeyboardInterrupt\u001b[0m                         Traceback (most recent call last)",
      "\u001b[1;32m<ipython-input-156-c8ffb7bc130d>\u001b[0m in \u001b[0;36m<module>\u001b[1;34m()\u001b[0m\n\u001b[0;32m     48\u001b[0m                                                 \u001b[0mvalidation_data\u001b[0m\u001b[1;33m=\u001b[0m\u001b[0mval_data_single\u001b[0m\u001b[1;33m,\u001b[0m\u001b[1;33m\u001b[0m\u001b[0m\n\u001b[0;32m     49\u001b[0m                                                 \u001b[0mvalidation_steps\u001b[0m\u001b[1;33m=\u001b[0m\u001b[1;36m50\u001b[0m\u001b[1;33m,\u001b[0m\u001b[1;33m\u001b[0m\u001b[0m\n\u001b[1;32m---> 50\u001b[1;33m                                                 verbose=0)\n\u001b[0m\u001b[0;32m     51\u001b[0m \u001b[1;33m\u001b[0m\u001b[0m\n\u001b[0;32m     52\u001b[0m     \u001b[0mprint\u001b[0m\u001b[1;33m(\u001b[0m\u001b[1;34m\"validation loss hist: {}\\n\"\u001b[0m\u001b[1;33m.\u001b[0m\u001b[0mformat\u001b[0m\u001b[1;33m(\u001b[0m\u001b[0msingle_step_history\u001b[0m\u001b[1;33m.\u001b[0m\u001b[0mhistory\u001b[0m\u001b[1;33m[\u001b[0m\u001b[1;34m'val_loss'\u001b[0m\u001b[1;33m]\u001b[0m\u001b[1;33m)\u001b[0m\u001b[1;33m)\u001b[0m\u001b[1;33m\u001b[0m\u001b[0m\n",
      "\u001b[1;32m~\\AppData\\Roaming\\Python\\Python36\\site-packages\\tensorflow_core\\python\\keras\\engine\\training.py\u001b[0m in \u001b[0;36mfit\u001b[1;34m(self, x, y, batch_size, epochs, verbose, callbacks, validation_split, validation_data, shuffle, class_weight, sample_weight, initial_epoch, steps_per_epoch, validation_steps, validation_freq, max_queue_size, workers, use_multiprocessing, **kwargs)\u001b[0m\n\u001b[0;32m    726\u001b[0m         \u001b[0mmax_queue_size\u001b[0m\u001b[1;33m=\u001b[0m\u001b[0mmax_queue_size\u001b[0m\u001b[1;33m,\u001b[0m\u001b[1;33m\u001b[0m\u001b[0m\n\u001b[0;32m    727\u001b[0m         \u001b[0mworkers\u001b[0m\u001b[1;33m=\u001b[0m\u001b[0mworkers\u001b[0m\u001b[1;33m,\u001b[0m\u001b[1;33m\u001b[0m\u001b[0m\n\u001b[1;32m--> 728\u001b[1;33m         use_multiprocessing=use_multiprocessing)\n\u001b[0m\u001b[0;32m    729\u001b[0m \u001b[1;33m\u001b[0m\u001b[0m\n\u001b[0;32m    730\u001b[0m   def evaluate(self,\n",
      "\u001b[1;32m~\\AppData\\Roaming\\Python\\Python36\\site-packages\\tensorflow_core\\python\\keras\\engine\\training_v2.py\u001b[0m in \u001b[0;36mfit\u001b[1;34m(self, model, x, y, batch_size, epochs, verbose, callbacks, validation_split, validation_data, shuffle, class_weight, sample_weight, initial_epoch, steps_per_epoch, validation_steps, validation_freq, **kwargs)\u001b[0m\n\u001b[0;32m    322\u001b[0m                 \u001b[0mmode\u001b[0m\u001b[1;33m=\u001b[0m\u001b[0mModeKeys\u001b[0m\u001b[1;33m.\u001b[0m\u001b[0mTRAIN\u001b[0m\u001b[1;33m,\u001b[0m\u001b[1;33m\u001b[0m\u001b[0m\n\u001b[0;32m    323\u001b[0m                 \u001b[0mtraining_context\u001b[0m\u001b[1;33m=\u001b[0m\u001b[0mtraining_context\u001b[0m\u001b[1;33m,\u001b[0m\u001b[1;33m\u001b[0m\u001b[0m\n\u001b[1;32m--> 324\u001b[1;33m                 total_epochs=epochs)\n\u001b[0m\u001b[0;32m    325\u001b[0m             \u001b[0mcbks\u001b[0m\u001b[1;33m.\u001b[0m\u001b[0mmake_logs\u001b[0m\u001b[1;33m(\u001b[0m\u001b[0mmodel\u001b[0m\u001b[1;33m,\u001b[0m \u001b[0mepoch_logs\u001b[0m\u001b[1;33m,\u001b[0m \u001b[0mtraining_result\u001b[0m\u001b[1;33m,\u001b[0m \u001b[0mModeKeys\u001b[0m\u001b[1;33m.\u001b[0m\u001b[0mTRAIN\u001b[0m\u001b[1;33m)\u001b[0m\u001b[1;33m\u001b[0m\u001b[0m\n\u001b[0;32m    326\u001b[0m \u001b[1;33m\u001b[0m\u001b[0m\n",
      "\u001b[1;32m~\\AppData\\Roaming\\Python\\Python36\\site-packages\\tensorflow_core\\python\\keras\\engine\\training_v2.py\u001b[0m in \u001b[0;36mrun_one_epoch\u001b[1;34m(model, iterator, execution_function, dataset_size, batch_size, strategy, steps_per_epoch, num_samples, mode, training_context, total_epochs)\u001b[0m\n\u001b[0;32m    121\u001b[0m         step=step, mode=mode, size=current_batch_size) as batch_logs:\n\u001b[0;32m    122\u001b[0m       \u001b[1;32mtry\u001b[0m\u001b[1;33m:\u001b[0m\u001b[1;33m\u001b[0m\u001b[0m\n\u001b[1;32m--> 123\u001b[1;33m         \u001b[0mbatch_outs\u001b[0m \u001b[1;33m=\u001b[0m \u001b[0mexecution_function\u001b[0m\u001b[1;33m(\u001b[0m\u001b[0miterator\u001b[0m\u001b[1;33m)\u001b[0m\u001b[1;33m\u001b[0m\u001b[0m\n\u001b[0m\u001b[0;32m    124\u001b[0m       \u001b[1;32mexcept\u001b[0m \u001b[1;33m(\u001b[0m\u001b[0mStopIteration\u001b[0m\u001b[1;33m,\u001b[0m \u001b[0merrors\u001b[0m\u001b[1;33m.\u001b[0m\u001b[0mOutOfRangeError\u001b[0m\u001b[1;33m)\u001b[0m\u001b[1;33m:\u001b[0m\u001b[1;33m\u001b[0m\u001b[0m\n\u001b[0;32m    125\u001b[0m         \u001b[1;31m# TODO(kaftan): File bug about tf function and errors.OutOfRangeError?\u001b[0m\u001b[1;33m\u001b[0m\u001b[1;33m\u001b[0m\u001b[0m\n",
      "\u001b[1;32m~\\AppData\\Roaming\\Python\\Python36\\site-packages\\tensorflow_core\\python\\keras\\engine\\training_v2_utils.py\u001b[0m in \u001b[0;36mexecution_function\u001b[1;34m(input_fn)\u001b[0m\n\u001b[0;32m     84\u001b[0m     \u001b[1;31m# `numpy` translates Tensors to values in Eager mode.\u001b[0m\u001b[1;33m\u001b[0m\u001b[1;33m\u001b[0m\u001b[0m\n\u001b[0;32m     85\u001b[0m     return nest.map_structure(_non_none_constant_value,\n\u001b[1;32m---> 86\u001b[1;33m                               distributed_function(input_fn))\n\u001b[0m\u001b[0;32m     87\u001b[0m \u001b[1;33m\u001b[0m\u001b[0m\n\u001b[0;32m     88\u001b[0m   \u001b[1;32mreturn\u001b[0m \u001b[0mexecution_function\u001b[0m\u001b[1;33m\u001b[0m\u001b[0m\n",
      "\u001b[1;32m~\\AppData\\Roaming\\Python\\Python36\\site-packages\\tensorflow_core\\python\\eager\\def_function.py\u001b[0m in \u001b[0;36m__call__\u001b[1;34m(self, *args, **kwds)\u001b[0m\n\u001b[0;32m    455\u001b[0m \u001b[1;33m\u001b[0m\u001b[0m\n\u001b[0;32m    456\u001b[0m     \u001b[0mtracing_count\u001b[0m \u001b[1;33m=\u001b[0m \u001b[0mself\u001b[0m\u001b[1;33m.\u001b[0m\u001b[0m_get_tracing_count\u001b[0m\u001b[1;33m(\u001b[0m\u001b[1;33m)\u001b[0m\u001b[1;33m\u001b[0m\u001b[0m\n\u001b[1;32m--> 457\u001b[1;33m     \u001b[0mresult\u001b[0m \u001b[1;33m=\u001b[0m \u001b[0mself\u001b[0m\u001b[1;33m.\u001b[0m\u001b[0m_call\u001b[0m\u001b[1;33m(\u001b[0m\u001b[1;33m*\u001b[0m\u001b[0margs\u001b[0m\u001b[1;33m,\u001b[0m \u001b[1;33m**\u001b[0m\u001b[0mkwds\u001b[0m\u001b[1;33m)\u001b[0m\u001b[1;33m\u001b[0m\u001b[0m\n\u001b[0m\u001b[0;32m    458\u001b[0m     \u001b[1;32mif\u001b[0m \u001b[0mtracing_count\u001b[0m \u001b[1;33m==\u001b[0m \u001b[0mself\u001b[0m\u001b[1;33m.\u001b[0m\u001b[0m_get_tracing_count\u001b[0m\u001b[1;33m(\u001b[0m\u001b[1;33m)\u001b[0m\u001b[1;33m:\u001b[0m\u001b[1;33m\u001b[0m\u001b[0m\n\u001b[0;32m    459\u001b[0m       \u001b[0mself\u001b[0m\u001b[1;33m.\u001b[0m\u001b[0m_call_counter\u001b[0m\u001b[1;33m.\u001b[0m\u001b[0mcalled_without_tracing\u001b[0m\u001b[1;33m(\u001b[0m\u001b[1;33m)\u001b[0m\u001b[1;33m\u001b[0m\u001b[0m\n",
      "\u001b[1;32m~\\AppData\\Roaming\\Python\\Python36\\site-packages\\tensorflow_core\\python\\eager\\def_function.py\u001b[0m in \u001b[0;36m_call\u001b[1;34m(self, *args, **kwds)\u001b[0m\n\u001b[0;32m    485\u001b[0m       \u001b[1;31m# In this case we have created variables on the first call, so we run the\u001b[0m\u001b[1;33m\u001b[0m\u001b[1;33m\u001b[0m\u001b[0m\n\u001b[0;32m    486\u001b[0m       \u001b[1;31m# defunned version which is guaranteed to never create variables.\u001b[0m\u001b[1;33m\u001b[0m\u001b[1;33m\u001b[0m\u001b[0m\n\u001b[1;32m--> 487\u001b[1;33m       \u001b[1;32mreturn\u001b[0m \u001b[0mself\u001b[0m\u001b[1;33m.\u001b[0m\u001b[0m_stateless_fn\u001b[0m\u001b[1;33m(\u001b[0m\u001b[1;33m*\u001b[0m\u001b[0margs\u001b[0m\u001b[1;33m,\u001b[0m \u001b[1;33m**\u001b[0m\u001b[0mkwds\u001b[0m\u001b[1;33m)\u001b[0m  \u001b[1;31m# pylint: disable=not-callable\u001b[0m\u001b[1;33m\u001b[0m\u001b[0m\n\u001b[0m\u001b[0;32m    488\u001b[0m     \u001b[1;32melif\u001b[0m \u001b[0mself\u001b[0m\u001b[1;33m.\u001b[0m\u001b[0m_stateful_fn\u001b[0m \u001b[1;32mis\u001b[0m \u001b[1;32mnot\u001b[0m \u001b[1;32mNone\u001b[0m\u001b[1;33m:\u001b[0m\u001b[1;33m\u001b[0m\u001b[0m\n\u001b[0;32m    489\u001b[0m       \u001b[1;31m# Release the lock early so that multiple threads can perform the call\u001b[0m\u001b[1;33m\u001b[0m\u001b[1;33m\u001b[0m\u001b[0m\n",
      "\u001b[1;32m~\\AppData\\Roaming\\Python\\Python36\\site-packages\\tensorflow_core\\python\\eager\\function.py\u001b[0m in \u001b[0;36m__call__\u001b[1;34m(self, *args, **kwargs)\u001b[0m\n\u001b[0;32m   1821\u001b[0m     \u001b[1;34m\"\"\"Calls a graph function specialized to the inputs.\"\"\"\u001b[0m\u001b[1;33m\u001b[0m\u001b[0m\n\u001b[0;32m   1822\u001b[0m     \u001b[0mgraph_function\u001b[0m\u001b[1;33m,\u001b[0m \u001b[0margs\u001b[0m\u001b[1;33m,\u001b[0m \u001b[0mkwargs\u001b[0m \u001b[1;33m=\u001b[0m \u001b[0mself\u001b[0m\u001b[1;33m.\u001b[0m\u001b[0m_maybe_define_function\u001b[0m\u001b[1;33m(\u001b[0m\u001b[0margs\u001b[0m\u001b[1;33m,\u001b[0m \u001b[0mkwargs\u001b[0m\u001b[1;33m)\u001b[0m\u001b[1;33m\u001b[0m\u001b[0m\n\u001b[1;32m-> 1823\u001b[1;33m     \u001b[1;32mreturn\u001b[0m \u001b[0mgraph_function\u001b[0m\u001b[1;33m.\u001b[0m\u001b[0m_filtered_call\u001b[0m\u001b[1;33m(\u001b[0m\u001b[0margs\u001b[0m\u001b[1;33m,\u001b[0m \u001b[0mkwargs\u001b[0m\u001b[1;33m)\u001b[0m  \u001b[1;31m# pylint: disable=protected-access\u001b[0m\u001b[1;33m\u001b[0m\u001b[0m\n\u001b[0m\u001b[0;32m   1824\u001b[0m \u001b[1;33m\u001b[0m\u001b[0m\n\u001b[0;32m   1825\u001b[0m   \u001b[1;33m@\u001b[0m\u001b[0mproperty\u001b[0m\u001b[1;33m\u001b[0m\u001b[0m\n",
      "\u001b[1;32m~\\AppData\\Roaming\\Python\\Python36\\site-packages\\tensorflow_core\\python\\eager\\function.py\u001b[0m in \u001b[0;36m_filtered_call\u001b[1;34m(self, args, kwargs)\u001b[0m\n\u001b[0;32m   1139\u001b[0m          if isinstance(t, (ops.Tensor,\n\u001b[0;32m   1140\u001b[0m                            resource_variable_ops.BaseResourceVariable))),\n\u001b[1;32m-> 1141\u001b[1;33m         self.captured_inputs)\n\u001b[0m\u001b[0;32m   1142\u001b[0m \u001b[1;33m\u001b[0m\u001b[0m\n\u001b[0;32m   1143\u001b[0m   \u001b[1;32mdef\u001b[0m \u001b[0m_call_flat\u001b[0m\u001b[1;33m(\u001b[0m\u001b[0mself\u001b[0m\u001b[1;33m,\u001b[0m \u001b[0margs\u001b[0m\u001b[1;33m,\u001b[0m \u001b[0mcaptured_inputs\u001b[0m\u001b[1;33m,\u001b[0m \u001b[0mcancellation_manager\u001b[0m\u001b[1;33m=\u001b[0m\u001b[1;32mNone\u001b[0m\u001b[1;33m)\u001b[0m\u001b[1;33m:\u001b[0m\u001b[1;33m\u001b[0m\u001b[0m\n",
      "\u001b[1;32m~\\AppData\\Roaming\\Python\\Python36\\site-packages\\tensorflow_core\\python\\eager\\function.py\u001b[0m in \u001b[0;36m_call_flat\u001b[1;34m(self, args, captured_inputs, cancellation_manager)\u001b[0m\n\u001b[0;32m   1222\u001b[0m     \u001b[1;32mif\u001b[0m \u001b[0mexecuting_eagerly\u001b[0m\u001b[1;33m:\u001b[0m\u001b[1;33m\u001b[0m\u001b[0m\n\u001b[0;32m   1223\u001b[0m       flat_outputs = forward_function.call(\n\u001b[1;32m-> 1224\u001b[1;33m           ctx, args, cancellation_manager=cancellation_manager)\n\u001b[0m\u001b[0;32m   1225\u001b[0m     \u001b[1;32melse\u001b[0m\u001b[1;33m:\u001b[0m\u001b[1;33m\u001b[0m\u001b[0m\n\u001b[0;32m   1226\u001b[0m       \u001b[0mgradient_name\u001b[0m \u001b[1;33m=\u001b[0m \u001b[0mself\u001b[0m\u001b[1;33m.\u001b[0m\u001b[0m_delayed_rewrite_functions\u001b[0m\u001b[1;33m.\u001b[0m\u001b[0mregister\u001b[0m\u001b[1;33m(\u001b[0m\u001b[1;33m)\u001b[0m\u001b[1;33m\u001b[0m\u001b[0m\n",
      "\u001b[1;32m~\\AppData\\Roaming\\Python\\Python36\\site-packages\\tensorflow_core\\python\\eager\\function.py\u001b[0m in \u001b[0;36mcall\u001b[1;34m(self, ctx, args, cancellation_manager)\u001b[0m\n\u001b[0;32m    509\u001b[0m               \u001b[0minputs\u001b[0m\u001b[1;33m=\u001b[0m\u001b[0margs\u001b[0m\u001b[1;33m,\u001b[0m\u001b[1;33m\u001b[0m\u001b[0m\n\u001b[0;32m    510\u001b[0m               \u001b[0mattrs\u001b[0m\u001b[1;33m=\u001b[0m\u001b[1;33m(\u001b[0m\u001b[1;34m\"executor_type\"\u001b[0m\u001b[1;33m,\u001b[0m \u001b[0mexecutor_type\u001b[0m\u001b[1;33m,\u001b[0m \u001b[1;34m\"config_proto\"\u001b[0m\u001b[1;33m,\u001b[0m \u001b[0mconfig\u001b[0m\u001b[1;33m)\u001b[0m\u001b[1;33m,\u001b[0m\u001b[1;33m\u001b[0m\u001b[0m\n\u001b[1;32m--> 511\u001b[1;33m               ctx=ctx)\n\u001b[0m\u001b[0;32m    512\u001b[0m         \u001b[1;32melse\u001b[0m\u001b[1;33m:\u001b[0m\u001b[1;33m\u001b[0m\u001b[0m\n\u001b[0;32m    513\u001b[0m           outputs = execute.execute_with_cancellation(\n",
      "\u001b[1;32m~\\AppData\\Roaming\\Python\\Python36\\site-packages\\tensorflow_core\\python\\eager\\execute.py\u001b[0m in \u001b[0;36mquick_execute\u001b[1;34m(op_name, num_outputs, inputs, attrs, ctx, name)\u001b[0m\n\u001b[0;32m     59\u001b[0m     tensors = pywrap_tensorflow.TFE_Py_Execute(ctx._handle, device_name,\n\u001b[0;32m     60\u001b[0m                                                \u001b[0mop_name\u001b[0m\u001b[1;33m,\u001b[0m \u001b[0minputs\u001b[0m\u001b[1;33m,\u001b[0m \u001b[0mattrs\u001b[0m\u001b[1;33m,\u001b[0m\u001b[1;33m\u001b[0m\u001b[0m\n\u001b[1;32m---> 61\u001b[1;33m                                                num_outputs)\n\u001b[0m\u001b[0;32m     62\u001b[0m   \u001b[1;32mexcept\u001b[0m \u001b[0mcore\u001b[0m\u001b[1;33m.\u001b[0m\u001b[0m_NotOkStatusException\u001b[0m \u001b[1;32mas\u001b[0m \u001b[0me\u001b[0m\u001b[1;33m:\u001b[0m\u001b[1;33m\u001b[0m\u001b[0m\n\u001b[0;32m     63\u001b[0m     \u001b[1;32mif\u001b[0m \u001b[0mname\u001b[0m \u001b[1;32mis\u001b[0m \u001b[1;32mnot\u001b[0m \u001b[1;32mNone\u001b[0m\u001b[1;33m:\u001b[0m\u001b[1;33m\u001b[0m\u001b[0m\n",
      "\u001b[1;31mKeyboardInterrupt\u001b[0m: "
     ]
    }
   ],
   "source": [
    "all_features = dataset.drop([item_to_predict], axis=1).columns.values\n",
    "\n",
    "for feature in all_features:\n",
    "    print(\"processing feature: {}\".format(feature))\n",
    "    features_considered = [feature, item_to_predict] \n",
    "\n",
    "    features = df[features_considered]\n",
    "    # features.index = df['timestamp']\n",
    "    features.head()\n",
    "\n",
    "    dataset = features.values\n",
    "    data_mean = dataset[:TRAIN_SPLIT].mean(axis=0)\n",
    "    data_std = dataset[:TRAIN_SPLIT].std(axis=0)\n",
    "\n",
    "    dataset = (dataset-data_mean)/data_std\n",
    "\n",
    "    past_history = 30\n",
    "    future_target = 1\n",
    "    STEP = 1\n",
    "\n",
    "    x_train_single, y_train_single = multivariate_data(dataset, dataset[:, 1], 0,\n",
    "                                                       TRAIN_SPLIT, past_history,\n",
    "                                                       future_target, STEP,\n",
    "                                                       single_step=True)\n",
    "    x_val_single, y_val_single = multivariate_data(dataset, dataset[:, 1],\n",
    "                                                   TRAIN_SPLIT, None, past_history,\n",
    "                                                   future_target, STEP,\n",
    "                                                   single_step=True)\n",
    "\n",
    "    train_data_single = tf.data.Dataset.from_tensor_slices((x_train_single, y_train_single))\n",
    "    train_data_single = train_data_single.cache().shuffle(BUFFER_SIZE).batch(BATCH_SIZE).repeat()\n",
    "\n",
    "    val_data_single = tf.data.Dataset.from_tensor_slices((x_val_single, y_val_single))\n",
    "    val_data_single = val_data_single.batch(BATCH_SIZE).repeat()\n",
    "\n",
    "    single_step_model = tf.keras.models.Sequential()\n",
    "    single_step_model.add(tf.keras.layers.LSTM(32, input_shape=x_train_single.shape[-2:]))\n",
    "    single_step_model.add(tf.keras.layers.Dense(1))\n",
    "    single_step_model.add(tf.keras.layers.Dropout(0.2))\n",
    "    single_step_model.add(tf.keras.layers.Dense(1))\n",
    "    single_step_model.add(tf.keras.layers.Dropout(0.2))\n",
    "    single_step_model.add(tf.keras.layers.Dense(1))\n",
    "\n",
    "    single_step_model.compile(optimizer=tf.keras.optimizers.RMSprop(), loss='mae')\n",
    "\n",
    "    single_step_history = single_step_model.fit(train_data_single, epochs=EPOCHS,\n",
    "                                                steps_per_epoch=EVALUATION_INTERVAL,\n",
    "                                                validation_data=val_data_single,\n",
    "                                                validation_steps=50,\n",
    "                                                verbose=0)\n",
    "\n",
    "    print(\"validation loss hist: {}\\n\".format(single_step_history.history['val_loss']))"
   ]
  }
 ],
 "metadata": {
  "accelerator": "GPU",
  "colab": {
   "collapsed_sections": [],
   "name": "time_series.ipynb",
   "private_outputs": true,
   "toc_visible": true
  },
  "kernelspec": {
   "display_name": "Python 3",
   "language": "python",
   "name": "python3"
  },
  "language_info": {
   "codemirror_mode": {
    "name": "ipython",
    "version": 3
   },
   "file_extension": ".py",
   "mimetype": "text/x-python",
   "name": "python",
   "nbconvert_exporter": "python",
   "pygments_lexer": "ipython3",
   "version": "3.6.3"
  }
 },
 "nbformat": 4,
 "nbformat_minor": 1
}
