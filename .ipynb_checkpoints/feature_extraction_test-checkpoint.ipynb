{
 "cells": [
  {
   "cell_type": "code",
   "execution_count": 1,
   "metadata": {},
   "outputs": [],
   "source": [
    "from __future__ import absolute_import, division, print_function, unicode_literals\n",
    "import tensorflow as tf\n",
    "import matplotlib as mpl\n",
    "import matplotlib.pyplot as plt\n",
    "import numpy as np\n",
    "import os\n",
    "import pandas as pd\n",
    "\n",
    "mpl.rcParams['figure.figsize'] = (8, 6)\n",
    "mpl.rcParams['axes.grid'] = False\n",
    "%matplotlib inline"
   ]
  },
  {
   "cell_type": "code",
   "execution_count": 2,
   "metadata": {},
   "outputs": [],
   "source": [
    "import scipy as sp\n",
    "from tsfresh import extract_features\n",
    "from tsfresh.utilities.dataframe_functions import make_forecasting_frame\n",
    "from sklearn.ensemble import AdaBoostRegressor\n",
    "from tsfresh.utilities.dataframe_functions import impute"
   ]
  },
  {
   "cell_type": "code",
   "execution_count": 3,
   "metadata": {},
   "outputs": [],
   "source": [
    "df = pd.read_csv(\"data/rsbuddy/buy_average.csv\")\n",
    "df = df.set_index('timestamp')\n",
    "df2 = pd.read_csv(\"data/rsbuddy/sell_average.csv\")\n",
    "df2 = df2.set_index('timestamp')"
   ]
  },
  {
   "cell_type": "code",
   "execution_count": 44,
   "metadata": {},
   "outputs": [],
   "source": [
    "dropped = df.drop_duplicates()\n",
    "dropped2 = df2.drop_duplicates()\n",
    "selected = dropped[['Chaos_rune', 'Nature_rune', 'Soul_rune', 'Blood_rune', 'Law_rune', 'Rune_axe']]\n",
    "selected = selected.replace(to_replace=0, method='ffill')\n",
    "selected2 = dropped2[['Chaos_rune', 'Nature_rune', 'Soul_rune', 'Blood_rune', 'Law_rune']]\n",
    "# y = runes.reset_index()['Chaos_rune']"
   ]
  },
  {
   "cell_type": "code",
   "execution_count": 45,
   "metadata": {},
   "outputs": [
    {
     "name": "stdout",
     "output_type": "stream",
     "text": [
      "(1086, 6)\n",
      "(1086, 5)\n"
     ]
    },
    {
     "data": {
      "text/html": [
       "<div>\n",
       "<style scoped>\n",
       "    .dataframe tbody tr th:only-of-type {\n",
       "        vertical-align: middle;\n",
       "    }\n",
       "\n",
       "    .dataframe tbody tr th {\n",
       "        vertical-align: top;\n",
       "    }\n",
       "\n",
       "    .dataframe thead th {\n",
       "        text-align: right;\n",
       "    }\n",
       "</style>\n",
       "<table border=\"1\" class=\"dataframe\">\n",
       "  <thead>\n",
       "    <tr style=\"text-align: right;\">\n",
       "      <th></th>\n",
       "      <th>Chaos_rune</th>\n",
       "      <th>Nature_rune</th>\n",
       "      <th>Soul_rune</th>\n",
       "      <th>Blood_rune</th>\n",
       "      <th>Law_rune</th>\n",
       "      <th>Rune_axe</th>\n",
       "    </tr>\n",
       "    <tr>\n",
       "      <th>timestamp</th>\n",
       "      <th></th>\n",
       "      <th></th>\n",
       "      <th></th>\n",
       "      <th></th>\n",
       "      <th></th>\n",
       "      <th></th>\n",
       "    </tr>\n",
       "  </thead>\n",
       "  <tbody>\n",
       "    <tr>\n",
       "      <th>1577227800</th>\n",
       "      <td>66</td>\n",
       "      <td>218</td>\n",
       "      <td>146</td>\n",
       "      <td>305</td>\n",
       "      <td>142</td>\n",
       "      <td>7196</td>\n",
       "    </tr>\n",
       "    <tr>\n",
       "      <th>1577229600</th>\n",
       "      <td>66</td>\n",
       "      <td>219</td>\n",
       "      <td>147</td>\n",
       "      <td>304</td>\n",
       "      <td>142</td>\n",
       "      <td>7123</td>\n",
       "    </tr>\n",
       "    <tr>\n",
       "      <th>1577231400</th>\n",
       "      <td>66</td>\n",
       "      <td>218</td>\n",
       "      <td>146</td>\n",
       "      <td>304</td>\n",
       "      <td>142</td>\n",
       "      <td>7237</td>\n",
       "    </tr>\n",
       "    <tr>\n",
       "      <th>1577233501</th>\n",
       "      <td>66</td>\n",
       "      <td>218</td>\n",
       "      <td>145</td>\n",
       "      <td>304</td>\n",
       "      <td>140</td>\n",
       "      <td>7250</td>\n",
       "    </tr>\n",
       "    <tr>\n",
       "      <th>1577235300</th>\n",
       "      <td>66</td>\n",
       "      <td>218</td>\n",
       "      <td>144</td>\n",
       "      <td>301</td>\n",
       "      <td>140</td>\n",
       "      <td>7316</td>\n",
       "    </tr>\n",
       "  </tbody>\n",
       "</table>\n",
       "</div>"
      ],
      "text/plain": [
       "            Chaos_rune  Nature_rune  Soul_rune  Blood_rune  Law_rune  Rune_axe\n",
       "timestamp                                                                     \n",
       "1577227800          66          218        146         305       142      7196\n",
       "1577229600          66          219        147         304       142      7123\n",
       "1577231400          66          218        146         304       142      7237\n",
       "1577233501          66          218        145         304       140      7250\n",
       "1577235300          66          218        144         301       140      7316"
      ]
     },
     "execution_count": 45,
     "metadata": {},
     "output_type": "execute_result"
    }
   ],
   "source": [
    "print(selected.shape)\n",
    "print(selected2.shape)\n",
    "selected.head()"
   ]
  },
  {
   "cell_type": "code",
   "execution_count": 46,
   "metadata": {},
   "outputs": [],
   "source": [
    "# stacked = pd.melt(df.reset_index(), id_vars=['timestamp'], value_vars=['Chaos_rune', 'Nature_rune', 'Soul_rune', 'Blood_rune', 'Law_rune'], var_name='var_name', value_name='value')\n",
    "# print(stacked.head())"
   ]
  },
  {
   "cell_type": "code",
   "execution_count": 47,
   "metadata": {},
   "outputs": [],
   "source": [
    "# extracted_features = extract_features(stacked, column_id=\"var_name\", column_sort=\"timestamp\")\n",
    "# impute(extracted_features)"
   ]
  },
  {
   "cell_type": "code",
   "execution_count": 51,
   "metadata": {},
   "outputs": [
    {
     "data": {
      "image/png": "[encoded data removed]",
      "text/plain": [
       "<Figure size 1080x432 with 1 Axes>"
      ]
     },
     "metadata": {
      "needs_background": "light"
     },
     "output_type": "display_data"
    }
   ],
   "source": [
    "selected['Rune_axe'].plot(figsize=(15, 6))\n",
    "plt.show()"
   ]
  },
  {
   "cell_type": "code",
   "execution_count": 54,
   "metadata": {},
   "outputs": [],
   "source": [
    "df_shift, y = make_forecasting_frame(selected[\"Rune_axe\"], kind=\"buy_average\", max_timeshift=20, rolling_direction=1)"
   ]
  },
  {
   "cell_type": "code",
   "execution_count": 55,
   "metadata": {},
   "outputs": [
    {
     "data": {
      "text/html": [
       "<div>\n",
       "<style scoped>\n",
       "    .dataframe tbody tr th:only-of-type {\n",
       "        vertical-align: middle;\n",
       "    }\n",
       "\n",
       "    .dataframe tbody tr th {\n",
       "        vertical-align: top;\n",
       "    }\n",
       "\n",
       "    .dataframe thead th {\n",
       "        text-align: right;\n",
       "    }\n",
       "</style>\n",
       "<table border=\"1\" class=\"dataframe\">\n",
       "  <thead>\n",
       "    <tr style=\"text-align: right;\">\n",
       "      <th></th>\n",
       "      <th>time</th>\n",
       "      <th>value</th>\n",
       "      <th>id</th>\n",
       "      <th>kind</th>\n",
       "    </tr>\n",
       "  </thead>\n",
       "  <tbody>\n",
       "    <tr>\n",
       "      <th>20425</th>\n",
       "      <td>1.577228e+09</td>\n",
       "      <td>7196.0</td>\n",
       "      <td>1577229600</td>\n",
       "      <td>buy_average</td>\n",
       "    </tr>\n",
       "    <tr>\n",
       "      <th>19341</th>\n",
       "      <td>1.577228e+09</td>\n",
       "      <td>7196.0</td>\n",
       "      <td>1577231400</td>\n",
       "      <td>buy_average</td>\n",
       "    </tr>\n",
       "    <tr>\n",
       "      <th>20426</th>\n",
       "      <td>1.577230e+09</td>\n",
       "      <td>7123.0</td>\n",
       "      <td>1577231400</td>\n",
       "      <td>buy_average</td>\n",
       "    </tr>\n",
       "    <tr>\n",
       "      <th>18258</th>\n",
       "      <td>1.577228e+09</td>\n",
       "      <td>7196.0</td>\n",
       "      <td>1577233501</td>\n",
       "      <td>buy_average</td>\n",
       "    </tr>\n",
       "    <tr>\n",
       "      <th>19342</th>\n",
       "      <td>1.577230e+09</td>\n",
       "      <td>7123.0</td>\n",
       "      <td>1577233501</td>\n",
       "      <td>buy_average</td>\n",
       "    </tr>\n",
       "  </tbody>\n",
       "</table>\n",
       "</div>"
      ],
      "text/plain": [
       "               time   value          id         kind\n",
       "20425  1.577228e+09  7196.0  1577229600  buy_average\n",
       "19341  1.577228e+09  7196.0  1577231400  buy_average\n",
       "20426  1.577230e+09  7123.0  1577231400  buy_average\n",
       "18258  1.577228e+09  7196.0  1577233501  buy_average\n",
       "19342  1.577230e+09  7123.0  1577233501  buy_average"
      ]
     },
     "execution_count": 55,
     "metadata": {},
     "output_type": "execute_result"
    }
   ],
   "source": [
    "df_shift.head()"
   ]
  },
  {
   "cell_type": "code",
   "execution_count": 56,
   "metadata": {},
   "outputs": [
    {
     "data": {
      "text/plain": [
       "(21510, 4)"
      ]
     },
     "execution_count": 56,
     "metadata": {},
     "output_type": "execute_result"
    }
   ],
   "source": [
    "df_shift.shape"
   ]
  },
  {
   "cell_type": "code",
   "execution_count": 57,
   "metadata": {},
   "outputs": [
    {
     "name": "stderr",
     "output_type": "stream",
     "text": [
      "Feature Extraction: 100%|██████████| 10/10 [00:49<00:00,  4.10s/it]\n"
     ]
    }
   ],
   "source": [
    "%%capture\n",
    "X = extract_features(df_shift, column_id=\"id\", column_sort=\"time\", column_value=\"value\", impute_function=impute, show_warnings=False)"
   ]
  },
  {
   "cell_type": "code",
   "execution_count": 58,
   "metadata": {},
   "outputs": [
    {
     "name": "stdout",
     "output_type": "stream",
     "text": [
      "(1085, 754)\n",
      "(1085, 349)\n"
     ]
    }
   ],
   "source": [
    "# drop constant features\n",
    "print(X.shape)\n",
    "X = X.loc[:, X.apply(pd.Series.nunique) != 1] \n",
    "print(X.shape)"
   ]
  },
  {
   "cell_type": "code",
   "execution_count": 59,
   "metadata": {},
   "outputs": [],
   "source": [
    "# Add last value as feature\n",
    "X[\"feature_last_value\"] = y.shift(1)"
   ]
  },
  {
   "cell_type": "code",
   "execution_count": 60,
   "metadata": {},
   "outputs": [],
   "source": [
    "# Drop first line\n",
    "X = X.iloc[1:, ]\n",
    "y = y.iloc[1: ]"
   ]
  },
  {
   "cell_type": "code",
   "execution_count": 61,
   "metadata": {},
   "outputs": [
    {
     "data": {
      "text/html": [
       "<div>\n",
       "<style scoped>\n",
       "    .dataframe tbody tr th:only-of-type {\n",
       "        vertical-align: middle;\n",
       "    }\n",
       "\n",
       "    .dataframe tbody tr th {\n",
       "        vertical-align: top;\n",
       "    }\n",
       "\n",
       "    .dataframe thead th {\n",
       "        text-align: right;\n",
       "    }\n",
       "</style>\n",
       "<table border=\"1\" class=\"dataframe\">\n",
       "  <thead>\n",
       "    <tr style=\"text-align: right;\">\n",
       "      <th>variable</th>\n",
       "      <th>value__abs_energy</th>\n",
       "      <th>value__absolute_sum_of_changes</th>\n",
       "      <th>value__agg_autocorrelation__f_agg_\"mean\"__maxlag_40</th>\n",
       "      <th>value__agg_autocorrelation__f_agg_\"median\"__maxlag_40</th>\n",
       "      <th>value__agg_autocorrelation__f_agg_\"var\"__maxlag_40</th>\n",
       "      <th>value__agg_linear_trend__f_agg_\"max\"__chunk_len_10__attr_\"intercept\"</th>\n",
       "      <th>value__agg_linear_trend__f_agg_\"max\"__chunk_len_10__attr_\"rvalue\"</th>\n",
       "      <th>value__agg_linear_trend__f_agg_\"max\"__chunk_len_10__attr_\"slope\"</th>\n",
       "      <th>value__agg_linear_trend__f_agg_\"max\"__chunk_len_5__attr_\"intercept\"</th>\n",
       "      <th>value__agg_linear_trend__f_agg_\"max\"__chunk_len_5__attr_\"rvalue\"</th>\n",
       "      <th>...</th>\n",
       "      <th>value__symmetry_looking__r_0.8</th>\n",
       "      <th>value__symmetry_looking__r_0.8500000000000001</th>\n",
       "      <th>value__symmetry_looking__r_0.9</th>\n",
       "      <th>value__symmetry_looking__r_0.9500000000000001</th>\n",
       "      <th>value__time_reversal_asymmetry_statistic__lag_1</th>\n",
       "      <th>value__time_reversal_asymmetry_statistic__lag_2</th>\n",
       "      <th>value__time_reversal_asymmetry_statistic__lag_3</th>\n",
       "      <th>value__variance</th>\n",
       "      <th>value__variance_larger_than_standard_deviation</th>\n",
       "      <th>feature_last_value</th>\n",
       "    </tr>\n",
       "    <tr>\n",
       "      <th>id</th>\n",
       "      <th></th>\n",
       "      <th></th>\n",
       "      <th></th>\n",
       "      <th></th>\n",
       "      <th></th>\n",
       "      <th></th>\n",
       "      <th></th>\n",
       "      <th></th>\n",
       "      <th></th>\n",
       "      <th></th>\n",
       "      <th></th>\n",
       "      <th></th>\n",
       "      <th></th>\n",
       "      <th></th>\n",
       "      <th></th>\n",
       "      <th></th>\n",
       "      <th></th>\n",
       "      <th></th>\n",
       "      <th></th>\n",
       "      <th></th>\n",
       "      <th></th>\n",
       "    </tr>\n",
       "  </thead>\n",
       "  <tbody>\n",
       "    <tr>\n",
       "      <th>1577231400</th>\n",
       "      <td>102519545.0</td>\n",
       "      <td>73.0</td>\n",
       "      <td>-1.000000</td>\n",
       "      <td>-1.000000</td>\n",
       "      <td>0.000000</td>\n",
       "      <td>7313.0</td>\n",
       "      <td>0.0</td>\n",
       "      <td>0.0</td>\n",
       "      <td>7285.5</td>\n",
       "      <td>-0.023931</td>\n",
       "      <td>...</td>\n",
       "      <td>1.0</td>\n",
       "      <td>1.0</td>\n",
       "      <td>1.0</td>\n",
       "      <td>1.0</td>\n",
       "      <td>0.000000e+00</td>\n",
       "      <td>0.000000e+00</td>\n",
       "      <td>0.0</td>\n",
       "      <td>1332.250000</td>\n",
       "      <td>1.0</td>\n",
       "      <td>7123.0</td>\n",
       "    </tr>\n",
       "    <tr>\n",
       "      <th>1577233501</th>\n",
       "      <td>154893714.0</td>\n",
       "      <td>187.0</td>\n",
       "      <td>-0.313019</td>\n",
       "      <td>-0.313019</td>\n",
       "      <td>0.314658</td>\n",
       "      <td>7313.0</td>\n",
       "      <td>0.0</td>\n",
       "      <td>0.0</td>\n",
       "      <td>7285.5</td>\n",
       "      <td>-0.023931</td>\n",
       "      <td>...</td>\n",
       "      <td>1.0</td>\n",
       "      <td>1.0</td>\n",
       "      <td>1.0</td>\n",
       "      <td>1.0</td>\n",
       "      <td>4.215057e+09</td>\n",
       "      <td>0.000000e+00</td>\n",
       "      <td>0.0</td>\n",
       "      <td>2222.888889</td>\n",
       "      <td>1.0</td>\n",
       "      <td>7237.0</td>\n",
       "    </tr>\n",
       "    <tr>\n",
       "      <th>1577235300</th>\n",
       "      <td>207456214.0</td>\n",
       "      <td>200.0</td>\n",
       "      <td>-0.337118</td>\n",
       "      <td>-0.108822</td>\n",
       "      <td>0.114951</td>\n",
       "      <td>7313.0</td>\n",
       "      <td>0.0</td>\n",
       "      <td>0.0</td>\n",
       "      <td>7285.5</td>\n",
       "      <td>-0.023931</td>\n",
       "      <td>...</td>\n",
       "      <td>1.0</td>\n",
       "      <td>1.0</td>\n",
       "      <td>1.0</td>\n",
       "      <td>1.0</td>\n",
       "      <td>8.712633e+09</td>\n",
       "      <td>0.000000e+00</td>\n",
       "      <td>0.0</td>\n",
       "      <td>2451.250000</td>\n",
       "      <td>1.0</td>\n",
       "      <td>7250.0</td>\n",
       "    </tr>\n",
       "    <tr>\n",
       "      <th>1577237100</th>\n",
       "      <td>260980070.0</td>\n",
       "      <td>266.0</td>\n",
       "      <td>-0.439896</td>\n",
       "      <td>-0.394378</td>\n",
       "      <td>0.312532</td>\n",
       "      <td>7313.0</td>\n",
       "      <td>0.0</td>\n",
       "      <td>0.0</td>\n",
       "      <td>7285.5</td>\n",
       "      <td>-0.023931</td>\n",
       "      <td>...</td>\n",
       "      <td>1.0</td>\n",
       "      <td>1.0</td>\n",
       "      <td>1.0</td>\n",
       "      <td>1.0</td>\n",
       "      <td>8.586832e+09</td>\n",
       "      <td>1.260280e+10</td>\n",
       "      <td>0.0</td>\n",
       "      <td>4058.640000</td>\n",
       "      <td>1.0</td>\n",
       "      <td>7316.0</td>\n",
       "    </tr>\n",
       "    <tr>\n",
       "      <th>1577238900</th>\n",
       "      <td>312978591.0</td>\n",
       "      <td>371.0</td>\n",
       "      <td>-0.215908</td>\n",
       "      <td>-0.151683</td>\n",
       "      <td>0.173034</td>\n",
       "      <td>7313.0</td>\n",
       "      <td>0.0</td>\n",
       "      <td>0.0</td>\n",
       "      <td>7316.0</td>\n",
       "      <td>-1.000000</td>\n",
       "      <td>...</td>\n",
       "      <td>1.0</td>\n",
       "      <td>1.0</td>\n",
       "      <td>1.0</td>\n",
       "      <td>1.0</td>\n",
       "      <td>5.408607e+09</td>\n",
       "      <td>1.087395e+10</td>\n",
       "      <td>0.0</td>\n",
       "      <td>3407.138889</td>\n",
       "      <td>1.0</td>\n",
       "      <td>7211.0</td>\n",
       "    </tr>\n",
       "  </tbody>\n",
       "</table>\n",
       "<p>5 rows × 350 columns</p>\n",
       "</div>"
      ],
      "text/plain": [
       "variable    value__abs_energy  value__absolute_sum_of_changes  \\\n",
       "id                                                              \n",
       "1577231400        102519545.0                            73.0   \n",
       "1577233501        154893714.0                           187.0   \n",
       "1577235300        207456214.0                           200.0   \n",
       "1577237100        260980070.0                           266.0   \n",
       "1577238900        312978591.0                           371.0   \n",
       "\n",
       "variable    value__agg_autocorrelation__f_agg_\"mean\"__maxlag_40  \\\n",
       "id                                                                \n",
       "1577231400                                          -1.000000     \n",
       "1577233501                                          -0.313019     \n",
       "1577235300                                          -0.337118     \n",
       "1577237100                                          -0.439896     \n",
       "1577238900                                          -0.215908     \n",
       "\n",
       "variable    value__agg_autocorrelation__f_agg_\"median\"__maxlag_40  \\\n",
       "id                                                                  \n",
       "1577231400                                          -1.000000       \n",
       "1577233501                                          -0.313019       \n",
       "1577235300                                          -0.108822       \n",
       "1577237100                                          -0.394378       \n",
       "1577238900                                          -0.151683       \n",
       "\n",
       "variable    value__agg_autocorrelation__f_agg_\"var\"__maxlag_40  \\\n",
       "id                                                               \n",
       "1577231400                                           0.000000    \n",
       "1577233501                                           0.314658    \n",
       "1577235300                                           0.114951    \n",
       "1577237100                                           0.312532    \n",
       "1577238900                                           0.173034    \n",
       "\n",
       "variable    value__agg_linear_trend__f_agg_\"max\"__chunk_len_10__attr_\"intercept\"  \\\n",
       "id                                                                                 \n",
       "1577231400                                             7313.0                      \n",
       "1577233501                                             7313.0                      \n",
       "1577235300                                             7313.0                      \n",
       "1577237100                                             7313.0                      \n",
       "1577238900                                             7313.0                      \n",
       "\n",
       "variable    value__agg_linear_trend__f_agg_\"max\"__chunk_len_10__attr_\"rvalue\"  \\\n",
       "id                                                                              \n",
       "1577231400                                                0.0                   \n",
       "1577233501                                                0.0                   \n",
       "1577235300                                                0.0                   \n",
       "1577237100                                                0.0                   \n",
       "1577238900                                                0.0                   \n",
       "\n",
       "variable    value__agg_linear_trend__f_agg_\"max\"__chunk_len_10__attr_\"slope\"  \\\n",
       "id                                                                             \n",
       "1577231400                                                0.0                  \n",
       "1577233501                                                0.0                  \n",
       "1577235300                                                0.0                  \n",
       "1577237100                                                0.0                  \n",
       "1577238900                                                0.0                  \n",
       "\n",
       "variable    value__agg_linear_trend__f_agg_\"max\"__chunk_len_5__attr_\"intercept\"  \\\n",
       "id                                                                                \n",
       "1577231400                                             7285.5                     \n",
       "1577233501                                             7285.5                     \n",
       "1577235300                                             7285.5                     \n",
       "1577237100                                             7285.5                     \n",
       "1577238900                                             7316.0                     \n",
       "\n",
       "variable    value__agg_linear_trend__f_agg_\"max\"__chunk_len_5__attr_\"rvalue\"  \\\n",
       "id                                                                             \n",
       "1577231400                                          -0.023931                  \n",
       "1577233501                                          -0.023931                  \n",
       "1577235300                                          -0.023931                  \n",
       "1577237100                                          -0.023931                  \n",
       "1577238900                                          -1.000000                  \n",
       "\n",
       "variable    ...  value__symmetry_looking__r_0.8  \\\n",
       "id          ...                                   \n",
       "1577231400  ...                             1.0   \n",
       "1577233501  ...                             1.0   \n",
       "1577235300  ...                             1.0   \n",
       "1577237100  ...                             1.0   \n",
       "1577238900  ...                             1.0   \n",
       "\n",
       "variable    value__symmetry_looking__r_0.8500000000000001  \\\n",
       "id                                                          \n",
       "1577231400                                            1.0   \n",
       "1577233501                                            1.0   \n",
       "1577235300                                            1.0   \n",
       "1577237100                                            1.0   \n",
       "1577238900                                            1.0   \n",
       "\n",
       "variable    value__symmetry_looking__r_0.9  \\\n",
       "id                                           \n",
       "1577231400                             1.0   \n",
       "1577233501                             1.0   \n",
       "1577235300                             1.0   \n",
       "1577237100                             1.0   \n",
       "1577238900                             1.0   \n",
       "\n",
       "variable    value__symmetry_looking__r_0.9500000000000001  \\\n",
       "id                                                          \n",
       "1577231400                                            1.0   \n",
       "1577233501                                            1.0   \n",
       "1577235300                                            1.0   \n",
       "1577237100                                            1.0   \n",
       "1577238900                                            1.0   \n",
       "\n",
       "variable    value__time_reversal_asymmetry_statistic__lag_1  \\\n",
       "id                                                            \n",
       "1577231400                                     0.000000e+00   \n",
       "1577233501                                     4.215057e+09   \n",
       "1577235300                                     8.712633e+09   \n",
       "1577237100                                     8.586832e+09   \n",
       "1577238900                                     5.408607e+09   \n",
       "\n",
       "variable    value__time_reversal_asymmetry_statistic__lag_2  \\\n",
       "id                                                            \n",
       "1577231400                                     0.000000e+00   \n",
       "1577233501                                     0.000000e+00   \n",
       "1577235300                                     0.000000e+00   \n",
       "1577237100                                     1.260280e+10   \n",
       "1577238900                                     1.087395e+10   \n",
       "\n",
       "variable    value__time_reversal_asymmetry_statistic__lag_3  value__variance  \\\n",
       "id                                                                             \n",
       "1577231400                                              0.0      1332.250000   \n",
       "1577233501                                              0.0      2222.888889   \n",
       "1577235300                                              0.0      2451.250000   \n",
       "1577237100                                              0.0      4058.640000   \n",
       "1577238900                                              0.0      3407.138889   \n",
       "\n",
       "variable    value__variance_larger_than_standard_deviation  feature_last_value  \n",
       "id                                                                              \n",
       "1577231400                                             1.0              7123.0  \n",
       "1577233501                                             1.0              7237.0  \n",
       "1577235300                                             1.0              7250.0  \n",
       "1577237100                                             1.0              7316.0  \n",
       "1577238900                                             1.0              7211.0  \n",
       "\n",
       "[5 rows x 350 columns]"
      ]
     },
     "execution_count": 61,
     "metadata": {},
     "output_type": "execute_result"
    }
   ],
   "source": [
    "X.head()"
   ]
  },
  {
   "cell_type": "code",
   "execution_count": null,
   "metadata": {},
   "outputs": [],
   "source": []
  },
  {
   "cell_type": "code",
   "execution_count": 62,
   "metadata": {},
   "outputs": [],
   "source": [
    "\n",
    "from tqdm import tqdm"
   ]
  },
  {
   "cell_type": "code",
   "execution_count": null,
   "metadata": {},
   "outputs": [
    {
     "name": "stderr",
     "output_type": "stream",
     "text": [
      " 69%|█████████████████████████████████████████████████████████████████████████████████████████████████████████████████████▎                                                     | 675/984 [03:27<03:11,  1.61it/s]"
     ]
    }
   ],
   "source": [
    "ada = AdaBoostRegressor(n_estimators=10)\n",
    "y_pred = [np.NaN] * len(y)\n",
    "\n",
    "isp = 100   # index of where to start the predictions\n",
    "assert isp > 0\n",
    "\n",
    "for i in tqdm(range(isp, len(y))):\n",
    "    \n",
    "    ada.fit(X.iloc[:i], y[:i])\n",
    "    y_pred[i] = ada.predict(X.iloc[i, :].values.reshape((1, -1)))[0]\n",
    "    \n",
    "y_pred = pd.Series(data=y_pred, index=y.index)"
   ]
  },
  {
   "cell_type": "code",
   "execution_count": null,
   "metadata": {},
   "outputs": [],
   "source": [
    "\n",
    "# Dataframe of predictions and true values\n",
    "ys = pd.concat([y_pred, y], axis = 1).rename(columns = {0: 'pred', 'value': 'true'})\n",
    "\n",
    "# Convert index to a datetime\n",
    "ys.index = pd.to_datetime(ys.index)\n",
    "ys.head()"
   ]
  },
  {
   "cell_type": "code",
   "execution_count": null,
   "metadata": {},
   "outputs": [],
   "source": [
    "ys.plot(figsize=(15, 8))\n",
    "plt.title('Predicted and True Price')\n",
    "plt.show()"
   ]
  },
  {
   "cell_type": "code",
   "execution_count": null,
   "metadata": {},
   "outputs": [],
   "source": [
    "# Create column of previous price\n",
    "ys['y-1'] = ys['true'].shift(1)\n",
    "ys[['y-1', 'true']].plot(figsize = (15, 8))\n",
    "plt.title('Benchmark Prediction and True Price')\n",
    "plt.show()"
   ]
  },
  {
   "cell_type": "code",
   "execution_count": null,
   "metadata": {},
   "outputs": [],
   "source": [
    "print(\"MAE y-1: \\t{}\".format(np.mean(np.abs(np.diff(y))[isp-1:] )))\n",
    "print(\"MAE ada: \\t{}\".format(np.mean(np.abs(y_pred - y)[isp:])))"
   ]
  },
  {
   "cell_type": "code",
   "execution_count": null,
   "metadata": {
    "scrolled": true
   },
   "outputs": [],
   "source": [
    "importances = pd.Series(index=X.columns, data=ada.feature_importances_)\n",
    "importances.sort_values(ascending=False).head(10)"
   ]
  },
  {
   "cell_type": "code",
   "execution_count": null,
   "metadata": {},
   "outputs": [],
   "source": []
  }
 ],
 "metadata": {
  "kernelspec": {
   "display_name": "Python 3",
   "language": "python",
   "name": "python3"
  },
  "language_info": {
   "codemirror_mode": {
    "name": "ipython",
    "version": 3
   },
   "file_extension": ".py",
   "mimetype": "text/x-python",
   "name": "python",
   "nbconvert_exporter": "python",
   "pygments_lexer": "ipython3",
   "version": "3.6.9"
  }
 },
 "nbformat": 4,
 "nbformat_minor": 2
}
