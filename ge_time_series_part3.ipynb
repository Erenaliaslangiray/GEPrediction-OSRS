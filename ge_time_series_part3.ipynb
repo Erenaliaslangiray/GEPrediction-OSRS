{
 "cells": [
  {
   "cell_type": "code",
   "execution_count": 57,
   "metadata": {
    "colab": {},
    "colab_type": "code",
    "id": "7rZnJaGTWQw0"
   },
   "outputs": [],
   "source": [
    "from __future__ import absolute_import, division, print_function, unicode_literals\n",
    "import tensorflow as tf\n",
    "import matplotlib as mpl\n",
    "import matplotlib.pyplot as plt\n",
    "import numpy as np\n",
    "import os\n",
    "import pandas as pd\n",
    "\n",
    "mpl.rcParams['figure.figsize'] = (8, 6)\n",
    "mpl.rcParams['axes.grid'] = False\n",
    "%matplotlib inline"
   ]
  },
  {
   "cell_type": "markdown",
   "metadata": {
    "colab_type": "text",
    "id": "TokBlnUhWFw9"
   },
   "source": [
    "## The GE dataset"
   ]
  },
  {
   "cell_type": "code",
   "execution_count": 58,
   "metadata": {
    "colab": {},
    "colab_type": "code",
    "collapsed": true,
    "id": "TX6uGeeeWIkG"
   },
   "outputs": [],
   "source": [
    "buy_average = pd.read_csv(\"data/rsbuddy/buy_average.csv\")\n",
    "buy_average = buy_average.set_index('timestamp')"
   ]
  },
  {
   "cell_type": "code",
   "execution_count": 59,
   "metadata": {
    "colab": {},
    "colab_type": "code",
    "id": "ojHE-iCCWIhz"
   },
   "outputs": [
    {
     "data": {
      "text/html": [
       "<div>\n",
       "<style scoped>\n",
       "    .dataframe tbody tr th:only-of-type {\n",
       "        vertical-align: middle;\n",
       "    }\n",
       "\n",
       "    .dataframe tbody tr th {\n",
       "        vertical-align: top;\n",
       "    }\n",
       "\n",
       "    .dataframe thead th {\n",
       "        text-align: right;\n",
       "    }\n",
       "</style>\n",
       "<table border=\"1\" class=\"dataframe\">\n",
       "  <thead>\n",
       "    <tr style=\"text-align: right;\">\n",
       "      <th></th>\n",
       "      <th>Cannonball</th>\n",
       "      <th>Cannon_base</th>\n",
       "      <th>Cannon_stand</th>\n",
       "      <th>Cannon_barrels</th>\n",
       "      <th>Cannon_furnace</th>\n",
       "      <th>Insect_repellent</th>\n",
       "      <th>Bucket_of_wax</th>\n",
       "      <th>Candle</th>\n",
       "      <th>Bronze_arrowtips</th>\n",
       "      <th>Iron_arrowtips</th>\n",
       "      <th>...</th>\n",
       "      <th>Watchtower_teleport</th>\n",
       "      <th>Teleport_to_house</th>\n",
       "      <th>Bones_to_bananas</th>\n",
       "      <th>Bones_to_peaches</th>\n",
       "      <th>Enchant_sapphire_or_opal</th>\n",
       "      <th>Enchant_emerald_or_jade</th>\n",
       "      <th>Enchant_ruby_or_topaz</th>\n",
       "      <th>Enchant_diamond</th>\n",
       "      <th>Enchant_dragonstone</th>\n",
       "      <th>Enchant_onyx</th>\n",
       "    </tr>\n",
       "    <tr>\n",
       "      <th>timestamp</th>\n",
       "      <th></th>\n",
       "      <th></th>\n",
       "      <th></th>\n",
       "      <th></th>\n",
       "      <th></th>\n",
       "      <th></th>\n",
       "      <th></th>\n",
       "      <th></th>\n",
       "      <th></th>\n",
       "      <th></th>\n",
       "      <th></th>\n",
       "      <th></th>\n",
       "      <th></th>\n",
       "      <th></th>\n",
       "      <th></th>\n",
       "      <th></th>\n",
       "      <th></th>\n",
       "      <th></th>\n",
       "      <th></th>\n",
       "      <th></th>\n",
       "      <th></th>\n",
       "    </tr>\n",
       "  </thead>\n",
       "  <tbody>\n",
       "    <tr>\n",
       "      <th>1577227800</th>\n",
       "      <td>174</td>\n",
       "      <td>188000</td>\n",
       "      <td>186627</td>\n",
       "      <td>0</td>\n",
       "      <td>193811</td>\n",
       "      <td>202</td>\n",
       "      <td>4800</td>\n",
       "      <td>398</td>\n",
       "      <td>0</td>\n",
       "      <td>3</td>\n",
       "      <td>...</td>\n",
       "      <td>380</td>\n",
       "      <td>461</td>\n",
       "      <td>0</td>\n",
       "      <td>831</td>\n",
       "      <td>0</td>\n",
       "      <td>0</td>\n",
       "      <td>0</td>\n",
       "      <td>0</td>\n",
       "      <td>0</td>\n",
       "      <td>0</td>\n",
       "    </tr>\n",
       "    <tr>\n",
       "      <th>1577228101</th>\n",
       "      <td>174</td>\n",
       "      <td>188000</td>\n",
       "      <td>186627</td>\n",
       "      <td>0</td>\n",
       "      <td>193811</td>\n",
       "      <td>202</td>\n",
       "      <td>4800</td>\n",
       "      <td>398</td>\n",
       "      <td>0</td>\n",
       "      <td>3</td>\n",
       "      <td>...</td>\n",
       "      <td>380</td>\n",
       "      <td>461</td>\n",
       "      <td>0</td>\n",
       "      <td>831</td>\n",
       "      <td>0</td>\n",
       "      <td>0</td>\n",
       "      <td>0</td>\n",
       "      <td>0</td>\n",
       "      <td>0</td>\n",
       "      <td>0</td>\n",
       "    </tr>\n",
       "    <tr>\n",
       "      <th>1577228400</th>\n",
       "      <td>174</td>\n",
       "      <td>188000</td>\n",
       "      <td>186627</td>\n",
       "      <td>0</td>\n",
       "      <td>193811</td>\n",
       "      <td>202</td>\n",
       "      <td>4800</td>\n",
       "      <td>398</td>\n",
       "      <td>0</td>\n",
       "      <td>3</td>\n",
       "      <td>...</td>\n",
       "      <td>380</td>\n",
       "      <td>461</td>\n",
       "      <td>0</td>\n",
       "      <td>831</td>\n",
       "      <td>0</td>\n",
       "      <td>0</td>\n",
       "      <td>0</td>\n",
       "      <td>0</td>\n",
       "      <td>0</td>\n",
       "      <td>0</td>\n",
       "    </tr>\n",
       "    <tr>\n",
       "      <th>1577228700</th>\n",
       "      <td>174</td>\n",
       "      <td>188000</td>\n",
       "      <td>186627</td>\n",
       "      <td>0</td>\n",
       "      <td>193811</td>\n",
       "      <td>202</td>\n",
       "      <td>4800</td>\n",
       "      <td>398</td>\n",
       "      <td>0</td>\n",
       "      <td>3</td>\n",
       "      <td>...</td>\n",
       "      <td>380</td>\n",
       "      <td>461</td>\n",
       "      <td>0</td>\n",
       "      <td>831</td>\n",
       "      <td>0</td>\n",
       "      <td>0</td>\n",
       "      <td>0</td>\n",
       "      <td>0</td>\n",
       "      <td>0</td>\n",
       "      <td>0</td>\n",
       "    </tr>\n",
       "    <tr>\n",
       "      <th>1577229001</th>\n",
       "      <td>174</td>\n",
       "      <td>188000</td>\n",
       "      <td>186627</td>\n",
       "      <td>0</td>\n",
       "      <td>193811</td>\n",
       "      <td>202</td>\n",
       "      <td>4800</td>\n",
       "      <td>398</td>\n",
       "      <td>0</td>\n",
       "      <td>3</td>\n",
       "      <td>...</td>\n",
       "      <td>380</td>\n",
       "      <td>461</td>\n",
       "      <td>0</td>\n",
       "      <td>831</td>\n",
       "      <td>0</td>\n",
       "      <td>0</td>\n",
       "      <td>0</td>\n",
       "      <td>0</td>\n",
       "      <td>0</td>\n",
       "      <td>0</td>\n",
       "    </tr>\n",
       "  </tbody>\n",
       "</table>\n",
       "<p>5 rows × 3657 columns</p>\n",
       "</div>"
      ],
      "text/plain": [
       "            Cannonball  Cannon_base  Cannon_stand  Cannon_barrels  \\\n",
       "timestamp                                                           \n",
       "1577227800         174       188000        186627               0   \n",
       "1577228101         174       188000        186627               0   \n",
       "1577228400         174       188000        186627               0   \n",
       "1577228700         174       188000        186627               0   \n",
       "1577229001         174       188000        186627               0   \n",
       "\n",
       "            Cannon_furnace  Insect_repellent  Bucket_of_wax  Candle  \\\n",
       "timestamp                                                             \n",
       "1577227800          193811               202           4800     398   \n",
       "1577228101          193811               202           4800     398   \n",
       "1577228400          193811               202           4800     398   \n",
       "1577228700          193811               202           4800     398   \n",
       "1577229001          193811               202           4800     398   \n",
       "\n",
       "            Bronze_arrowtips  Iron_arrowtips  ...  Watchtower_teleport  \\\n",
       "timestamp                                     ...                        \n",
       "1577227800                 0               3  ...                  380   \n",
       "1577228101                 0               3  ...                  380   \n",
       "1577228400                 0               3  ...                  380   \n",
       "1577228700                 0               3  ...                  380   \n",
       "1577229001                 0               3  ...                  380   \n",
       "\n",
       "            Teleport_to_house  Bones_to_bananas  Bones_to_peaches  \\\n",
       "timestamp                                                           \n",
       "1577227800                461                 0               831   \n",
       "1577228101                461                 0               831   \n",
       "1577228400                461                 0               831   \n",
       "1577228700                461                 0               831   \n",
       "1577229001                461                 0               831   \n",
       "\n",
       "            Enchant_sapphire_or_opal  Enchant_emerald_or_jade  \\\n",
       "timestamp                                                       \n",
       "1577227800                         0                        0   \n",
       "1577228101                         0                        0   \n",
       "1577228400                         0                        0   \n",
       "1577228700                         0                        0   \n",
       "1577229001                         0                        0   \n",
       "\n",
       "            Enchant_ruby_or_topaz  Enchant_diamond  Enchant_dragonstone  \\\n",
       "timestamp                                                                 \n",
       "1577227800                      0                0                    0   \n",
       "1577228101                      0                0                    0   \n",
       "1577228400                      0                0                    0   \n",
       "1577228700                      0                0                    0   \n",
       "1577229001                      0                0                    0   \n",
       "\n",
       "            Enchant_onyx  \n",
       "timestamp                 \n",
       "1577227800             0  \n",
       "1577228101             0  \n",
       "1577228400             0  \n",
       "1577228700             0  \n",
       "1577229001             0  \n",
       "\n",
       "[5 rows x 3657 columns]"
      ]
     },
     "execution_count": 59,
     "metadata": {},
     "output_type": "execute_result"
    }
   ],
   "source": [
    "buy_average.head()"
   ]
  },
  {
   "cell_type": "code",
   "execution_count": 60,
   "metadata": {},
   "outputs": [
    {
     "data": {
      "text/plain": [
       "(3398, 3657)"
      ]
     },
     "execution_count": 60,
     "metadata": {},
     "output_type": "execute_result"
    }
   ],
   "source": [
    "buy_average.shape"
   ]
  },
  {
   "cell_type": "code",
   "execution_count": 61,
   "metadata": {
    "collapsed": true
   },
   "outputs": [],
   "source": [
    "buy_average = buy_average.drop_duplicates()"
   ]
  },
  {
   "cell_type": "code",
   "execution_count": 62,
   "metadata": {},
   "outputs": [
    {
     "data": {
      "text/plain": [
       "(1086, 3657)"
      ]
     },
     "execution_count": 62,
     "metadata": {},
     "output_type": "execute_result"
    }
   ],
   "source": [
    "buy_average.shape"
   ]
  },
  {
   "cell_type": "code",
   "execution_count": 63,
   "metadata": {},
   "outputs": [
    {
     "name": "stdout",
     "output_type": "stream",
     "text": [
      "(1086, 6)\n"
     ]
    },
    {
     "data": {
      "text/html": [
       "<div>\n",
       "<style scoped>\n",
       "    .dataframe tbody tr th:only-of-type {\n",
       "        vertical-align: middle;\n",
       "    }\n",
       "\n",
       "    .dataframe tbody tr th {\n",
       "        vertical-align: top;\n",
       "    }\n",
       "\n",
       "    .dataframe thead th {\n",
       "        text-align: right;\n",
       "    }\n",
       "</style>\n",
       "<table border=\"1\" class=\"dataframe\">\n",
       "  <thead>\n",
       "    <tr style=\"text-align: right;\">\n",
       "      <th></th>\n",
       "      <th>Rune_axe</th>\n",
       "      <th>Rune_2h_sword</th>\n",
       "      <th>Rune_scimitar</th>\n",
       "      <th>Rune_chainbody</th>\n",
       "      <th>Rune_full_helm</th>\n",
       "      <th>Rune_kiteshield</th>\n",
       "    </tr>\n",
       "    <tr>\n",
       "      <th>timestamp</th>\n",
       "      <th></th>\n",
       "      <th></th>\n",
       "      <th></th>\n",
       "      <th></th>\n",
       "      <th></th>\n",
       "      <th></th>\n",
       "    </tr>\n",
       "  </thead>\n",
       "  <tbody>\n",
       "    <tr>\n",
       "      <th>1577227800</th>\n",
       "      <td>7196</td>\n",
       "      <td>37882</td>\n",
       "      <td>15022</td>\n",
       "      <td>29748</td>\n",
       "      <td>20602</td>\n",
       "      <td>32079</td>\n",
       "    </tr>\n",
       "    <tr>\n",
       "      <th>1577229600</th>\n",
       "      <td>7123</td>\n",
       "      <td>37881</td>\n",
       "      <td>15036</td>\n",
       "      <td>29657</td>\n",
       "      <td>20600</td>\n",
       "      <td>32095</td>\n",
       "    </tr>\n",
       "    <tr>\n",
       "      <th>1577231400</th>\n",
       "      <td>7237</td>\n",
       "      <td>37821</td>\n",
       "      <td>15019</td>\n",
       "      <td>29577</td>\n",
       "      <td>20633</td>\n",
       "      <td>32340</td>\n",
       "    </tr>\n",
       "    <tr>\n",
       "      <th>1577233501</th>\n",
       "      <td>7250</td>\n",
       "      <td>37816</td>\n",
       "      <td>15018</td>\n",
       "      <td>29530</td>\n",
       "      <td>20634</td>\n",
       "      <td>32152</td>\n",
       "    </tr>\n",
       "    <tr>\n",
       "      <th>1577235300</th>\n",
       "      <td>7316</td>\n",
       "      <td>37819</td>\n",
       "      <td>15009</td>\n",
       "      <td>29743</td>\n",
       "      <td>20785</td>\n",
       "      <td>32119</td>\n",
       "    </tr>\n",
       "  </tbody>\n",
       "</table>\n",
       "</div>"
      ],
      "text/plain": [
       "            Rune_axe  Rune_2h_sword  Rune_scimitar  Rune_chainbody  \\\n",
       "timestamp                                                            \n",
       "1577227800      7196          37882          15022           29748   \n",
       "1577229600      7123          37881          15036           29657   \n",
       "1577231400      7237          37821          15019           29577   \n",
       "1577233501      7250          37816          15018           29530   \n",
       "1577235300      7316          37819          15009           29743   \n",
       "\n",
       "            Rune_full_helm  Rune_kiteshield  \n",
       "timestamp                                    \n",
       "1577227800           20602            32079  \n",
       "1577229600           20600            32095  \n",
       "1577231400           20633            32340  \n",
       "1577233501           20634            32152  \n",
       "1577235300           20785            32119  "
      ]
     },
     "execution_count": 63,
     "metadata": {},
     "output_type": "execute_result"
    }
   ],
   "source": [
    "item_to_predict = 'Rune_scimitar'\n",
    "items_selected = ['Rune_axe', 'Rune_2h_sword', 'Rune_scimitar', 'Rune_chainbody', 'Rune_full_helm', 'Rune_kiteshield']\n",
    "df = buy_average[items_selected].replace(to_replace=0, method='ffill')\n",
    "print(df.shape)\n",
    "df.head()"
   ]
  },
  {
   "cell_type": "markdown",
   "metadata": {},
   "source": [
    "# Feature Engineering"
   ]
  },
  {
   "cell_type": "markdown",
   "metadata": {},
   "source": [
    "## Known finance features (MACD, RSI)"
   ]
  },
  {
   "cell_type": "code",
   "execution_count": 64,
   "metadata": {
    "collapsed": true
   },
   "outputs": [],
   "source": [
    "def moving_average_convergence(group, nslow=26, nfast=12):\n",
    "    emaslow = group.ewm(span=nslow, min_periods=1).mean()\n",
    "    emafast = group.ewm(span=nfast, min_periods=1).mean()\n",
    "    result = pd.DataFrame({'MACD': emafast-emaslow, 'emaSlw': emaslow, 'emaFst': emafast})\n",
    "    return result\n",
    "\n",
    "def moving_average(group, n=9):\n",
    "    sma = group.rolling(n).mean()\n",
    "    sma=sma.rename('SMA')\n",
    "    return sma\n",
    "\n",
    "def RSI(group, n=14):\n",
    "    delta = group.diff()\n",
    "    dUp, dDown = delta.copy(), delta.copy()\n",
    "    dUp[dUp < 0] = 0\n",
    "    dDown[dDown > 0] = 0\n",
    "\n",
    "    RolUp = dUp.rolling(n).mean()\n",
    "    RolDown = dDown.rolling(n).mean().abs()\n",
    "    \n",
    "    RS = RolUp / RolDown\n",
    "    rsi= 100.0 - (100.0 / (1.0 + RS))\n",
    "    rsi=rsi.rename('RSI')\n",
    "    return rsi"
   ]
  },
  {
   "cell_type": "code",
   "execution_count": 65,
   "metadata": {},
   "outputs": [
    {
     "data": {
      "text/html": [
       "<div>\n",
       "<style scoped>\n",
       "    .dataframe tbody tr th:only-of-type {\n",
       "        vertical-align: middle;\n",
       "    }\n",
       "\n",
       "    .dataframe tbody tr th {\n",
       "        vertical-align: top;\n",
       "    }\n",
       "\n",
       "    .dataframe thead th {\n",
       "        text-align: right;\n",
       "    }\n",
       "</style>\n",
       "<table border=\"1\" class=\"dataframe\">\n",
       "  <thead>\n",
       "    <tr style=\"text-align: right;\">\n",
       "      <th></th>\n",
       "      <th>MACD</th>\n",
       "      <th>emaSlw</th>\n",
       "      <th>emaFst</th>\n",
       "      <th>SMA</th>\n",
       "      <th>RSI</th>\n",
       "    </tr>\n",
       "    <tr>\n",
       "      <th>timestamp</th>\n",
       "      <th></th>\n",
       "      <th></th>\n",
       "      <th></th>\n",
       "      <th></th>\n",
       "      <th></th>\n",
       "    </tr>\n",
       "  </thead>\n",
       "  <tbody>\n",
       "    <tr>\n",
       "      <th>1577227800</th>\n",
       "      <td>0.000000</td>\n",
       "      <td>15022.000000</td>\n",
       "      <td>15022.000000</td>\n",
       "      <td>NaN</td>\n",
       "      <td>NaN</td>\n",
       "    </tr>\n",
       "    <tr>\n",
       "      <th>1577229600</th>\n",
       "      <td>0.314103</td>\n",
       "      <td>15029.269231</td>\n",
       "      <td>15029.583333</td>\n",
       "      <td>NaN</td>\n",
       "      <td>NaN</td>\n",
       "    </tr>\n",
       "    <tr>\n",
       "      <th>1577231400</th>\n",
       "      <td>-0.126940</td>\n",
       "      <td>15025.579596</td>\n",
       "      <td>15025.452656</td>\n",
       "      <td>NaN</td>\n",
       "      <td>NaN</td>\n",
       "    </tr>\n",
       "    <tr>\n",
       "      <th>1577233501</th>\n",
       "      <td>-0.360528</td>\n",
       "      <td>15023.460672</td>\n",
       "      <td>15023.100144</td>\n",
       "      <td>NaN</td>\n",
       "      <td>NaN</td>\n",
       "    </tr>\n",
       "    <tr>\n",
       "      <th>1577235300</th>\n",
       "      <td>-0.837998</td>\n",
       "      <td>15020.107183</td>\n",
       "      <td>15019.269185</td>\n",
       "      <td>NaN</td>\n",
       "      <td>NaN</td>\n",
       "    </tr>\n",
       "  </tbody>\n",
       "</table>\n",
       "</div>"
      ],
      "text/plain": [
       "                MACD        emaSlw        emaFst  SMA  RSI\n",
       "timestamp                                                 \n",
       "1577227800  0.000000  15022.000000  15022.000000  NaN  NaN\n",
       "1577229600  0.314103  15029.269231  15029.583333  NaN  NaN\n",
       "1577231400 -0.126940  15025.579596  15025.452656  NaN  NaN\n",
       "1577233501 -0.360528  15023.460672  15023.100144  NaN  NaN\n",
       "1577235300 -0.837998  15020.107183  15019.269185  NaN  NaN"
      ]
     },
     "execution_count": 65,
     "metadata": {},
     "output_type": "execute_result"
    }
   ],
   "source": [
    "macd = moving_average_convergence(df[item_to_predict])\n",
    "sma = moving_average(df[item_to_predict])\n",
    "rsi = RSI(df[item_to_predict], 10)\n",
    "finance_features = pd.concat([macd, sma, rsi], axis=1)\n",
    "finance_features.head()"
   ]
  },
  {
   "cell_type": "markdown",
   "metadata": {},
   "source": [
    "## Fetched API features (buy quantity, sell price average)"
   ]
  },
  {
   "cell_type": "code",
   "execution_count": 66,
   "metadata": {},
   "outputs": [
    {
     "name": "stdout",
     "output_type": "stream",
     "text": [
      "(1086, 6)\n"
     ]
    },
    {
     "data": {
      "text/html": [
       "<div>\n",
       "<style scoped>\n",
       "    .dataframe tbody tr th:only-of-type {\n",
       "        vertical-align: middle;\n",
       "    }\n",
       "\n",
       "    .dataframe tbody tr th {\n",
       "        vertical-align: top;\n",
       "    }\n",
       "\n",
       "    .dataframe thead th {\n",
       "        text-align: right;\n",
       "    }\n",
       "</style>\n",
       "<table border=\"1\" class=\"dataframe\">\n",
       "  <thead>\n",
       "    <tr style=\"text-align: right;\">\n",
       "      <th></th>\n",
       "      <th>Rune_axe_sa</th>\n",
       "      <th>Rune_2h_sword_sa</th>\n",
       "      <th>Rune_scimitar_sa</th>\n",
       "      <th>Rune_chainbody_sa</th>\n",
       "      <th>Rune_full_helm_sa</th>\n",
       "      <th>Rune_kiteshield_sa</th>\n",
       "    </tr>\n",
       "    <tr>\n",
       "      <th>timestamp</th>\n",
       "      <th></th>\n",
       "      <th></th>\n",
       "      <th></th>\n",
       "      <th></th>\n",
       "      <th></th>\n",
       "      <th></th>\n",
       "    </tr>\n",
       "  </thead>\n",
       "  <tbody>\n",
       "    <tr>\n",
       "      <th>1577227800</th>\n",
       "      <td>7178</td>\n",
       "      <td>37818</td>\n",
       "      <td>14979</td>\n",
       "      <td>29506</td>\n",
       "      <td>20590</td>\n",
       "      <td>32059</td>\n",
       "    </tr>\n",
       "    <tr>\n",
       "      <th>1577229600</th>\n",
       "      <td>7147</td>\n",
       "      <td>37848</td>\n",
       "      <td>14982</td>\n",
       "      <td>29507</td>\n",
       "      <td>20595</td>\n",
       "      <td>32052</td>\n",
       "    </tr>\n",
       "    <tr>\n",
       "      <th>1577231400</th>\n",
       "      <td>7150</td>\n",
       "      <td>37828</td>\n",
       "      <td>14988</td>\n",
       "      <td>29498</td>\n",
       "      <td>20597</td>\n",
       "      <td>32053</td>\n",
       "    </tr>\n",
       "    <tr>\n",
       "      <th>1577233501</th>\n",
       "      <td>7160</td>\n",
       "      <td>37795</td>\n",
       "      <td>14991</td>\n",
       "      <td>29448</td>\n",
       "      <td>20600</td>\n",
       "      <td>32058</td>\n",
       "    </tr>\n",
       "    <tr>\n",
       "      <th>1577235300</th>\n",
       "      <td>7191</td>\n",
       "      <td>37808</td>\n",
       "      <td>14995</td>\n",
       "      <td>29430</td>\n",
       "      <td>20596</td>\n",
       "      <td>32061</td>\n",
       "    </tr>\n",
       "  </tbody>\n",
       "</table>\n",
       "</div>"
      ],
      "text/plain": [
       "            Rune_axe_sa  Rune_2h_sword_sa  Rune_scimitar_sa  \\\n",
       "timestamp                                                     \n",
       "1577227800         7178             37818             14979   \n",
       "1577229600         7147             37848             14982   \n",
       "1577231400         7150             37828             14988   \n",
       "1577233501         7160             37795             14991   \n",
       "1577235300         7191             37808             14995   \n",
       "\n",
       "            Rune_chainbody_sa  Rune_full_helm_sa  Rune_kiteshield_sa  \n",
       "timestamp                                                             \n",
       "1577227800              29506              20590               32059  \n",
       "1577229600              29507              20595               32052  \n",
       "1577231400              29498              20597               32053  \n",
       "1577233501              29448              20600               32058  \n",
       "1577235300              29430              20596               32061  "
      ]
     },
     "execution_count": 66,
     "metadata": {},
     "output_type": "execute_result"
    }
   ],
   "source": [
    "sell_average = pd.read_csv(\"data/rsbuddy/sell_average.csv\")\n",
    "sell_average = sell_average.set_index('timestamp')\n",
    "sell_average = sell_average.drop_duplicates()\n",
    "sell_average = sell_average[items_selected].replace(to_replace=0, method='ffill')\n",
    "print(sell_average.shape)\n",
    "sell_average.columns = [str(col) + '_sa' for col in sell_average.columns]\n",
    "sell_average.head()"
   ]
  },
  {
   "cell_type": "code",
   "execution_count": 67,
   "metadata": {},
   "outputs": [
    {
     "name": "stdout",
     "output_type": "stream",
     "text": [
      "(1086, 6)\n"
     ]
    },
    {
     "data": {
      "text/html": [
       "<div>\n",
       "<style scoped>\n",
       "    .dataframe tbody tr th:only-of-type {\n",
       "        vertical-align: middle;\n",
       "    }\n",
       "\n",
       "    .dataframe tbody tr th {\n",
       "        vertical-align: top;\n",
       "    }\n",
       "\n",
       "    .dataframe thead th {\n",
       "        text-align: right;\n",
       "    }\n",
       "</style>\n",
       "<table border=\"1\" class=\"dataframe\">\n",
       "  <thead>\n",
       "    <tr style=\"text-align: right;\">\n",
       "      <th></th>\n",
       "      <th>Rune_axe_bq</th>\n",
       "      <th>Rune_2h_sword_bq</th>\n",
       "      <th>Rune_scimitar_bq</th>\n",
       "      <th>Rune_chainbody_bq</th>\n",
       "      <th>Rune_full_helm_bq</th>\n",
       "      <th>Rune_kiteshield_bq</th>\n",
       "    </tr>\n",
       "    <tr>\n",
       "      <th>timestamp</th>\n",
       "      <th></th>\n",
       "      <th></th>\n",
       "      <th></th>\n",
       "      <th></th>\n",
       "      <th></th>\n",
       "      <th></th>\n",
       "    </tr>\n",
       "  </thead>\n",
       "  <tbody>\n",
       "    <tr>\n",
       "      <th>1577227800</th>\n",
       "      <td>85</td>\n",
       "      <td>234</td>\n",
       "      <td>62</td>\n",
       "      <td>1</td>\n",
       "      <td>256</td>\n",
       "      <td>220</td>\n",
       "    </tr>\n",
       "    <tr>\n",
       "      <th>1577229600</th>\n",
       "      <td>26</td>\n",
       "      <td>170</td>\n",
       "      <td>40</td>\n",
       "      <td>22</td>\n",
       "      <td>202</td>\n",
       "      <td>159</td>\n",
       "    </tr>\n",
       "    <tr>\n",
       "      <th>1577231400</th>\n",
       "      <td>4</td>\n",
       "      <td>76</td>\n",
       "      <td>55</td>\n",
       "      <td>53</td>\n",
       "      <td>75</td>\n",
       "      <td>23</td>\n",
       "    </tr>\n",
       "    <tr>\n",
       "      <th>1577233501</th>\n",
       "      <td>2</td>\n",
       "      <td>201</td>\n",
       "      <td>57</td>\n",
       "      <td>33</td>\n",
       "      <td>32</td>\n",
       "      <td>86</td>\n",
       "    </tr>\n",
       "    <tr>\n",
       "      <th>1577235300</th>\n",
       "      <td>5</td>\n",
       "      <td>241</td>\n",
       "      <td>13</td>\n",
       "      <td>29</td>\n",
       "      <td>3</td>\n",
       "      <td>91</td>\n",
       "    </tr>\n",
       "  </tbody>\n",
       "</table>\n",
       "</div>"
      ],
      "text/plain": [
       "            Rune_axe_bq  Rune_2h_sword_bq  Rune_scimitar_bq  \\\n",
       "timestamp                                                     \n",
       "1577227800           85               234                62   \n",
       "1577229600           26               170                40   \n",
       "1577231400            4                76                55   \n",
       "1577233501            2               201                57   \n",
       "1577235300            5               241                13   \n",
       "\n",
       "            Rune_chainbody_bq  Rune_full_helm_bq  Rune_kiteshield_bq  \n",
       "timestamp                                                             \n",
       "1577227800                  1                256                 220  \n",
       "1577229600                 22                202                 159  \n",
       "1577231400                 53                 75                  23  \n",
       "1577233501                 33                 32                  86  \n",
       "1577235300                 29                  3                  91  "
      ]
     },
     "execution_count": 67,
     "metadata": {},
     "output_type": "execute_result"
    }
   ],
   "source": [
    "buy_quantity = pd.read_csv(\"data/rsbuddy/buy_quantity.csv\")\n",
    "buy_quantity = buy_quantity.set_index('timestamp')\n",
    "buy_quantity = buy_quantity.drop_duplicates()\n",
    "buy_quantity = buy_quantity[items_selected].replace(to_replace=0, method='ffill')\n",
    "print(buy_quantity.shape)\n",
    "buy_quantity.columns = [str(col) + '_bq' for col in buy_quantity.columns]\n",
    "buy_quantity.head()"
   ]
  },
  {
   "cell_type": "code",
   "execution_count": 68,
   "metadata": {},
   "outputs": [
    {
     "name": "stdout",
     "output_type": "stream",
     "text": [
      "(1086, 6)\n"
     ]
    },
    {
     "data": {
      "text/html": [
       "<div>\n",
       "<style scoped>\n",
       "    .dataframe tbody tr th:only-of-type {\n",
       "        vertical-align: middle;\n",
       "    }\n",
       "\n",
       "    .dataframe tbody tr th {\n",
       "        vertical-align: top;\n",
       "    }\n",
       "\n",
       "    .dataframe thead th {\n",
       "        text-align: right;\n",
       "    }\n",
       "</style>\n",
       "<table border=\"1\" class=\"dataframe\">\n",
       "  <thead>\n",
       "    <tr style=\"text-align: right;\">\n",
       "      <th></th>\n",
       "      <th>Rune_axe_sq</th>\n",
       "      <th>Rune_2h_sword_sq</th>\n",
       "      <th>Rune_scimitar_sq</th>\n",
       "      <th>Rune_chainbody_sq</th>\n",
       "      <th>Rune_full_helm_sq</th>\n",
       "      <th>Rune_kiteshield_sq</th>\n",
       "    </tr>\n",
       "    <tr>\n",
       "      <th>timestamp</th>\n",
       "      <th></th>\n",
       "      <th></th>\n",
       "      <th></th>\n",
       "      <th></th>\n",
       "      <th></th>\n",
       "      <th></th>\n",
       "    </tr>\n",
       "  </thead>\n",
       "  <tbody>\n",
       "    <tr>\n",
       "      <th>1577227800</th>\n",
       "      <td>38</td>\n",
       "      <td>33</td>\n",
       "      <td>56</td>\n",
       "      <td>56</td>\n",
       "      <td>145</td>\n",
       "      <td>167</td>\n",
       "    </tr>\n",
       "    <tr>\n",
       "      <th>1577229600</th>\n",
       "      <td>23</td>\n",
       "      <td>23</td>\n",
       "      <td>68</td>\n",
       "      <td>59</td>\n",
       "      <td>171</td>\n",
       "      <td>112</td>\n",
       "    </tr>\n",
       "    <tr>\n",
       "      <th>1577231400</th>\n",
       "      <td>47</td>\n",
       "      <td>26</td>\n",
       "      <td>136</td>\n",
       "      <td>57</td>\n",
       "      <td>165</td>\n",
       "      <td>70</td>\n",
       "    </tr>\n",
       "    <tr>\n",
       "      <th>1577233501</th>\n",
       "      <td>47</td>\n",
       "      <td>23</td>\n",
       "      <td>151</td>\n",
       "      <td>61</td>\n",
       "      <td>89</td>\n",
       "      <td>78</td>\n",
       "    </tr>\n",
       "    <tr>\n",
       "      <th>1577235300</th>\n",
       "      <td>15</td>\n",
       "      <td>17</td>\n",
       "      <td>47</td>\n",
       "      <td>37</td>\n",
       "      <td>138</td>\n",
       "      <td>122</td>\n",
       "    </tr>\n",
       "  </tbody>\n",
       "</table>\n",
       "</div>"
      ],
      "text/plain": [
       "            Rune_axe_sq  Rune_2h_sword_sq  Rune_scimitar_sq  \\\n",
       "timestamp                                                     \n",
       "1577227800           38                33                56   \n",
       "1577229600           23                23                68   \n",
       "1577231400           47                26               136   \n",
       "1577233501           47                23               151   \n",
       "1577235300           15                17                47   \n",
       "\n",
       "            Rune_chainbody_sq  Rune_full_helm_sq  Rune_kiteshield_sq  \n",
       "timestamp                                                             \n",
       "1577227800                 56                145                 167  \n",
       "1577229600                 59                171                 112  \n",
       "1577231400                 57                165                  70  \n",
       "1577233501                 61                 89                  78  \n",
       "1577235300                 37                138                 122  "
      ]
     },
     "execution_count": 68,
     "metadata": {},
     "output_type": "execute_result"
    }
   ],
   "source": [
    "sell_quantity = pd.read_csv(\"data/rsbuddy/sell_quantity.csv\")\n",
    "sell_quantity = sell_quantity.set_index('timestamp')\n",
    "sell_quantity = sell_quantity.drop_duplicates()\n",
    "sell_quantity = sell_quantity[items_selected].replace(to_replace=0, method='ffill')\n",
    "print(sell_quantity.shape)\n",
    "sell_quantity.columns = [str(col) + '_sq' for col in sell_quantity.columns]\n",
    "sell_quantity.head()"
   ]
  },
  {
   "cell_type": "markdown",
   "metadata": {},
   "source": [
    "## Datetime properties"
   ]
  },
  {
   "cell_type": "code",
   "execution_count": 69,
   "metadata": {},
   "outputs": [
    {
     "data": {
      "text/html": [
       "<div>\n",
       "<style scoped>\n",
       "    .dataframe tbody tr th:only-of-type {\n",
       "        vertical-align: middle;\n",
       "    }\n",
       "\n",
       "    .dataframe tbody tr th {\n",
       "        vertical-align: top;\n",
       "    }\n",
       "\n",
       "    .dataframe thead th {\n",
       "        text-align: right;\n",
       "    }\n",
       "</style>\n",
       "<table border=\"1\" class=\"dataframe\">\n",
       "  <thead>\n",
       "    <tr style=\"text-align: right;\">\n",
       "      <th></th>\n",
       "      <th>Rune_axe</th>\n",
       "      <th>Rune_2h_sword</th>\n",
       "      <th>Rune_scimitar</th>\n",
       "      <th>Rune_chainbody</th>\n",
       "      <th>Rune_full_helm</th>\n",
       "      <th>Rune_kiteshield</th>\n",
       "      <th>datetime</th>\n",
       "      <th>dayofweek</th>\n",
       "      <th>hour</th>\n",
       "    </tr>\n",
       "    <tr>\n",
       "      <th>timestamp</th>\n",
       "      <th></th>\n",
       "      <th></th>\n",
       "      <th></th>\n",
       "      <th></th>\n",
       "      <th></th>\n",
       "      <th></th>\n",
       "      <th></th>\n",
       "      <th></th>\n",
       "      <th></th>\n",
       "    </tr>\n",
       "  </thead>\n",
       "  <tbody>\n",
       "    <tr>\n",
       "      <th>1577227800</th>\n",
       "      <td>7196</td>\n",
       "      <td>37882</td>\n",
       "      <td>15022</td>\n",
       "      <td>29748</td>\n",
       "      <td>20602</td>\n",
       "      <td>32079</td>\n",
       "      <td>2019-12-24 22:50:00</td>\n",
       "      <td>1</td>\n",
       "      <td>22</td>\n",
       "    </tr>\n",
       "    <tr>\n",
       "      <th>1577229600</th>\n",
       "      <td>7123</td>\n",
       "      <td>37881</td>\n",
       "      <td>15036</td>\n",
       "      <td>29657</td>\n",
       "      <td>20600</td>\n",
       "      <td>32095</td>\n",
       "      <td>2019-12-24 23:20:00</td>\n",
       "      <td>1</td>\n",
       "      <td>23</td>\n",
       "    </tr>\n",
       "    <tr>\n",
       "      <th>1577231400</th>\n",
       "      <td>7237</td>\n",
       "      <td>37821</td>\n",
       "      <td>15019</td>\n",
       "      <td>29577</td>\n",
       "      <td>20633</td>\n",
       "      <td>32340</td>\n",
       "      <td>2019-12-24 23:50:00</td>\n",
       "      <td>1</td>\n",
       "      <td>23</td>\n",
       "    </tr>\n",
       "    <tr>\n",
       "      <th>1577233501</th>\n",
       "      <td>7250</td>\n",
       "      <td>37816</td>\n",
       "      <td>15018</td>\n",
       "      <td>29530</td>\n",
       "      <td>20634</td>\n",
       "      <td>32152</td>\n",
       "      <td>2019-12-25 00:25:01</td>\n",
       "      <td>2</td>\n",
       "      <td>0</td>\n",
       "    </tr>\n",
       "    <tr>\n",
       "      <th>1577235300</th>\n",
       "      <td>7316</td>\n",
       "      <td>37819</td>\n",
       "      <td>15009</td>\n",
       "      <td>29743</td>\n",
       "      <td>20785</td>\n",
       "      <td>32119</td>\n",
       "      <td>2019-12-25 00:55:00</td>\n",
       "      <td>2</td>\n",
       "      <td>0</td>\n",
       "    </tr>\n",
       "  </tbody>\n",
       "</table>\n",
       "</div>"
      ],
      "text/plain": [
       "            Rune_axe  Rune_2h_sword  Rune_scimitar  Rune_chainbody  \\\n",
       "timestamp                                                            \n",
       "1577227800      7196          37882          15022           29748   \n",
       "1577229600      7123          37881          15036           29657   \n",
       "1577231400      7237          37821          15019           29577   \n",
       "1577233501      7250          37816          15018           29530   \n",
       "1577235300      7316          37819          15009           29743   \n",
       "\n",
       "            Rune_full_helm  Rune_kiteshield            datetime  dayofweek  \\\n",
       "timestamp                                                                    \n",
       "1577227800           20602            32079 2019-12-24 22:50:00          1   \n",
       "1577229600           20600            32095 2019-12-24 23:20:00          1   \n",
       "1577231400           20633            32340 2019-12-24 23:50:00          1   \n",
       "1577233501           20634            32152 2019-12-25 00:25:01          2   \n",
       "1577235300           20785            32119 2019-12-25 00:55:00          2   \n",
       "\n",
       "            hour  \n",
       "timestamp         \n",
       "1577227800    22  \n",
       "1577229600    23  \n",
       "1577231400    23  \n",
       "1577233501     0  \n",
       "1577235300     0  "
      ]
     },
     "execution_count": 69,
     "metadata": {},
     "output_type": "execute_result"
    }
   ],
   "source": [
    "df['datetime'] = df.index\n",
    "df['datetime'] = pd.to_datetime(df['datetime'], unit='s')\n",
    "df['dayofweek'] = df['datetime'].dt.dayofweek\n",
    "df['hour'] = df['datetime'].dt.hour\n",
    "df.head()"
   ]
  },
  {
   "cell_type": "markdown",
   "metadata": {},
   "source": [
    "## Differentiated signal"
   ]
  },
  {
   "cell_type": "code",
   "execution_count": 70,
   "metadata": {},
   "outputs": [
    {
     "data": {
      "text/html": [
       "<div>\n",
       "<style scoped>\n",
       "    .dataframe tbody tr th:only-of-type {\n",
       "        vertical-align: middle;\n",
       "    }\n",
       "\n",
       "    .dataframe tbody tr th {\n",
       "        vertical-align: top;\n",
       "    }\n",
       "\n",
       "    .dataframe thead th {\n",
       "        text-align: right;\n",
       "    }\n",
       "</style>\n",
       "<table border=\"1\" class=\"dataframe\">\n",
       "  <thead>\n",
       "    <tr style=\"text-align: right;\">\n",
       "      <th></th>\n",
       "      <th>Rune_axe</th>\n",
       "      <th>Rune_2h_sword</th>\n",
       "      <th>Rune_scimitar</th>\n",
       "      <th>Rune_chainbody</th>\n",
       "      <th>Rune_full_helm</th>\n",
       "      <th>Rune_kiteshield</th>\n",
       "      <th>datetime</th>\n",
       "      <th>dayofweek</th>\n",
       "      <th>hour</th>\n",
       "      <th>slope</th>\n",
       "    </tr>\n",
       "    <tr>\n",
       "      <th>timestamp</th>\n",
       "      <th></th>\n",
       "      <th></th>\n",
       "      <th></th>\n",
       "      <th></th>\n",
       "      <th></th>\n",
       "      <th></th>\n",
       "      <th></th>\n",
       "      <th></th>\n",
       "      <th></th>\n",
       "      <th></th>\n",
       "    </tr>\n",
       "  </thead>\n",
       "  <tbody>\n",
       "    <tr>\n",
       "      <th>1970-01-01 00:00:01.577227800</th>\n",
       "      <td>7196</td>\n",
       "      <td>37882</td>\n",
       "      <td>15022</td>\n",
       "      <td>29748</td>\n",
       "      <td>20602</td>\n",
       "      <td>32079</td>\n",
       "      <td>2019-12-24 22:50:00</td>\n",
       "      <td>1</td>\n",
       "      <td>22</td>\n",
       "      <td>14.0</td>\n",
       "    </tr>\n",
       "    <tr>\n",
       "      <th>1970-01-01 00:00:01.577229600</th>\n",
       "      <td>7123</td>\n",
       "      <td>37881</td>\n",
       "      <td>15036</td>\n",
       "      <td>29657</td>\n",
       "      <td>20600</td>\n",
       "      <td>32095</td>\n",
       "      <td>2019-12-24 23:20:00</td>\n",
       "      <td>1</td>\n",
       "      <td>23</td>\n",
       "      <td>-1.5</td>\n",
       "    </tr>\n",
       "    <tr>\n",
       "      <th>1970-01-01 00:00:01.577231400</th>\n",
       "      <td>7237</td>\n",
       "      <td>37821</td>\n",
       "      <td>15019</td>\n",
       "      <td>29577</td>\n",
       "      <td>20633</td>\n",
       "      <td>32340</td>\n",
       "      <td>2019-12-24 23:50:00</td>\n",
       "      <td>1</td>\n",
       "      <td>23</td>\n",
       "      <td>-9.0</td>\n",
       "    </tr>\n",
       "    <tr>\n",
       "      <th>1970-01-01 00:00:01.577233501</th>\n",
       "      <td>7250</td>\n",
       "      <td>37816</td>\n",
       "      <td>15018</td>\n",
       "      <td>29530</td>\n",
       "      <td>20634</td>\n",
       "      <td>32152</td>\n",
       "      <td>2019-12-25 00:25:01</td>\n",
       "      <td>2</td>\n",
       "      <td>0</td>\n",
       "      <td>-5.0</td>\n",
       "    </tr>\n",
       "    <tr>\n",
       "      <th>1970-01-01 00:00:01.577235300</th>\n",
       "      <td>7316</td>\n",
       "      <td>37819</td>\n",
       "      <td>15009</td>\n",
       "      <td>29743</td>\n",
       "      <td>20785</td>\n",
       "      <td>32119</td>\n",
       "      <td>2019-12-25 00:55:00</td>\n",
       "      <td>2</td>\n",
       "      <td>0</td>\n",
       "      <td>-5.0</td>\n",
       "    </tr>\n",
       "  </tbody>\n",
       "</table>\n",
       "</div>"
      ],
      "text/plain": [
       "                               Rune_axe  Rune_2h_sword  Rune_scimitar  \\\n",
       "timestamp                                                               \n",
       "1970-01-01 00:00:01.577227800      7196          37882          15022   \n",
       "1970-01-01 00:00:01.577229600      7123          37881          15036   \n",
       "1970-01-01 00:00:01.577231400      7237          37821          15019   \n",
       "1970-01-01 00:00:01.577233501      7250          37816          15018   \n",
       "1970-01-01 00:00:01.577235300      7316          37819          15009   \n",
       "\n",
       "                               Rune_chainbody  Rune_full_helm  \\\n",
       "timestamp                                                       \n",
       "1970-01-01 00:00:01.577227800           29748           20602   \n",
       "1970-01-01 00:00:01.577229600           29657           20600   \n",
       "1970-01-01 00:00:01.577231400           29577           20633   \n",
       "1970-01-01 00:00:01.577233501           29530           20634   \n",
       "1970-01-01 00:00:01.577235300           29743           20785   \n",
       "\n",
       "                               Rune_kiteshield            datetime  dayofweek  \\\n",
       "timestamp                                                                       \n",
       "1970-01-01 00:00:01.577227800            32079 2019-12-24 22:50:00          1   \n",
       "1970-01-01 00:00:01.577229600            32095 2019-12-24 23:20:00          1   \n",
       "1970-01-01 00:00:01.577231400            32340 2019-12-24 23:50:00          1   \n",
       "1970-01-01 00:00:01.577233501            32152 2019-12-25 00:25:01          2   \n",
       "1970-01-01 00:00:01.577235300            32119 2019-12-25 00:55:00          2   \n",
       "\n",
       "                               hour  slope  \n",
       "timestamp                                   \n",
       "1970-01-01 00:00:01.577227800    22   14.0  \n",
       "1970-01-01 00:00:01.577229600    23   -1.5  \n",
       "1970-01-01 00:00:01.577231400    23   -9.0  \n",
       "1970-01-01 00:00:01.577233501     0   -5.0  \n",
       "1970-01-01 00:00:01.577235300     0   -5.0  "
      ]
     },
     "execution_count": 70,
     "metadata": {},
     "output_type": "execute_result"
    }
   ],
   "source": [
    "tmp = df.copy()\n",
    "tmp.index = pd.to_datetime(tmp.index)\n",
    "\n",
    "slope = pd.Series(np.gradient(tmp[item_to_predict]), df.index, name='slope')\n",
    "\n",
    "tmp = pd.concat([tmp, slope], axis=1)\n",
    "tmp.head()"
   ]
  },
  {
   "cell_type": "markdown",
   "metadata": {},
   "source": [
    "## Appending features to main dataframe"
   ]
  },
  {
   "cell_type": "code",
   "execution_count": 71,
   "metadata": {},
   "outputs": [
    {
     "name": "stdout",
     "output_type": "stream",
     "text": [
      "(1076, 33)\n"
     ]
    },
    {
     "data": {
      "text/html": [
       "<div>\n",
       "<style scoped>\n",
       "    .dataframe tbody tr th:only-of-type {\n",
       "        vertical-align: middle;\n",
       "    }\n",
       "\n",
       "    .dataframe tbody tr th {\n",
       "        vertical-align: top;\n",
       "    }\n",
       "\n",
       "    .dataframe thead th {\n",
       "        text-align: right;\n",
       "    }\n",
       "</style>\n",
       "<table border=\"1\" class=\"dataframe\">\n",
       "  <thead>\n",
       "    <tr style=\"text-align: right;\">\n",
       "      <th></th>\n",
       "      <th>Rune_axe</th>\n",
       "      <th>Rune_2h_sword</th>\n",
       "      <th>Rune_scimitar</th>\n",
       "      <th>Rune_chainbody</th>\n",
       "      <th>Rune_full_helm</th>\n",
       "      <th>Rune_kiteshield</th>\n",
       "      <th>datetime</th>\n",
       "      <th>dayofweek</th>\n",
       "      <th>hour</th>\n",
       "      <th>MACD</th>\n",
       "      <th>...</th>\n",
       "      <th>Rune_chainbody_bq</th>\n",
       "      <th>Rune_full_helm_bq</th>\n",
       "      <th>Rune_kiteshield_bq</th>\n",
       "      <th>Rune_axe_sq</th>\n",
       "      <th>Rune_2h_sword_sq</th>\n",
       "      <th>Rune_scimitar_sq</th>\n",
       "      <th>Rune_chainbody_sq</th>\n",
       "      <th>Rune_full_helm_sq</th>\n",
       "      <th>Rune_kiteshield_sq</th>\n",
       "      <th>slope</th>\n",
       "    </tr>\n",
       "    <tr>\n",
       "      <th>timestamp</th>\n",
       "      <th></th>\n",
       "      <th></th>\n",
       "      <th></th>\n",
       "      <th></th>\n",
       "      <th></th>\n",
       "      <th></th>\n",
       "      <th></th>\n",
       "      <th></th>\n",
       "      <th></th>\n",
       "      <th></th>\n",
       "      <th></th>\n",
       "      <th></th>\n",
       "      <th></th>\n",
       "      <th></th>\n",
       "      <th></th>\n",
       "      <th></th>\n",
       "      <th></th>\n",
       "      <th></th>\n",
       "      <th></th>\n",
       "      <th></th>\n",
       "      <th></th>\n",
       "    </tr>\n",
       "  </thead>\n",
       "  <tbody>\n",
       "    <tr>\n",
       "      <th>1577246100</th>\n",
       "      <td>7165</td>\n",
       "      <td>37849</td>\n",
       "      <td>14984</td>\n",
       "      <td>29747</td>\n",
       "      <td>20687</td>\n",
       "      <td>32350</td>\n",
       "      <td>2019-12-25 03:55:00</td>\n",
       "      <td>2</td>\n",
       "      <td>3</td>\n",
       "      <td>-3.324748</td>\n",
       "      <td>...</td>\n",
       "      <td>1</td>\n",
       "      <td>2</td>\n",
       "      <td>1</td>\n",
       "      <td>71</td>\n",
       "      <td>16</td>\n",
       "      <td>40</td>\n",
       "      <td>20</td>\n",
       "      <td>113</td>\n",
       "      <td>122</td>\n",
       "      <td>38.0</td>\n",
       "    </tr>\n",
       "    <tr>\n",
       "      <th>1577247901</th>\n",
       "      <td>7169</td>\n",
       "      <td>37830</td>\n",
       "      <td>15050</td>\n",
       "      <td>29747</td>\n",
       "      <td>20687</td>\n",
       "      <td>32046</td>\n",
       "      <td>2019-12-25 04:25:01</td>\n",
       "      <td>2</td>\n",
       "      <td>4</td>\n",
       "      <td>-0.471082</td>\n",
       "      <td>...</td>\n",
       "      <td>1</td>\n",
       "      <td>2</td>\n",
       "      <td>112</td>\n",
       "      <td>68</td>\n",
       "      <td>15</td>\n",
       "      <td>37</td>\n",
       "      <td>13</td>\n",
       "      <td>136</td>\n",
       "      <td>123</td>\n",
       "      <td>32.0</td>\n",
       "    </tr>\n",
       "    <tr>\n",
       "      <th>1577249700</th>\n",
       "      <td>7163</td>\n",
       "      <td>37875</td>\n",
       "      <td>15048</td>\n",
       "      <td>29747</td>\n",
       "      <td>20798</td>\n",
       "      <td>32047</td>\n",
       "      <td>2019-12-25 04:55:00</td>\n",
       "      <td>2</td>\n",
       "      <td>4</td>\n",
       "      <td>1.538547</td>\n",
       "      <td>...</td>\n",
       "      <td>1</td>\n",
       "      <td>11</td>\n",
       "      <td>202</td>\n",
       "      <td>52</td>\n",
       "      <td>18</td>\n",
       "      <td>42</td>\n",
       "      <td>12</td>\n",
       "      <td>136</td>\n",
       "      <td>68</td>\n",
       "      <td>-47.0</td>\n",
       "    </tr>\n",
       "    <tr>\n",
       "      <th>1577251500</th>\n",
       "      <td>7194</td>\n",
       "      <td>37915</td>\n",
       "      <td>14956</td>\n",
       "      <td>29747</td>\n",
       "      <td>20798</td>\n",
       "      <td>32090</td>\n",
       "      <td>2019-12-25 05:25:00</td>\n",
       "      <td>2</td>\n",
       "      <td>5</td>\n",
       "      <td>-2.309169</td>\n",
       "      <td>...</td>\n",
       "      <td>1</td>\n",
       "      <td>11</td>\n",
       "      <td>155</td>\n",
       "      <td>52</td>\n",
       "      <td>315</td>\n",
       "      <td>29</td>\n",
       "      <td>14</td>\n",
       "      <td>122</td>\n",
       "      <td>96</td>\n",
       "      <td>-32.5</td>\n",
       "    </tr>\n",
       "    <tr>\n",
       "      <th>1577253301</th>\n",
       "      <td>7186</td>\n",
       "      <td>37907</td>\n",
       "      <td>14983</td>\n",
       "      <td>29420</td>\n",
       "      <td>20573</td>\n",
       "      <td>32131</td>\n",
       "      <td>2019-12-25 05:55:01</td>\n",
       "      <td>2</td>\n",
       "      <td>5</td>\n",
       "      <td>-3.579239</td>\n",
       "      <td>...</td>\n",
       "      <td>1</td>\n",
       "      <td>355</td>\n",
       "      <td>86</td>\n",
       "      <td>519</td>\n",
       "      <td>308</td>\n",
       "      <td>19</td>\n",
       "      <td>548</td>\n",
       "      <td>1702</td>\n",
       "      <td>120</td>\n",
       "      <td>27.0</td>\n",
       "    </tr>\n",
       "  </tbody>\n",
       "</table>\n",
       "<p>5 rows × 33 columns</p>\n",
       "</div>"
      ],
      "text/plain": [
       "            Rune_axe  Rune_2h_sword  Rune_scimitar  Rune_chainbody  \\\n",
       "timestamp                                                            \n",
       "1577246100      7165          37849          14984           29747   \n",
       "1577247901      7169          37830          15050           29747   \n",
       "1577249700      7163          37875          15048           29747   \n",
       "1577251500      7194          37915          14956           29747   \n",
       "1577253301      7186          37907          14983           29420   \n",
       "\n",
       "            Rune_full_helm  Rune_kiteshield            datetime  dayofweek  \\\n",
       "timestamp                                                                    \n",
       "1577246100           20687            32350 2019-12-25 03:55:00          2   \n",
       "1577247901           20687            32046 2019-12-25 04:25:01          2   \n",
       "1577249700           20798            32047 2019-12-25 04:55:00          2   \n",
       "1577251500           20798            32090 2019-12-25 05:25:00          2   \n",
       "1577253301           20573            32131 2019-12-25 05:55:01          2   \n",
       "\n",
       "            hour      MACD  ...  Rune_chainbody_bq  Rune_full_helm_bq  \\\n",
       "timestamp                   ...                                         \n",
       "1577246100     3 -3.324748  ...                  1                  2   \n",
       "1577247901     4 -0.471082  ...                  1                  2   \n",
       "1577249700     4  1.538547  ...                  1                 11   \n",
       "1577251500     5 -2.309169  ...                  1                 11   \n",
       "1577253301     5 -3.579239  ...                  1                355   \n",
       "\n",
       "            Rune_kiteshield_bq  Rune_axe_sq  Rune_2h_sword_sq  \\\n",
       "timestamp                                                       \n",
       "1577246100                   1           71                16   \n",
       "1577247901                 112           68                15   \n",
       "1577249700                 202           52                18   \n",
       "1577251500                 155           52               315   \n",
       "1577253301                  86          519               308   \n",
       "\n",
       "            Rune_scimitar_sq  Rune_chainbody_sq  Rune_full_helm_sq  \\\n",
       "timestamp                                                            \n",
       "1577246100                40                 20                113   \n",
       "1577247901                37                 13                136   \n",
       "1577249700                42                 12                136   \n",
       "1577251500                29                 14                122   \n",
       "1577253301                19                548               1702   \n",
       "\n",
       "            Rune_kiteshield_sq  slope  \n",
       "timestamp                              \n",
       "1577246100                 122   38.0  \n",
       "1577247901                 123   32.0  \n",
       "1577249700                  68  -47.0  \n",
       "1577251500                  96  -32.5  \n",
       "1577253301                 120   27.0  \n",
       "\n",
       "[5 rows x 33 columns]"
      ]
     },
     "execution_count": 71,
     "metadata": {},
     "output_type": "execute_result"
    }
   ],
   "source": [
    "df = pd.concat([df,finance_features, sell_average, buy_quantity, sell_quantity, slope], axis=1)\n",
    "df = df.dropna()\n",
    "print(df.shape)\n",
    "df.head()"
   ]
  },
  {
   "cell_type": "markdown",
   "metadata": {},
   "source": [
    "# Time Series Analysis"
   ]
  },
  {
   "cell_type": "code",
   "execution_count": 72,
   "metadata": {
    "colab": {},
    "colab_type": "code",
    "collapsed": true,
    "id": "7AoxQuTrWIbi"
   },
   "outputs": [],
   "source": [
    "def univariate_data(dataset, start_index, end_index, history_size, target_size):\n",
    "  data = []\n",
    "  labels = []\n",
    "\n",
    "  start_index = start_index + history_size\n",
    "  if end_index is None:\n",
    "    end_index = len(dataset) - target_size\n",
    "\n",
    "  for i in range(start_index, end_index):\n",
    "    indices = range(i-history_size, i)\n",
    "    # Reshape data from (history_size,) to (history_size, 1)\n",
    "    data.append(np.reshape(dataset[indices], (history_size, 1)))\n",
    "    labels.append(dataset[i+target_size])\n",
    "  return np.array(data), np.array(labels)"
   ]
  },
  {
   "cell_type": "code",
   "execution_count": 73,
   "metadata": {
    "colab": {},
    "colab_type": "code",
    "collapsed": true,
    "id": "ia-MPAHxbInX"
   },
   "outputs": [],
   "source": [
    "TRAIN_SPLIT = 750"
   ]
  },
  {
   "cell_type": "code",
   "execution_count": 74,
   "metadata": {
    "colab": {},
    "colab_type": "code",
    "collapsed": true,
    "id": "-x-GgENynHdx"
   },
   "outputs": [],
   "source": [
    "tf.random.set_seed(13)"
   ]
  },
  {
   "cell_type": "markdown",
   "metadata": {
    "colab_type": "text",
    "id": "8YEwr-NoWUpV"
   },
   "source": [
    "## Part 1: Univariate time series"
   ]
  },
  {
   "cell_type": "code",
   "execution_count": 75,
   "metadata": {
    "colab": {},
    "colab_type": "code",
    "id": "nbdcnm1_WIY9"
   },
   "outputs": [
    {
     "data": {
      "text/plain": [
       "timestamp\n",
       "1577246100    14984\n",
       "1577247901    15050\n",
       "1577249700    15048\n",
       "1577251500    14956\n",
       "1577253301    14983\n",
       "Name: Rune_scimitar, dtype: int64"
      ]
     },
     "execution_count": 75,
     "metadata": {},
     "output_type": "execute_result"
    }
   ],
   "source": [
    "uni_data = df[item_to_predict]\n",
    "uni_data.head()"
   ]
  },
  {
   "cell_type": "code",
   "execution_count": 76,
   "metadata": {
    "colab": {},
    "colab_type": "code",
    "id": "ftOExwAqWXSU"
   },
   "outputs": [
    {
     "data": {
      "text/plain": [
       "array([<matplotlib.axes._subplots.AxesSubplot object at 0x000001E6A0D91E80>],\n",
       "      dtype=object)"
      ]
     },
     "execution_count": 76,
     "metadata": {},
     "output_type": "execute_result"
    },
    {
     "data": {
      "image/png": "[encoded data removed]",
      "text/plain": [
       "<Figure size 432x288 with 1 Axes>"
      ]
     },
     "metadata": {
      "needs_background": "light"
     },
     "output_type": "display_data"
    }
   ],
   "source": [
    "uni_data.plot(subplots=True)"
   ]
  },
  {
   "cell_type": "code",
   "execution_count": 77,
   "metadata": {
    "colab": {},
    "colab_type": "code",
    "collapsed": true,
    "id": "ejSEiDqBWXQa"
   },
   "outputs": [],
   "source": [
    "uni_data = uni_data.values"
   ]
  },
  {
   "cell_type": "code",
   "execution_count": 78,
   "metadata": {
    "colab": {},
    "colab_type": "code",
    "collapsed": true,
    "id": "Eji6njXvHusN"
   },
   "outputs": [],
   "source": [
    "uni_train_mean = uni_data[:TRAIN_SPLIT].mean()\n",
    "uni_train_std = uni_data[:TRAIN_SPLIT].std()"
   ]
  },
  {
   "cell_type": "code",
   "execution_count": 79,
   "metadata": {
    "colab": {},
    "colab_type": "code",
    "collapsed": true,
    "id": "BO55yRD6H0Dx"
   },
   "outputs": [],
   "source": [
    "uni_data = (uni_data-uni_train_mean)/uni_train_std"
   ]
  },
  {
   "cell_type": "code",
   "execution_count": 80,
   "metadata": {
    "colab": {},
    "colab_type": "code",
    "collapsed": true,
    "id": "aJJ-T49vWXOZ"
   },
   "outputs": [],
   "source": [
    "univariate_past_history = 30\n",
    "univariate_future_target = 0\n",
    "\n",
    "x_train_uni, y_train_uni = univariate_data(uni_data, 0, TRAIN_SPLIT,\n",
    "                                           univariate_past_history,\n",
    "                                           univariate_future_target)\n",
    "x_val_uni, y_val_uni = univariate_data(uni_data, TRAIN_SPLIT, None,\n",
    "                                       univariate_past_history,\n",
    "                                       univariate_future_target)"
   ]
  },
  {
   "cell_type": "code",
   "execution_count": 81,
   "metadata": {
    "colab": {},
    "colab_type": "code",
    "id": "feDd95XFdz5H"
   },
   "outputs": [
    {
     "name": "stdout",
     "output_type": "stream",
     "text": [
      "Single window of past history\n",
      "[[-0.56791607]\n",
      " [ 0.44933906]\n",
      " [ 0.41851315]\n",
      " [-0.99947886]\n",
      " [-0.58332903]\n",
      " [-0.1671792 ]\n",
      " [ 0.15649289]\n",
      " [ 0.68053341]\n",
      " [ 0.81925002]\n",
      " [ 0.69594637]\n",
      " [-0.13635329]\n",
      " [-0.21341807]\n",
      " [ 0.44933906]\n",
      " [ 0.44933906]\n",
      " [ 0.43392611]\n",
      " [ 0.43392611]\n",
      " [ 0.58805567]\n",
      " [ 0.01777628]\n",
      " [-0.19800512]\n",
      " [ 0.92714072]\n",
      " [-0.49085129]\n",
      " [-0.6295679 ]\n",
      " [-1.52351938]\n",
      " [-1.10736956]\n",
      " [-0.59874199]\n",
      " [-0.6295679 ]\n",
      " [-0.2750699 ]\n",
      " [ 0.04860219]\n",
      " [-0.19800512]\n",
      " [-0.93782703]]\n",
      "\n",
      " Target to predict\n",
      "0.01777627662747813\n"
     ]
    }
   ],
   "source": [
    "print ('Single window of past history')\n",
    "print (x_train_uni[0])\n",
    "print ('\\n Target to predict')\n",
    "print (y_train_uni[0])"
   ]
  },
  {
   "cell_type": "code",
   "execution_count": 82,
   "metadata": {
    "colab": {},
    "colab_type": "code",
    "collapsed": true,
    "id": "qVukM9dRipop"
   },
   "outputs": [],
   "source": [
    "def create_time_steps(length):\n",
    "  time_steps = []\n",
    "  for i in range(-length, 0, 1):\n",
    "    time_steps.append(i)\n",
    "  return time_steps"
   ]
  },
  {
   "cell_type": "code",
   "execution_count": 83,
   "metadata": {
    "colab": {},
    "colab_type": "code",
    "collapsed": true,
    "id": "QQeGvh7cWXMR"
   },
   "outputs": [],
   "source": [
    "def show_plot(plot_data, delta, title):\n",
    "  labels = ['History', 'True Future', 'Model Prediction']\n",
    "  marker = ['.-', 'rx', 'go']\n",
    "  time_steps = create_time_steps(plot_data[0].shape[0])\n",
    "  if delta:\n",
    "    future = delta\n",
    "  else:\n",
    "    future = 0\n",
    "\n",
    "  plt.title(title)\n",
    "  for i, x in enumerate(plot_data):\n",
    "    if i:\n",
    "      plt.plot(future, plot_data[i], marker[i], markersize=10,\n",
    "               label=labels[i])\n",
    "    else:\n",
    "      plt.plot(time_steps, plot_data[i].flatten(), marker[i], label=labels[i])\n",
    "  plt.legend()\n",
    "  plt.xlim([time_steps[0], (future+5)*2])\n",
    "  plt.xlabel('Time-Step')\n",
    "  return plt"
   ]
  },
  {
   "cell_type": "code",
   "execution_count": 84,
   "metadata": {
    "colab": {},
    "colab_type": "code",
    "id": "Pd05iV-UWXKL"
   },
   "outputs": [
    {
     "data": {
      "image/png": "[encoded data removed]",
      "text/plain": [
       "<Figure size 432x288 with 1 Axes>"
      ]
     },
     "metadata": {
      "needs_background": "light"
     },
     "output_type": "display_data"
    }
   ],
   "source": [
    "plot = show_plot([x_train_uni[0], y_train_uni[0]], 0, 'Sample Example')\n",
    "plot.show()"
   ]
  },
  {
   "cell_type": "markdown",
   "metadata": {
    "colab_type": "text",
    "id": "b5rUJ_2YMWzG"
   },
   "source": [
    "### Baseline\n"
   ]
  },
  {
   "cell_type": "code",
   "execution_count": 85,
   "metadata": {
    "colab": {},
    "colab_type": "code",
    "collapsed": true,
    "id": "P9nYWcxMMWnr"
   },
   "outputs": [],
   "source": [
    "def baseline(history):\n",
    "  return np.mean(history)"
   ]
  },
  {
   "cell_type": "code",
   "execution_count": 86,
   "metadata": {
    "colab": {},
    "colab_type": "code",
    "id": "KMcdFYKQMWlm"
   },
   "outputs": [
    {
     "data": {
      "image/png": "[encoded data removed]",
      "text/plain": [
       "<Figure size 432x288 with 1 Axes>"
      ]
     },
     "metadata": {
      "needs_background": "light"
     },
     "output_type": "display_data"
    }
   ],
   "source": [
    "plot = show_plot([x_train_uni[0], y_train_uni[0], baseline(x_train_uni[0])], 0,\n",
    "           'Baseline Prediction Example')\n",
    "plot.show()"
   ]
  },
  {
   "cell_type": "markdown",
   "metadata": {
    "colab_type": "text",
    "id": "H4crpOcoMlSe"
   },
   "source": [
    "### Recurrent neural network"
   ]
  },
  {
   "cell_type": "code",
   "execution_count": 87,
   "metadata": {
    "colab": {},
    "colab_type": "code",
    "collapsed": true,
    "id": "kk-evkrmMWh9"
   },
   "outputs": [],
   "source": [
    "BATCH_SIZE = 32\n",
    "BUFFER_SIZE = 30\n",
    "\n",
    "train_univariate = tf.data.Dataset.from_tensor_slices((x_train_uni, y_train_uni))\n",
    "train_univariate = train_univariate.cache().shuffle(BUFFER_SIZE).batch(BATCH_SIZE).repeat()\n",
    "\n",
    "val_univariate = tf.data.Dataset.from_tensor_slices((x_val_uni, y_val_uni))\n",
    "val_univariate = val_univariate.batch(BATCH_SIZE).repeat()"
   ]
  },
  {
   "cell_type": "code",
   "execution_count": 88,
   "metadata": {
    "colab": {},
    "colab_type": "code",
    "collapsed": true,
    "id": "IDbpHosCMWZO"
   },
   "outputs": [],
   "source": [
    "simple_lstm_model = tf.keras.models.Sequential([\n",
    "    tf.keras.layers.LSTM(8, input_shape=x_train_uni.shape[-2:]),\n",
    "    tf.keras.layers.Dense(1)\n",
    "])\n",
    "\n",
    "simple_lstm_model.compile(optimizer='adam', loss='mae')"
   ]
  },
  {
   "cell_type": "code",
   "execution_count": 89,
   "metadata": {
    "colab": {},
    "colab_type": "code",
    "id": "2mPZbIKCMtLR"
   },
   "outputs": [
    {
     "name": "stdout",
     "output_type": "stream",
     "text": [
      "(32, 1)\n"
     ]
    }
   ],
   "source": [
    "for x, y in val_univariate.take(1):\n",
    "    print(simple_lstm_model.predict(x).shape)"
   ]
  },
  {
   "cell_type": "code",
   "execution_count": 90,
   "metadata": {
    "colab": {},
    "colab_type": "code",
    "id": "0opH9xi5MtIk"
   },
   "outputs": [
    {
     "name": "stdout",
     "output_type": "stream",
     "text": [
      "Train for 200 steps, validate for 50 steps\n",
      "Epoch 1/10\n",
      "200/200 [==============================] - 6s 32ms/step - loss: 0.6622 - val_loss: 0.6215\n",
      "Epoch 2/10\n",
      "200/200 [==============================] - 3s 17ms/step - loss: 0.6231 - val_loss: 0.5782\n",
      "Epoch 3/10\n",
      "200/200 [==============================] - 3s 16ms/step - loss: 0.5783 - val_loss: 0.5414\n",
      "Epoch 4/10\n",
      "200/200 [==============================] - 3s 15ms/step - loss: 0.5350 - val_loss: 0.5074\n",
      "Epoch 5/10\n",
      "200/200 [==============================] - 3s 15ms/step - loss: 0.5101 - val_loss: 0.4969\n",
      "Epoch 6/10\n",
      "200/200 [==============================] - 3s 15ms/step - loss: 0.4975 - val_loss: 0.4965\n",
      "Epoch 7/10\n",
      "200/200 [==============================] - 3s 15ms/step - loss: 0.4989 - val_loss: 0.4966\n",
      "Epoch 8/10\n",
      "200/200 [==============================] - 3s 15ms/step - loss: 0.4950 - val_loss: 0.4969\n",
      "Epoch 9/10\n",
      "200/200 [==============================] - 3s 15ms/step - loss: 0.4990 - val_loss: 0.4987\n",
      "Epoch 10/10\n",
      "200/200 [==============================] - 3s 15ms/step - loss: 0.4910 - val_loss: 0.4990\n"
     ]
    },
    {
     "data": {
      "text/plain": [
       "<tensorflow.python.keras.callbacks.History at 0x1e6a02c1358>"
      ]
     },
     "execution_count": 90,
     "metadata": {},
     "output_type": "execute_result"
    }
   ],
   "source": [
    "EVALUATION_INTERVAL = 200\n",
    "EPOCHS = 10\n",
    "\n",
    "simple_lstm_model.fit(train_univariate, epochs=EPOCHS,\n",
    "                      steps_per_epoch=EVALUATION_INTERVAL,\n",
    "                      validation_data=val_univariate, validation_steps=50)"
   ]
  },
  {
   "cell_type": "markdown",
   "metadata": {
    "colab_type": "text",
    "id": "euyPo_lyNryZ"
   },
   "source": [
    "#### Predict using the simple LSTM model\n"
   ]
  },
  {
   "cell_type": "code",
   "execution_count": 131,
   "metadata": {
    "colab": {},
    "colab_type": "code",
    "id": "S2rRLrs8MtGU"
   },
   "outputs": [
    {
     "data": {
      "image/png": "[encoded data removed]",
      "text/plain": [
       "<Figure size 432x288 with 1 Axes>"
      ]
     },
     "metadata": {
      "needs_background": "light"
     },
     "output_type": "display_data"
    },
    {
     "data": {
      "image/png": "[encoded data removed]",
      "text/plain": [
       "<Figure size 432x288 with 1 Axes>"
      ]
     },
     "metadata": {
      "needs_background": "light"
     },
     "output_type": "display_data"
    },
    {
     "data": {
      "image/png": "[encoded data removed]",
      "text/plain": [
       "<Figure size 432x288 with 1 Axes>"
      ]
     },
     "metadata": {
      "needs_background": "light"
     },
     "output_type": "display_data"
    }
   ],
   "source": [
    "for x, y in val_univariate.take(3):\n",
    "    plot = show_plot([x[0].numpy(), y[0].numpy(),\n",
    "                    simple_lstm_model.predict(x)[0]], 0, 'Simple LSTM model')\n",
    "    plot.show()"
   ]
  },
  {
   "cell_type": "markdown",
   "metadata": {},
   "source": [
    "#### Unnormalizing the data (so we can see actual prices in GP)"
   ]
  },
  {
   "cell_type": "code",
   "execution_count": 132,
   "metadata": {},
   "outputs": [
    {
     "data": {
      "image/png": "[encoded data removed]",
      "text/plain": [
       "<Figure size 432x288 with 1 Axes>"
      ]
     },
     "metadata": {
      "needs_background": "light"
     },
     "output_type": "display_data"
    },
    {
     "data": {
      "image/png": "[encoded data removed]",
      "text/plain": [
       "<Figure size 432x288 with 1 Axes>"
      ]
     },
     "metadata": {
      "needs_background": "light"
     },
     "output_type": "display_data"
    }
   ],
   "source": [
    "# unnormalized_data = (val_univariate*uni_train_std) + uni_train_mean\n",
    "def unnormalized(val):\n",
    "    return (val*uni_train_std) + uni_train_mean\n",
    "\n",
    "for x, y in val_univariate.take(2):\n",
    "#     print(y)\n",
    "#     print(simple_lstm_model.predict(x))\n",
    "    plot = show_plot([unnormalized(x[0].numpy()), unnormalized(y[0].numpy()),\n",
    "                    unnormalized(simple_lstm_model.predict(x)[0])], 0, 'Simple LSTM model')\n",
    "    plot.show()"
   ]
  },
  {
   "cell_type": "markdown",
   "metadata": {
    "colab_type": "text",
    "id": "VlJYi3_HXcw8"
   },
   "source": [
    "## Part 2: Multivariate time series"
   ]
  },
  {
   "cell_type": "code",
   "execution_count": 93,
   "metadata": {
    "collapsed": true
   },
   "outputs": [],
   "source": [
    "features_considered = ['slope', item_to_predict]\n",
    "# ['MACD', 'RSI', 'SMA', 'Rune_axe', 'Rune_axe_bq', 'Rune_axe_sq', 'Rune_axe_sa', 'hour', 'dayofweek', 'slope'\n",
    "# 'Rune_2h_sword', 'Rune_scimitar', 'Rune_chainbody', 'Rune_full_helm', 'Rune_kiteshield']"
   ]
  },
  {
   "cell_type": "code",
   "execution_count": 94,
   "metadata": {
    "colab": {},
    "colab_type": "code",
    "id": "IfQUSiJfUpXJ"
   },
   "outputs": [
    {
     "data": {
      "text/html": [
       "<div>\n",
       "<style scoped>\n",
       "    .dataframe tbody tr th:only-of-type {\n",
       "        vertical-align: middle;\n",
       "    }\n",
       "\n",
       "    .dataframe tbody tr th {\n",
       "        vertical-align: top;\n",
       "    }\n",
       "\n",
       "    .dataframe thead th {\n",
       "        text-align: right;\n",
       "    }\n",
       "</style>\n",
       "<table border=\"1\" class=\"dataframe\">\n",
       "  <thead>\n",
       "    <tr style=\"text-align: right;\">\n",
       "      <th></th>\n",
       "      <th>slope</th>\n",
       "      <th>Rune_scimitar</th>\n",
       "    </tr>\n",
       "    <tr>\n",
       "      <th>timestamp</th>\n",
       "      <th></th>\n",
       "      <th></th>\n",
       "    </tr>\n",
       "  </thead>\n",
       "  <tbody>\n",
       "    <tr>\n",
       "      <th>1577246100</th>\n",
       "      <td>38.0</td>\n",
       "      <td>14984</td>\n",
       "    </tr>\n",
       "    <tr>\n",
       "      <th>1577247901</th>\n",
       "      <td>32.0</td>\n",
       "      <td>15050</td>\n",
       "    </tr>\n",
       "    <tr>\n",
       "      <th>1577249700</th>\n",
       "      <td>-47.0</td>\n",
       "      <td>15048</td>\n",
       "    </tr>\n",
       "    <tr>\n",
       "      <th>1577251500</th>\n",
       "      <td>-32.5</td>\n",
       "      <td>14956</td>\n",
       "    </tr>\n",
       "    <tr>\n",
       "      <th>1577253301</th>\n",
       "      <td>27.0</td>\n",
       "      <td>14983</td>\n",
       "    </tr>\n",
       "  </tbody>\n",
       "</table>\n",
       "</div>"
      ],
      "text/plain": [
       "            slope  Rune_scimitar\n",
       "timestamp                       \n",
       "1577246100   38.0          14984\n",
       "1577247901   32.0          15050\n",
       "1577249700  -47.0          15048\n",
       "1577251500  -32.5          14956\n",
       "1577253301   27.0          14983"
      ]
     },
     "execution_count": 94,
     "metadata": {},
     "output_type": "execute_result"
    }
   ],
   "source": [
    "features = df[features_considered]\n",
    "# features.index = df['timestamp']\n",
    "features.head()"
   ]
  },
  {
   "cell_type": "code",
   "execution_count": 95,
   "metadata": {
    "colab": {},
    "colab_type": "code",
    "id": "QdgC8zvGr21X"
   },
   "outputs": [
    {
     "data": {
      "text/plain": [
       "array([<matplotlib.axes._subplots.AxesSubplot object at 0x000001E6A3E2D3C8>,\n",
       "       <matplotlib.axes._subplots.AxesSubplot object at 0x000001E6A4327550>],\n",
       "      dtype=object)"
      ]
     },
     "execution_count": 95,
     "metadata": {},
     "output_type": "execute_result"
    },
    {
     "data": {
      "image/png": "[encoded data removed]",
      "text/plain": [
       "<Figure size 432x288 with 2 Axes>"
      ]
     },
     "metadata": {
      "needs_background": "light"
     },
     "output_type": "display_data"
    }
   ],
   "source": [
    "features.plot(subplots=True)"
   ]
  },
  {
   "cell_type": "code",
   "execution_count": 96,
   "metadata": {
    "colab": {},
    "colab_type": "code",
    "collapsed": true,
    "id": "W7VuNIwfHRHx"
   },
   "outputs": [],
   "source": [
    "dataset = features.values\n",
    "data_mean = dataset[:TRAIN_SPLIT].mean(axis=0)\n",
    "data_std = dataset[:TRAIN_SPLIT].std(axis=0)"
   ]
  },
  {
   "cell_type": "code",
   "execution_count": 97,
   "metadata": {
    "colab": {},
    "colab_type": "code",
    "collapsed": true,
    "id": "eJUeWDqploCt"
   },
   "outputs": [],
   "source": [
    "dataset = (dataset-data_mean)/data_std"
   ]
  },
  {
   "cell_type": "markdown",
   "metadata": {
    "colab_type": "text",
    "id": "LyuGuJUgjUK3"
   },
   "source": [
    "### Single step model"
   ]
  },
  {
   "cell_type": "code",
   "execution_count": 98,
   "metadata": {
    "colab": {},
    "colab_type": "code",
    "collapsed": true,
    "id": "d-rVX4d3OF86"
   },
   "outputs": [],
   "source": [
    "def multivariate_data(dataset, target, start_index, end_index, history_size,\n",
    "                      target_size, step, single_step=False):\n",
    "  data = []\n",
    "  labels = []\n",
    "\n",
    "  start_index = start_index + history_size\n",
    "  if end_index is None:\n",
    "    end_index = len(dataset) - target_size\n",
    "\n",
    "  for i in range(start_index, end_index):\n",
    "    indices = range(i-history_size, i, step)\n",
    "    data.append(dataset[indices])\n",
    "\n",
    "    if single_step:\n",
    "      labels.append(target[i+target_size])\n",
    "    else:\n",
    "      labels.append(target[i:i+target_size])\n",
    "\n",
    "  return np.array(data), np.array(labels)"
   ]
  },
  {
   "cell_type": "code",
   "execution_count": 186,
   "metadata": {
    "colab": {},
    "colab_type": "code",
    "collapsed": true,
    "id": "HlhVGzPhmMYI"
   },
   "outputs": [],
   "source": [
    "past_history = 100\n",
    "future_target = 1\n",
    "STEP = 1\n",
    "\n",
    "x_train_single, y_train_single = multivariate_data(dataset, dataset[:, 1], 0,\n",
    "                                                   TRAIN_SPLIT, past_history,\n",
    "                                                   future_target, STEP,\n",
    "                                                   single_step=True)\n",
    "x_val_single, y_val_single = multivariate_data(dataset, dataset[:, 1],\n",
    "                                               TRAIN_SPLIT, None, past_history,\n",
    "                                               future_target, STEP,\n",
    "                                               single_step=True)"
   ]
  },
  {
   "cell_type": "code",
   "execution_count": 187,
   "metadata": {
    "colab": {},
    "colab_type": "code",
    "id": "_tVKm-ZIPls0"
   },
   "outputs": [
    {
     "name": "stdout",
     "output_type": "stream",
     "text": [
      "Single window of past history : (100, 2)\n"
     ]
    }
   ],
   "source": [
    "print ('Single window of past history : {}'.format(x_train_single[0].shape))"
   ]
  },
  {
   "cell_type": "code",
   "execution_count": 188,
   "metadata": {
    "colab": {},
    "colab_type": "code",
    "collapsed": true,
    "id": "eCWG4xgQ3O6E"
   },
   "outputs": [],
   "source": [
    "train_data_single = tf.data.Dataset.from_tensor_slices((x_train_single, y_train_single))\n",
    "train_data_single = train_data_single.cache().shuffle(BUFFER_SIZE).batch(BATCH_SIZE).repeat()\n",
    "\n",
    "val_data_single = tf.data.Dataset.from_tensor_slices((x_val_single, y_val_single))\n",
    "val_data_single = val_data_single.batch(BATCH_SIZE).repeat()"
   ]
  },
  {
   "cell_type": "code",
   "execution_count": 189,
   "metadata": {
    "colab": {},
    "colab_type": "code",
    "collapsed": true,
    "id": "0aWec9_nlxBl"
   },
   "outputs": [],
   "source": [
    "single_step_model = tf.keras.models.Sequential()\n",
    "single_step_model.add(tf.keras.layers.LSTM(32, input_shape=x_train_single.shape[-2:]))\n",
    "single_step_model.add(tf.keras.layers.Dense(1))\n",
    "single_step_model.add(tf.keras.layers.Dropout(0.2))\n",
    "single_step_model.add(tf.keras.layers.Dense(1))\n",
    "single_step_model.add(tf.keras.layers.Dropout(0.2))\n",
    "single_step_model.add(tf.keras.layers.Dense(1))\n",
    "\n",
    "single_step_model.compile(optimizer=tf.keras.optimizers.RMSprop(), loss='mae') #learning_rate=0.001"
   ]
  },
  {
   "cell_type": "code",
   "execution_count": 190,
   "metadata": {
    "colab": {},
    "colab_type": "code",
    "id": "yY7FodHVOPsH"
   },
   "outputs": [
    {
     "name": "stdout",
     "output_type": "stream",
     "text": [
      "(32, 1)\n"
     ]
    }
   ],
   "source": [
    "for x, y in val_data_single.take(1):\n",
    "  print(single_step_model.predict(x).shape)"
   ]
  },
  {
   "cell_type": "code",
   "execution_count": 191,
   "metadata": {
    "colab": {},
    "colab_type": "code",
    "id": "U0jnt2l2mwkl"
   },
   "outputs": [
    {
     "name": "stdout",
     "output_type": "stream",
     "text": [
      "Train for 200 steps, validate for 50 steps\n",
      "Epoch 1/10\n",
      "200/200 [==============================] - 16s 79ms/step - loss: 0.7046 - val_loss: 0.5575\n",
      "Epoch 2/10\n",
      "200/200 [==============================] - 9s 46ms/step - loss: 0.6699 - val_loss: 0.5481\n",
      "Epoch 3/10\n",
      "200/200 [==============================] - 9s 45ms/step - loss: 0.6471 - val_loss: 0.5048\n",
      "Epoch 4/10\n",
      "200/200 [==============================] - 9s 45ms/step - loss: 0.6278 - val_loss: 0.4890\n",
      "Epoch 5/10\n",
      "200/200 [==============================] - 9s 44ms/step - loss: 0.6104 - val_loss: 0.4790\n",
      "Epoch 6/10\n",
      "200/200 [==============================] - 9s 45ms/step - loss: 0.6000 - val_loss: 0.4713\n",
      "Epoch 7/10\n",
      "200/200 [==============================] - 9s 44ms/step - loss: 0.5994 - val_loss: 0.4689\n",
      "Epoch 8/10\n",
      "200/200 [==============================] - 9s 45ms/step - loss: 0.5938 - val_loss: 0.4643\n",
      "Epoch 9/10\n",
      "200/200 [==============================] - 10s 48ms/step - loss: 0.5829 - val_loss: 0.4660\n",
      "Epoch 10/10\n",
      "200/200 [==============================] - 9s 44ms/step - loss: 0.5855 - val_loss: 0.4693\n"
     ]
    }
   ],
   "source": [
    "single_step_history = single_step_model.fit(train_data_single, epochs=EPOCHS,\n",
    "                                            steps_per_epoch=EVALUATION_INTERVAL,\n",
    "                                            validation_data=val_data_single,\n",
    "                                            validation_steps=50)"
   ]
  },
  {
   "cell_type": "code",
   "execution_count": 192,
   "metadata": {
    "colab": {},
    "colab_type": "code",
    "collapsed": true,
    "id": "-ZAdeAnP5c72"
   },
   "outputs": [],
   "source": [
    "def plot_train_history(history, title):\n",
    "  loss = history.history['loss']\n",
    "  val_loss = history.history['val_loss']\n",
    "\n",
    "  epochs = range(len(loss))\n",
    "\n",
    "  plt.figure()\n",
    "\n",
    "  plt.plot(epochs, loss, 'b', label='Training loss')\n",
    "  plt.plot(epochs, val_loss, 'r', label='Validation loss')\n",
    "  plt.title(title)\n",
    "  plt.legend()\n",
    "\n",
    "  plt.show()"
   ]
  },
  {
   "cell_type": "code",
   "execution_count": 193,
   "metadata": {
    "colab": {},
    "colab_type": "code",
    "id": "l8lBKA-z5yYV"
   },
   "outputs": [
    {
     "data": {
      "image/png": "[encoded data removed]",
      "text/plain": [
       "<Figure size 432x288 with 1 Axes>"
      ]
     },
     "metadata": {
      "needs_background": "light"
     },
     "output_type": "display_data"
    }
   ],
   "source": [
    "plot_train_history(single_step_history,\n",
    "                   'Single Step Training and validation loss')"
   ]
  },
  {
   "cell_type": "markdown",
   "metadata": {
    "colab_type": "text",
    "id": "DfjrGAlEUp7i"
   },
   "source": [
    "#### Predict a single step future"
   ]
  },
  {
   "cell_type": "code",
   "execution_count": 194,
   "metadata": {
    "colab": {},
    "colab_type": "code",
    "id": "h1qmPLLVUpuN"
   },
   "outputs": [
    {
     "data": {
      "image/png": "[encoded data removed]",
      "text/plain": [
       "<Figure size 432x288 with 1 Axes>"
      ]
     },
     "metadata": {
      "needs_background": "light"
     },
     "output_type": "display_data"
    },
    {
     "data": {
      "image/png": "[encoded data removed]",
      "text/plain": [
       "<Figure size 432x288 with 1 Axes>"
      ]
     },
     "metadata": {
      "needs_background": "light"
     },
     "output_type": "display_data"
    },
    {
     "data": {
      "image/png": "[encoded data removed]",
      "text/plain": [
       "<Figure size 432x288 with 1 Axes>"
      ]
     },
     "metadata": {
      "needs_background": "light"
     },
     "output_type": "display_data"
    }
   ],
   "source": [
    "for x, y in val_data_single.take(3):\n",
    "  plot = show_plot([x[0][:, 1].numpy(), y[0].numpy(),\n",
    "                    single_step_model.predict(x)[0]], 1,\n",
    "                   'Single Step Prediction')\n",
    "  plot.show()"
   ]
  },
  {
   "cell_type": "markdown",
   "metadata": {
    "colab_type": "text",
    "id": "2GnE087bJYSu"
   },
   "source": [
    "### Multi-Step model"
   ]
  },
  {
   "cell_type": "code",
   "execution_count": 317,
   "metadata": {
    "colab": {},
    "colab_type": "code",
    "collapsed": true,
    "id": "kZCk9fqyJZqX"
   },
   "outputs": [],
   "source": [
    "future_target = 10\n",
    "BATCH_SIZE = 32\n",
    "BUFFER_SIZE = 200\n",
    "past_history = 200\n",
    "x_train_multi, y_train_multi = multivariate_data(dataset, dataset[:, 1], 0,\n",
    "                                                 TRAIN_SPLIT, past_history,\n",
    "                                                 future_target, STEP)\n",
    "x_val_multi, y_val_multi = multivariate_data(dataset, dataset[:, 1],\n",
    "                                             TRAIN_SPLIT, None, past_history,\n",
    "                                             future_target, STEP)"
   ]
  },
  {
   "cell_type": "code",
   "execution_count": 318,
   "metadata": {
    "colab": {},
    "colab_type": "code",
    "id": "SpWDcBkQRwS-"
   },
   "outputs": [
    {
     "name": "stdout",
     "output_type": "stream",
     "text": [
      "Single window of past history : (200, 2)\n",
      "\n",
      " Target to predict : (10,)\n"
     ]
    }
   ],
   "source": [
    "print ('Single window of past history : {}'.format(x_train_multi[0].shape))\n",
    "print ('\\n Target to predict : {}'.format(y_train_multi[0].shape))"
   ]
  },
  {
   "cell_type": "code",
   "execution_count": 319,
   "metadata": {
    "colab": {},
    "colab_type": "code",
    "collapsed": true,
    "id": "cjR4PJArMOpA"
   },
   "outputs": [],
   "source": [
    "train_data_multi = tf.data.Dataset.from_tensor_slices((x_train_multi, y_train_multi))\n",
    "train_data_multi = train_data_multi.cache().shuffle(BUFFER_SIZE).batch(BATCH_SIZE).repeat()\n",
    "\n",
    "val_data_multi = tf.data.Dataset.from_tensor_slices((x_val_multi, y_val_multi))\n",
    "val_data_multi = val_data_multi.batch(BATCH_SIZE).repeat()"
   ]
  },
  {
   "cell_type": "code",
   "execution_count": 320,
   "metadata": {
    "colab": {},
    "colab_type": "code",
    "collapsed": true,
    "id": "ksXKVbwBV7D3"
   },
   "outputs": [],
   "source": [
    "def revert_data(val):\n",
    "    return (val * data_std) + data_mean\n",
    "\n",
    "def revert_target(val, index=1):\n",
    "    return (val * data_std[index]) + data_mean[index]\n",
    "\n",
    "def multi_step_plot(history, true_future, prediction):\n",
    "  plt.figure(figsize=(12, 6))\n",
    "  num_in = create_time_steps(len(history))\n",
    "  num_out = len(true_future)\n",
    "\n",
    "  plt.plot(num_in, np.array(history[:, 1]), label='History')\n",
    "  plt.plot(np.arange(num_out)/STEP, np.array(true_future),\n",
    "           label='True Future')\n",
    "  if prediction.any():\n",
    "    plt.plot(np.arange(num_out)/STEP, np.array(prediction),\n",
    "             label='Predicted Future')\n",
    "  plt.legend(loc='upper left')\n",
    "  plt.show()"
   ]
  },
  {
   "cell_type": "code",
   "execution_count": 321,
   "metadata": {
    "colab": {},
    "colab_type": "code",
    "id": "R6G8bacQR4w2"
   },
   "outputs": [
    {
     "data": {
      "image/png": "[encoded data removed]",
      "text/plain": [
       "<Figure size 864x432 with 1 Axes>"
      ]
     },
     "metadata": {
      "needs_background": "light"
     },
     "output_type": "display_data"
    }
   ],
   "source": [
    "for x, y in train_data_multi.take(1):\n",
    "    multi_step_plot(revert_data(x[0].numpy()), revert_target(y[0].numpy()), np.array([0]))"
   ]
  },
  {
   "cell_type": "code",
   "execution_count": 322,
   "metadata": {
    "colab": {},
    "colab_type": "code",
    "id": "byAl0NKSNBP6"
   },
   "outputs": [],
   "source": [
    "multi_step_model = tf.keras.models.Sequential()\n",
    "multi_step_model.add(tf.keras.layers.LSTM(64,\n",
    "                                          return_sequences=True,\n",
    "                                          input_shape=x_train_multi.shape[-2:]))\n",
    "multi_step_model.add(tf.keras.layers.LSTM(32, activation='relu'))\n",
    "multi_step_model.add(tf.keras.layers.Dense(30)) # , kernel_regularizer=tf.keras.regularizers.l2(0.04)\n",
    "multi_step_model.add(tf.keras.layers.Dropout(0.5))\n",
    "multi_step_model.add(tf.keras.layers.Dense(30))\n",
    "multi_step_model.add(tf.keras.layers.Dropout(0.5))\n",
    "multi_step_model.add(tf.keras.layers.Dense(future_target))\n",
    "\n",
    "\n",
    "\n",
    "multi_step_model.compile(optimizer=tf.keras.optimizers.RMSprop(clipvalue=1.0), loss='mae')"
   ]
  },
  {
   "cell_type": "code",
   "execution_count": 323,
   "metadata": {
    "colab": {},
    "colab_type": "code",
    "id": "13_ZWvB9SRlZ",
    "scrolled": true
   },
   "outputs": [
    {
     "name": "stdout",
     "output_type": "stream",
     "text": [
      "(32, 10)\n"
     ]
    }
   ],
   "source": [
    "for x, y in val_data_multi.take(1):\n",
    "  print (multi_step_model.predict(x).shape)"
   ]
  },
  {
   "cell_type": "code",
   "execution_count": null,
   "metadata": {
    "colab": {},
    "colab_type": "code",
    "id": "7uwOhXo3Oems"
   },
   "outputs": [
    {
     "name": "stdout",
     "output_type": "stream",
     "text": [
      "Train for 200 steps, validate for 50 steps\n",
      "Epoch 1/10\n",
      "200/200 [==============================] - 46s 228ms/step - loss: 0.6892 - val_loss: 0.6777\n",
      "Epoch 2/10\n",
      "200/200 [==============================] - 38s 191ms/step - loss: 0.6459 - val_loss: 0.7130\n",
      "Epoch 3/10\n",
      "200/200 [==============================] - 39s 197ms/step - loss: 0.6254 - val_loss: 0.7153\n",
      "Epoch 4/10\n",
      "200/200 [==============================] - 38s 192ms/step - loss: 0.6035 - val_loss: 0.7565\n",
      "Epoch 5/10\n",
      "200/200 [==============================] - 38s 189ms/step - loss: 0.5965 - val_loss: 0.8118\n",
      "Epoch 6/10\n",
      "200/200 [==============================] - 38s 189ms/step - loss: 0.5828 - val_loss: 0.7277\n",
      "Epoch 7/10\n",
      "200/200 [==============================] - 38s 189ms/step - loss: 0.5715 - val_loss: 0.7615\n",
      "Epoch 8/10\n",
      "200/200 [==============================] - 38s 189ms/step - loss: 0.5580 - val_loss: 0.7073\n",
      "Epoch 9/10\n",
      "200/200 [==============================] - 40s 200ms/step - loss: 0.5540 - val_loss: 0.6982\n",
      "Epoch 10/10\n",
      " 95/200 [=============>................] - ETA: 19s - loss: 0.5433"
     ]
    }
   ],
   "source": [
    "multi_step_history = multi_step_model.fit(train_data_multi, epochs=EPOCHS,\n",
    "                                          steps_per_epoch=EVALUATION_INTERVAL,\n",
    "                                          validation_data=val_data_multi,\n",
    "                                          validation_steps=50)"
   ]
  },
  {
   "cell_type": "code",
   "execution_count": null,
   "metadata": {
    "colab": {},
    "colab_type": "code",
    "id": "UKfQoBjQ5l7U"
   },
   "outputs": [],
   "source": [
    "plot_train_history(multi_step_history, 'Multi-Step Training and validation loss')"
   ]
  },
  {
   "cell_type": "markdown",
   "metadata": {
    "colab_type": "text",
    "id": "oDg94-yq4pas"
   },
   "source": [
    "#### Predict a multi-step future"
   ]
  },
  {
   "cell_type": "code",
   "execution_count": null,
   "metadata": {
    "colab": {},
    "colab_type": "code",
    "id": "dt22wq6fyIBU",
    "scrolled": true
   },
   "outputs": [],
   "source": [
    "for x, y in val_data_multi.take(3):\n",
    "  multi_step_plot(x[0], y[0], multi_step_model.predict(x)[0])"
   ]
  },
  {
   "cell_type": "markdown",
   "metadata": {},
   "source": [
    "#### Unnormalizing the data (so we can see actual prices in GP)"
   ]
  },
  {
   "cell_type": "code",
   "execution_count": null,
   "metadata": {},
   "outputs": [],
   "source": [
    "for x, y in val_data_multi.take(3):\n",
    "    multi_step_plot(revert_data(x[0].numpy()), revert_target(y[0].numpy()), revert_target(multi_step_model.predict(x)[0]))\n",
    "    total_err = 0\n",
    "    for idx, val in enumerate(revert_target(y[0].numpy())):\n",
    "        pred = revert_target(multi_step_model.predict(x)[0])[idx]\n",
    "        err = pred-val\n",
    "        total_err += err\n",
    "        print(\"real val: {}, predicted: {}, error: {}\".format(val, pred, err))\n",
    "    print(\"Average Error: {}\".format(total_err/5))"
   ]
  },
  {
   "cell_type": "markdown",
   "metadata": {},
   "source": [
    "## Feature Selection"
   ]
  },
  {
   "cell_type": "code",
   "execution_count": null,
   "metadata": {},
   "outputs": [],
   "source": [
    "# Univariate linear regression tests and Recursive Feature Elimination (RFE)\n",
    "from sklearn import datasets\n",
    "from sklearn.feature_selection import RFE, f_regression, SelectKBest\n",
    "from sklearn.linear_model import LogisticRegression\n",
    "from sklearn.ensemble import RandomForestRegressor"
   ]
  },
  {
   "cell_type": "markdown",
   "metadata": {},
   "source": [
    "### Regression F Test"
   ]
  },
  {
   "cell_type": "code",
   "execution_count": null,
   "metadata": {},
   "outputs": [],
   "source": [
    "features = df.drop(['datetime'], axis=1).copy()\n",
    "\n",
    "# normalize dataset\n",
    "dataset=(features-features.mean())/features.std()\n",
    "    \n",
    "X = dataset.drop([item_to_predict], axis=1)\n",
    "y = dataset[item_to_predict]\n",
    "print(X.shape)\n",
    "print(y.shape)\n",
    "\n",
    "# define feature selection\n",
    "fs = SelectKBest(score_func=f_regression, k=7)\n",
    "# apply feature selection\n",
    "X_selected = fs.fit_transform(X, y)\n",
    "print(X_selected.shape)\n",
    "\n",
    "# Get scores for each of the columns\n",
    "scores = fs.scores_\n",
    "for idx, col in enumerate(X.columns): \n",
    "    print(\"feature: {: >20} \\t score: {: >10}\".format(col, round(scores[idx],5)))\n",
    "\n",
    "# Get columns to keep and create new dataframe with those only\n",
    "cols = fs.get_support(indices=True)\n",
    "features_df_new = X.iloc[:,cols]\n",
    "print(features_df_new.columns)\n",
    "features_df_new.head()\n"
   ]
  },
  {
   "cell_type": "markdown",
   "metadata": {},
   "source": [
    "### Recursive Feature Elimination (RFE)"
   ]
  },
  {
   "cell_type": "code",
   "execution_count": null,
   "metadata": {},
   "outputs": [],
   "source": [
    "X = dataset.drop([item_to_predict], axis=1)\n",
    "y = dataset[item_to_predict]\n",
    "\n",
    "# perform feature selection\n",
    "rfe = RFE(RandomForestRegressor(n_estimators=500, random_state=1), 7)\n",
    "fit = rfe.fit(X, y)\n",
    "# report selected features\n",
    "print('Selected Features:')\n",
    "names = dataset.drop([item_to_predict], axis=1).columns.values\n",
    "for i in range(len(fit.support_)):\n",
    "    if fit.support_[i]:\n",
    "        print(names[i])"
   ]
  },
  {
   "cell_type": "code",
   "execution_count": null,
   "metadata": {},
   "outputs": [],
   "source": [
    "mpl.rcParams.update(mpl.rcParamsDefault)\n",
    "# plot feature rank\n",
    "names = dataset.drop([item_to_predict], axis=1).columns.values\n",
    "ticks = [i for i in range(len(names))]\n",
    "plt.bar(ticks, fit.ranking_)\n",
    "plt.xticks(ticks, names)\n",
    "plt.xticks(rotation=90);\n",
    "plt.show()"
   ]
  },
  {
   "cell_type": "markdown",
   "metadata": {},
   "source": [
    "### Going through individual features"
   ]
  },
  {
   "cell_type": "code",
   "execution_count": null,
   "metadata": {
    "scrolled": true
   },
   "outputs": [],
   "source": [
    "all_features = dataset.drop([item_to_predict], axis=1).columns.values\n",
    "\n",
    "for feature in all_features:\n",
    "    print(\"processing feature: {}\".format(feature))\n",
    "    features_considered = [feature, item_to_predict] \n",
    "\n",
    "    features = df[features_considered]\n",
    "    # features.index = df['timestamp']\n",
    "    features.head()\n",
    "\n",
    "    dataset = features.values\n",
    "    data_mean = dataset[:TRAIN_SPLIT].mean(axis=0)\n",
    "    data_std = dataset[:TRAIN_SPLIT].std(axis=0)\n",
    "\n",
    "    dataset = (dataset-data_mean)/data_std\n",
    "\n",
    "    past_history = 30\n",
    "    future_target = 1\n",
    "    STEP = 1\n",
    "\n",
    "    x_train_single, y_train_single = multivariate_data(dataset, dataset[:, 1], 0,\n",
    "                                                       TRAIN_SPLIT, past_history,\n",
    "                                                       future_target, STEP,\n",
    "                                                       single_step=True)\n",
    "    x_val_single, y_val_single = multivariate_data(dataset, dataset[:, 1],\n",
    "                                                   TRAIN_SPLIT, None, past_history,\n",
    "                                                   future_target, STEP,\n",
    "                                                   single_step=True)\n",
    "\n",
    "    train_data_single = tf.data.Dataset.from_tensor_slices((x_train_single, y_train_single))\n",
    "    train_data_single = train_data_single.cache().shuffle(BUFFER_SIZE).batch(BATCH_SIZE).repeat()\n",
    "\n",
    "    val_data_single = tf.data.Dataset.from_tensor_slices((x_val_single, y_val_single))\n",
    "    val_data_single = val_data_single.batch(BATCH_SIZE).repeat()\n",
    "\n",
    "    single_step_model = tf.keras.models.Sequential()\n",
    "    single_step_model.add(tf.keras.layers.LSTM(32, input_shape=x_train_single.shape[-2:]))\n",
    "    single_step_model.add(tf.keras.layers.Dense(1))\n",
    "    single_step_model.add(tf.keras.layers.Dropout(0.2))\n",
    "    single_step_model.add(tf.keras.layers.Dense(1))\n",
    "    single_step_model.add(tf.keras.layers.Dropout(0.2))\n",
    "    single_step_model.add(tf.keras.layers.Dense(1))\n",
    "\n",
    "    single_step_model.compile(optimizer=tf.keras.optimizers.RMSprop(), loss='mae')\n",
    "\n",
    "    single_step_history = single_step_model.fit(train_data_single, epochs=EPOCHS,\n",
    "                                                steps_per_epoch=EVALUATION_INTERVAL,\n",
    "                                                validation_data=val_data_single,\n",
    "                                                validation_steps=50,\n",
    "                                                verbose=0)\n",
    "\n",
    "    print(\"validation loss hist: {}\\n\".format(single_step_history.history['val_loss']))"
   ]
  }
 ],
 "metadata": {
  "accelerator": "GPU",
  "colab": {
   "collapsed_sections": [],
   "name": "time_series.ipynb",
   "private_outputs": true,
   "toc_visible": true
  },
  "kernelspec": {
   "display_name": "Python 3",
   "language": "python",
   "name": "python3"
  },
  "language_info": {
   "codemirror_mode": {
    "name": "ipython",
    "version": 3
   },
   "file_extension": ".py",
   "mimetype": "text/x-python",
   "name": "python",
   "nbconvert_exporter": "python",
   "pygments_lexer": "ipython3",
   "version": "3.6.3"
  }
 },
 "nbformat": 4,
 "nbformat_minor": 1
}
