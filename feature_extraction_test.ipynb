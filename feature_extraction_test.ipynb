{
 "cells": [
  {
   "cell_type": "code",
   "execution_count": 1,
   "metadata": {},
   "outputs": [
    {
     "name": "stderr",
     "output_type": "stream",
     "text": [
      "C:\\Users\\User\\Anaconda3\\lib\\site-packages\\h5py\\__init__.py:34: FutureWarning: Conversion of the second argument of issubdtype from `float` to `np.floating` is deprecated. In future, it will be treated as `np.float64 == np.dtype(float).type`.\n",
      "  from ._conv import register_converters as _register_converters\n"
     ]
    }
   ],
   "source": [
    "from __future__ import absolute_import, division, print_function, unicode_literals\n",
    "import tensorflow as tf\n",
    "import matplotlib as mpl\n",
    "import matplotlib.pyplot as plt\n",
    "import numpy as np\n",
    "import os\n",
    "import pandas as pd\n",
    "\n",
    "mpl.rcParams['figure.figsize'] = (8, 6)\n",
    "mpl.rcParams['axes.grid'] = False\n",
    "%matplotlib inline"
   ]
  },
  {
   "cell_type": "code",
   "execution_count": 2,
   "metadata": {
    "collapsed": true
   },
   "outputs": [],
   "source": [
    "df = pd.read_csv(\"data/rsbuddy/buy_average.csv\")\n",
    "df = df.set_index('timestamp')\n",
    "df2 = pd.read_csv(\"data/rsbuddy/sell_average.csv\")\n",
    "df2 = df2.set_index('timestamp')"
   ]
  },
  {
   "cell_type": "code",
   "execution_count": 3,
   "metadata": {
    "collapsed": true
   },
   "outputs": [],
   "source": [
    "dropped = df.drop_duplicates()\n",
    "dropped2 = df2.drop_duplicates()\n",
    "selected = dropped[['Chaos_rune', 'Nature_rune', 'Soul_rune', 'Blood_rune', 'Law_rune', 'Rune_axe']]\n",
    "selected = selected.replace(to_replace=0, method='ffill')\n",
    "selected2 = dropped2[['Chaos_rune', 'Nature_rune', 'Soul_rune', 'Blood_rune', 'Law_rune']]\n",
    "# y = runes.reset_index()['Chaos_rune']"
   ]
  },
  {
   "cell_type": "code",
   "execution_count": 4,
   "metadata": {},
   "outputs": [
    {
     "name": "stdout",
     "output_type": "stream",
     "text": [
      "(1086, 6)\n",
      "(1086, 5)\n"
     ]
    },
    {
     "data": {
      "text/html": [
       "<div>\n",
       "<style scoped>\n",
       "    .dataframe tbody tr th:only-of-type {\n",
       "        vertical-align: middle;\n",
       "    }\n",
       "\n",
       "    .dataframe tbody tr th {\n",
       "        vertical-align: top;\n",
       "    }\n",
       "\n",
       "    .dataframe thead th {\n",
       "        text-align: right;\n",
       "    }\n",
       "</style>\n",
       "<table border=\"1\" class=\"dataframe\">\n",
       "  <thead>\n",
       "    <tr style=\"text-align: right;\">\n",
       "      <th></th>\n",
       "      <th>Chaos_rune</th>\n",
       "      <th>Nature_rune</th>\n",
       "      <th>Soul_rune</th>\n",
       "      <th>Blood_rune</th>\n",
       "      <th>Law_rune</th>\n",
       "      <th>Rune_axe</th>\n",
       "    </tr>\n",
       "    <tr>\n",
       "      <th>timestamp</th>\n",
       "      <th></th>\n",
       "      <th></th>\n",
       "      <th></th>\n",
       "      <th></th>\n",
       "      <th></th>\n",
       "      <th></th>\n",
       "    </tr>\n",
       "  </thead>\n",
       "  <tbody>\n",
       "    <tr>\n",
       "      <th>1577227800</th>\n",
       "      <td>66</td>\n",
       "      <td>218</td>\n",
       "      <td>146</td>\n",
       "      <td>305</td>\n",
       "      <td>142</td>\n",
       "      <td>7196</td>\n",
       "    </tr>\n",
       "    <tr>\n",
       "      <th>1577229600</th>\n",
       "      <td>66</td>\n",
       "      <td>219</td>\n",
       "      <td>147</td>\n",
       "      <td>304</td>\n",
       "      <td>142</td>\n",
       "      <td>7123</td>\n",
       "    </tr>\n",
       "    <tr>\n",
       "      <th>1577231400</th>\n",
       "      <td>66</td>\n",
       "      <td>218</td>\n",
       "      <td>146</td>\n",
       "      <td>304</td>\n",
       "      <td>142</td>\n",
       "      <td>7237</td>\n",
       "    </tr>\n",
       "    <tr>\n",
       "      <th>1577233501</th>\n",
       "      <td>66</td>\n",
       "      <td>218</td>\n",
       "      <td>145</td>\n",
       "      <td>304</td>\n",
       "      <td>140</td>\n",
       "      <td>7250</td>\n",
       "    </tr>\n",
       "    <tr>\n",
       "      <th>1577235300</th>\n",
       "      <td>66</td>\n",
       "      <td>218</td>\n",
       "      <td>144</td>\n",
       "      <td>301</td>\n",
       "      <td>140</td>\n",
       "      <td>7316</td>\n",
       "    </tr>\n",
       "  </tbody>\n",
       "</table>\n",
       "</div>"
      ],
      "text/plain": [
       "            Chaos_rune  Nature_rune  Soul_rune  Blood_rune  Law_rune  Rune_axe\n",
       "timestamp                                                                     \n",
       "1577227800          66          218        146         305       142      7196\n",
       "1577229600          66          219        147         304       142      7123\n",
       "1577231400          66          218        146         304       142      7237\n",
       "1577233501          66          218        145         304       140      7250\n",
       "1577235300          66          218        144         301       140      7316"
      ]
     },
     "execution_count": 4,
     "metadata": {},
     "output_type": "execute_result"
    }
   ],
   "source": [
    "print(selected.shape)\n",
    "print(selected2.shape)\n",
    "selected.head()"
   ]
  },
  {
   "cell_type": "markdown",
   "metadata": {},
   "source": [
    "# Using the tsfresh library"
   ]
  },
  {
   "cell_type": "code",
   "execution_count": null,
   "metadata": {
    "collapsed": true
   },
   "outputs": [],
   "source": [
    "import scipy as sp\n",
    "from tsfresh import extract_features\n",
    "from tsfresh.utilities.dataframe_functions import make_forecasting_frame\n",
    "from sklearn.ensemble import AdaBoostRegressor\n",
    "from tsfresh.utilities.dataframe_functions import impute"
   ]
  },
  {
   "cell_type": "code",
   "execution_count": null,
   "metadata": {
    "collapsed": true
   },
   "outputs": [],
   "source": [
    "selected['Rune_axe'].plot(figsize=(15, 6))\n",
    "plt.show()"
   ]
  },
  {
   "cell_type": "code",
   "execution_count": null,
   "metadata": {
    "collapsed": true
   },
   "outputs": [],
   "source": [
    "df_shift, y = make_forecasting_frame(selected[\"Rune_axe\"], kind=\"buy_average\", max_timeshift=20, rolling_direction=1)"
   ]
  },
  {
   "cell_type": "code",
   "execution_count": null,
   "metadata": {
    "collapsed": true
   },
   "outputs": [],
   "source": [
    "df_shift.head()"
   ]
  },
  {
   "cell_type": "code",
   "execution_count": null,
   "metadata": {
    "collapsed": true
   },
   "outputs": [],
   "source": [
    "df_shift.shape"
   ]
  },
  {
   "cell_type": "code",
   "execution_count": null,
   "metadata": {
    "collapsed": true
   },
   "outputs": [],
   "source": [
    "%%capture\n",
    "X = extract_features(df_shift, column_id=\"id\", column_sort=\"time\", column_value=\"value\", impute_function=impute, show_warnings=False)"
   ]
  },
  {
   "cell_type": "code",
   "execution_count": null,
   "metadata": {
    "collapsed": true
   },
   "outputs": [],
   "source": [
    "# drop constant features\n",
    "print(X.shape)\n",
    "X = X.loc[:, X.apply(pd.Series.nunique) != 1] \n",
    "print(X.shape)"
   ]
  },
  {
   "cell_type": "code",
   "execution_count": null,
   "metadata": {
    "collapsed": true
   },
   "outputs": [],
   "source": [
    "# Add last value as feature\n",
    "X[\"feature_last_value\"] = y.shift(1)"
   ]
  },
  {
   "cell_type": "code",
   "execution_count": null,
   "metadata": {
    "collapsed": true
   },
   "outputs": [],
   "source": [
    "# Drop first line\n",
    "X = X.iloc[1:, ]\n",
    "y = y.iloc[1: ]"
   ]
  },
  {
   "cell_type": "code",
   "execution_count": null,
   "metadata": {
    "collapsed": true
   },
   "outputs": [],
   "source": [
    "X.head()"
   ]
  },
  {
   "cell_type": "code",
   "execution_count": null,
   "metadata": {
    "collapsed": true
   },
   "outputs": [],
   "source": []
  },
  {
   "cell_type": "code",
   "execution_count": null,
   "metadata": {
    "collapsed": true
   },
   "outputs": [],
   "source": [
    "\n",
    "from tqdm import tqdm"
   ]
  },
  {
   "cell_type": "code",
   "execution_count": null,
   "metadata": {
    "collapsed": true
   },
   "outputs": [],
   "source": [
    "ada = AdaBoostRegressor(n_estimators=10)\n",
    "y_pred = [np.NaN] * len(y)\n",
    "\n",
    "isp = 100   # index of where to start the predictions\n",
    "assert isp > 0\n",
    "\n",
    "for i in tqdm(range(isp, len(y))):\n",
    "    \n",
    "    ada.fit(X.iloc[:i], y[:i])\n",
    "    y_pred[i] = ada.predict(X.iloc[i, :].values.reshape((1, -1)))[0]\n",
    "    \n",
    "y_pred = pd.Series(data=y_pred, index=y.index)"
   ]
  },
  {
   "cell_type": "code",
   "execution_count": null,
   "metadata": {
    "collapsed": true
   },
   "outputs": [],
   "source": [
    "\n",
    "# Dataframe of predictions and true values\n",
    "ys = pd.concat([y_pred, y], axis = 1).rename(columns = {0: 'pred', 'value': 'true'})\n",
    "\n",
    "# Convert index to a datetime\n",
    "ys.index = pd.to_datetime(ys.index)\n",
    "ys.head()"
   ]
  },
  {
   "cell_type": "code",
   "execution_count": null,
   "metadata": {
    "collapsed": true
   },
   "outputs": [],
   "source": [
    "ys.plot(figsize=(15, 8))\n",
    "plt.title('Predicted and True Price')\n",
    "plt.show()"
   ]
  },
  {
   "cell_type": "code",
   "execution_count": null,
   "metadata": {
    "collapsed": true
   },
   "outputs": [],
   "source": [
    "# Create column of previous price\n",
    "ys['y-1'] = ys['true'].shift(1)\n",
    "ys[['y-1', 'true']].plot(figsize = (15, 8))\n",
    "plt.title('Benchmark Prediction and True Price')\n",
    "plt.show()"
   ]
  },
  {
   "cell_type": "code",
   "execution_count": null,
   "metadata": {
    "collapsed": true
   },
   "outputs": [],
   "source": [
    "print(\"MAE y-1: \\t{}\".format(np.mean(np.abs(np.diff(y))[isp-1:] )))\n",
    "print(\"MAE ada: \\t{}\".format(np.mean(np.abs(y_pred - y)[isp:])))"
   ]
  },
  {
   "cell_type": "code",
   "execution_count": null,
   "metadata": {
    "collapsed": true,
    "scrolled": true
   },
   "outputs": [],
   "source": [
    "importances = pd.Series(index=X.columns, data=ada.feature_importances_)\n",
    "importances.sort_values(ascending=False).head(10)"
   ]
  },
  {
   "cell_type": "markdown",
   "metadata": {
    "collapsed": true
   },
   "source": [
    "# Using known finance features"
   ]
  },
  {
   "cell_type": "code",
   "execution_count": 5,
   "metadata": {
    "collapsed": true
   },
   "outputs": [],
   "source": [
    "def moving_average_convergence(group, nslow=26, nfast=12):\n",
    "    emaslow = group.ewm(span=nslow, min_periods=1).mean()\n",
    "    emafast = group.ewm(span=nfast, min_periods=1).mean()\n",
    "    result = pd.DataFrame({'MACD': emafast-emaslow, 'emaSlw': emaslow, 'emaFst': emafast})\n",
    "    return result\n",
    "\n",
    "def moving_average(group, n=9):\n",
    "    sma = group.rolling(n).mean()\n",
    "    return sma"
   ]
  },
  {
   "cell_type": "code",
   "execution_count": 6,
   "metadata": {},
   "outputs": [
    {
     "name": "stdout",
     "output_type": "stream",
     "text": [
      "(1086, 6)\n",
      "(1086, 5)\n"
     ]
    },
    {
     "data": {
      "text/html": [
       "<div>\n",
       "<style scoped>\n",
       "    .dataframe tbody tr th:only-of-type {\n",
       "        vertical-align: middle;\n",
       "    }\n",
       "\n",
       "    .dataframe tbody tr th {\n",
       "        vertical-align: top;\n",
       "    }\n",
       "\n",
       "    .dataframe thead th {\n",
       "        text-align: right;\n",
       "    }\n",
       "</style>\n",
       "<table border=\"1\" class=\"dataframe\">\n",
       "  <thead>\n",
       "    <tr style=\"text-align: right;\">\n",
       "      <th></th>\n",
       "      <th>Chaos_rune</th>\n",
       "      <th>Nature_rune</th>\n",
       "      <th>Soul_rune</th>\n",
       "      <th>Blood_rune</th>\n",
       "      <th>Law_rune</th>\n",
       "      <th>Rune_axe</th>\n",
       "    </tr>\n",
       "    <tr>\n",
       "      <th>timestamp</th>\n",
       "      <th></th>\n",
       "      <th></th>\n",
       "      <th></th>\n",
       "      <th></th>\n",
       "      <th></th>\n",
       "      <th></th>\n",
       "    </tr>\n",
       "  </thead>\n",
       "  <tbody>\n",
       "    <tr>\n",
       "      <th>1577227800</th>\n",
       "      <td>66</td>\n",
       "      <td>218</td>\n",
       "      <td>146</td>\n",
       "      <td>305</td>\n",
       "      <td>142</td>\n",
       "      <td>7196</td>\n",
       "    </tr>\n",
       "    <tr>\n",
       "      <th>1577229600</th>\n",
       "      <td>66</td>\n",
       "      <td>219</td>\n",
       "      <td>147</td>\n",
       "      <td>304</td>\n",
       "      <td>142</td>\n",
       "      <td>7123</td>\n",
       "    </tr>\n",
       "    <tr>\n",
       "      <th>1577231400</th>\n",
       "      <td>66</td>\n",
       "      <td>218</td>\n",
       "      <td>146</td>\n",
       "      <td>304</td>\n",
       "      <td>142</td>\n",
       "      <td>7237</td>\n",
       "    </tr>\n",
       "    <tr>\n",
       "      <th>1577233501</th>\n",
       "      <td>66</td>\n",
       "      <td>218</td>\n",
       "      <td>145</td>\n",
       "      <td>304</td>\n",
       "      <td>140</td>\n",
       "      <td>7250</td>\n",
       "    </tr>\n",
       "    <tr>\n",
       "      <th>1577235300</th>\n",
       "      <td>66</td>\n",
       "      <td>218</td>\n",
       "      <td>144</td>\n",
       "      <td>301</td>\n",
       "      <td>140</td>\n",
       "      <td>7316</td>\n",
       "    </tr>\n",
       "  </tbody>\n",
       "</table>\n",
       "</div>"
      ],
      "text/plain": [
       "            Chaos_rune  Nature_rune  Soul_rune  Blood_rune  Law_rune  Rune_axe\n",
       "timestamp                                                                     \n",
       "1577227800          66          218        146         305       142      7196\n",
       "1577229600          66          219        147         304       142      7123\n",
       "1577231400          66          218        146         304       142      7237\n",
       "1577233501          66          218        145         304       140      7250\n",
       "1577235300          66          218        144         301       140      7316"
      ]
     },
     "execution_count": 6,
     "metadata": {},
     "output_type": "execute_result"
    }
   ],
   "source": [
    "print(selected.shape)\n",
    "print(selected2.shape)\n",
    "selected.head()"
   ]
  },
  {
   "cell_type": "code",
   "execution_count": 7,
   "metadata": {
    "collapsed": true
   },
   "outputs": [],
   "source": [
    "myResult = moving_average_convergence(selected['Rune_axe'])\n",
    "sma = moving_average(selected['Rune_axe'])"
   ]
  },
  {
   "cell_type": "code",
   "execution_count": 8,
   "metadata": {},
   "outputs": [
    {
     "name": "stdout",
     "output_type": "stream",
     "text": [
      "(1086, 3)\n"
     ]
    },
    {
     "data": {
      "text/html": [
       "<div>\n",
       "<style scoped>\n",
       "    .dataframe tbody tr th:only-of-type {\n",
       "        vertical-align: middle;\n",
       "    }\n",
       "\n",
       "    .dataframe tbody tr th {\n",
       "        vertical-align: top;\n",
       "    }\n",
       "\n",
       "    .dataframe thead th {\n",
       "        text-align: right;\n",
       "    }\n",
       "</style>\n",
       "<table border=\"1\" class=\"dataframe\">\n",
       "  <thead>\n",
       "    <tr style=\"text-align: right;\">\n",
       "      <th></th>\n",
       "      <th>MACD</th>\n",
       "      <th>emaSlw</th>\n",
       "      <th>emaFst</th>\n",
       "    </tr>\n",
       "    <tr>\n",
       "      <th>timestamp</th>\n",
       "      <th></th>\n",
       "      <th></th>\n",
       "      <th></th>\n",
       "    </tr>\n",
       "  </thead>\n",
       "  <tbody>\n",
       "    <tr>\n",
       "      <th>1577227800</th>\n",
       "      <td>0.000000</td>\n",
       "      <td>7196.000000</td>\n",
       "      <td>7196.000000</td>\n",
       "    </tr>\n",
       "    <tr>\n",
       "      <th>1577229600</th>\n",
       "      <td>-1.637821</td>\n",
       "      <td>7158.096154</td>\n",
       "      <td>7156.458333</td>\n",
       "    </tr>\n",
       "    <tr>\n",
       "      <th>1577231400</th>\n",
       "      <td>1.448225</td>\n",
       "      <td>7186.445540</td>\n",
       "      <td>7187.893764</td>\n",
       "    </tr>\n",
       "    <tr>\n",
       "      <th>1577233501</th>\n",
       "      <td>3.285686</td>\n",
       "      <td>7204.212589</td>\n",
       "      <td>7207.498276</td>\n",
       "    </tr>\n",
       "    <tr>\n",
       "      <th>1577235300</th>\n",
       "      <td>6.841255</td>\n",
       "      <td>7230.136551</td>\n",
       "      <td>7236.977807</td>\n",
       "    </tr>\n",
       "  </tbody>\n",
       "</table>\n",
       "</div>"
      ],
      "text/plain": [
       "                MACD       emaSlw       emaFst\n",
       "timestamp                                     \n",
       "1577227800  0.000000  7196.000000  7196.000000\n",
       "1577229600 -1.637821  7158.096154  7156.458333\n",
       "1577231400  1.448225  7186.445540  7187.893764\n",
       "1577233501  3.285686  7204.212589  7207.498276\n",
       "1577235300  6.841255  7230.136551  7236.977807"
      ]
     },
     "execution_count": 8,
     "metadata": {},
     "output_type": "execute_result"
    }
   ],
   "source": [
    "print(myResult.shape)\n",
    "myResult.head()"
   ]
  },
  {
   "cell_type": "code",
   "execution_count": 9,
   "metadata": {},
   "outputs": [
    {
     "data": {
      "text/plain": [
       "timestamp\n",
       "1577227800            NaN\n",
       "1577229600            NaN\n",
       "1577231400            NaN\n",
       "1577233501            NaN\n",
       "1577235300            NaN\n",
       "1577237100            NaN\n",
       "1577238900            NaN\n",
       "1577240701            NaN\n",
       "1577242500    7237.222222\n",
       "1577244300    7233.444444\n",
       "1577246100    7238.111111\n",
       "1577247901    7230.555556\n",
       "1577249700    7220.888889\n",
       "1577251500    7207.333333\n",
       "1577253301    7204.555556\n",
       "Name: Rune_axe, dtype: float64"
      ]
     },
     "execution_count": 9,
     "metadata": {},
     "output_type": "execute_result"
    }
   ],
   "source": [
    "sma.head(15)"
   ]
  },
  {
   "cell_type": "code",
   "execution_count": 10,
   "metadata": {
    "collapsed": true
   },
   "outputs": [],
   "source": [
    "def RSI(price, n=14):\n",
    "    delta = price.diff()\n",
    "    dUp, dDown = delta.copy(), delta.copy()\n",
    "    dUp[dUp < 0] = 0\n",
    "    dDown[dDown > 0] = 0\n",
    "\n",
    "    RolUp = dUp.rolling(n).mean()\n",
    "    RolDown = dDown.rolling(n).mean().abs()\n",
    "    \n",
    "    RS = RolUp / RolDown\n",
    "    rsi= 100.0 - (100.0 / (1.0 + RS))\n",
    "    return rsi"
   ]
  },
  {
   "cell_type": "code",
   "execution_count": 11,
   "metadata": {},
   "outputs": [
    {
     "data": {
      "text/plain": [
       "timestamp\n",
       "1577227800          NaN\n",
       "1577229600          NaN\n",
       "1577231400          NaN\n",
       "1577233501          NaN\n",
       "1577235300          NaN\n",
       "1577237100          NaN\n",
       "1577238900          NaN\n",
       "1577240701          NaN\n",
       "1577242500          NaN\n",
       "1577244300          NaN\n",
       "1577246100    47.495961\n",
       "1577247901    54.181818\n",
       "1577249700    41.628959\n",
       "1577251500    43.913043\n",
       "1577253301    33.830846\n",
       "Name: RSI, dtype: float64"
      ]
     },
     "execution_count": 11,
     "metadata": {},
     "output_type": "execute_result"
    }
   ],
   "source": [
    "rsi = RSI(selected['Rune_axe'], 10)\n",
    "rsi = rsi.rename(\"RSI\")\n",
    "rsi.head(15)"
   ]
  },
  {
   "cell_type": "code",
   "execution_count": 12,
   "metadata": {},
   "outputs": [
    {
     "data": {
      "text/html": [
       "<div>\n",
       "<style scoped>\n",
       "    .dataframe tbody tr th:only-of-type {\n",
       "        vertical-align: middle;\n",
       "    }\n",
       "\n",
       "    .dataframe tbody tr th {\n",
       "        vertical-align: top;\n",
       "    }\n",
       "\n",
       "    .dataframe thead th {\n",
       "        text-align: right;\n",
       "    }\n",
       "</style>\n",
       "<table border=\"1\" class=\"dataframe\">\n",
       "  <thead>\n",
       "    <tr style=\"text-align: right;\">\n",
       "      <th></th>\n",
       "      <th>Chaos_rune</th>\n",
       "      <th>Nature_rune</th>\n",
       "      <th>Soul_rune</th>\n",
       "      <th>Blood_rune</th>\n",
       "      <th>Law_rune</th>\n",
       "      <th>Rune_axe</th>\n",
       "      <th>datetime</th>\n",
       "      <th>dayofweek</th>\n",
       "      <th>hour</th>\n",
       "      <th>minute</th>\n",
       "    </tr>\n",
       "    <tr>\n",
       "      <th>timestamp</th>\n",
       "      <th></th>\n",
       "      <th></th>\n",
       "      <th></th>\n",
       "      <th></th>\n",
       "      <th></th>\n",
       "      <th></th>\n",
       "      <th></th>\n",
       "      <th></th>\n",
       "      <th></th>\n",
       "      <th></th>\n",
       "    </tr>\n",
       "  </thead>\n",
       "  <tbody>\n",
       "    <tr>\n",
       "      <th>1577227800</th>\n",
       "      <td>66</td>\n",
       "      <td>218</td>\n",
       "      <td>146</td>\n",
       "      <td>305</td>\n",
       "      <td>142</td>\n",
       "      <td>7196</td>\n",
       "      <td>2019-12-24 22:50:00</td>\n",
       "      <td>1</td>\n",
       "      <td>22</td>\n",
       "      <td>50</td>\n",
       "    </tr>\n",
       "    <tr>\n",
       "      <th>1577229600</th>\n",
       "      <td>66</td>\n",
       "      <td>219</td>\n",
       "      <td>147</td>\n",
       "      <td>304</td>\n",
       "      <td>142</td>\n",
       "      <td>7123</td>\n",
       "      <td>2019-12-24 23:20:00</td>\n",
       "      <td>1</td>\n",
       "      <td>23</td>\n",
       "      <td>20</td>\n",
       "    </tr>\n",
       "    <tr>\n",
       "      <th>1577231400</th>\n",
       "      <td>66</td>\n",
       "      <td>218</td>\n",
       "      <td>146</td>\n",
       "      <td>304</td>\n",
       "      <td>142</td>\n",
       "      <td>7237</td>\n",
       "      <td>2019-12-24 23:50:00</td>\n",
       "      <td>1</td>\n",
       "      <td>23</td>\n",
       "      <td>50</td>\n",
       "    </tr>\n",
       "    <tr>\n",
       "      <th>1577233501</th>\n",
       "      <td>66</td>\n",
       "      <td>218</td>\n",
       "      <td>145</td>\n",
       "      <td>304</td>\n",
       "      <td>140</td>\n",
       "      <td>7250</td>\n",
       "      <td>2019-12-25 00:25:01</td>\n",
       "      <td>2</td>\n",
       "      <td>0</td>\n",
       "      <td>25</td>\n",
       "    </tr>\n",
       "    <tr>\n",
       "      <th>1577235300</th>\n",
       "      <td>66</td>\n",
       "      <td>218</td>\n",
       "      <td>144</td>\n",
       "      <td>301</td>\n",
       "      <td>140</td>\n",
       "      <td>7316</td>\n",
       "      <td>2019-12-25 00:55:00</td>\n",
       "      <td>2</td>\n",
       "      <td>0</td>\n",
       "      <td>55</td>\n",
       "    </tr>\n",
       "  </tbody>\n",
       "</table>\n",
       "</div>"
      ],
      "text/plain": [
       "            Chaos_rune  Nature_rune  Soul_rune  Blood_rune  Law_rune  \\\n",
       "timestamp                                                              \n",
       "1577227800          66          218        146         305       142   \n",
       "1577229600          66          219        147         304       142   \n",
       "1577231400          66          218        146         304       142   \n",
       "1577233501          66          218        145         304       140   \n",
       "1577235300          66          218        144         301       140   \n",
       "\n",
       "            Rune_axe            datetime  dayofweek  hour  minute  \n",
       "timestamp                                                          \n",
       "1577227800      7196 2019-12-24 22:50:00          1    22      50  \n",
       "1577229600      7123 2019-12-24 23:20:00          1    23      20  \n",
       "1577231400      7237 2019-12-24 23:50:00          1    23      50  \n",
       "1577233501      7250 2019-12-25 00:25:01          2     0      25  \n",
       "1577235300      7316 2019-12-25 00:55:00          2     0      55  "
      ]
     },
     "execution_count": 12,
     "metadata": {},
     "output_type": "execute_result"
    }
   ],
   "source": [
    "selected['datetime'] = selected.index\n",
    "selected['datetime'] = pd.to_datetime(selected['datetime'], unit='s')\n",
    "selected['dayofweek'] = selected['datetime'].dt.dayofweek\n",
    "selected['hour'] = selected['datetime'].dt.hour\n",
    "selected['minute'] = selected['datetime'].dt.minute\n",
    "\n",
    "selected.head()"
   ]
  },
  {
   "cell_type": "code",
   "execution_count": 13,
   "metadata": {},
   "outputs": [
    {
     "data": {
      "text/html": [
       "<div>\n",
       "<style scoped>\n",
       "    .dataframe tbody tr th:only-of-type {\n",
       "        vertical-align: middle;\n",
       "    }\n",
       "\n",
       "    .dataframe tbody tr th {\n",
       "        vertical-align: top;\n",
       "    }\n",
       "\n",
       "    .dataframe thead th {\n",
       "        text-align: right;\n",
       "    }\n",
       "</style>\n",
       "<table border=\"1\" class=\"dataframe\">\n",
       "  <thead>\n",
       "    <tr style=\"text-align: right;\">\n",
       "      <th></th>\n",
       "      <th>Chaos_rune</th>\n",
       "      <th>Nature_rune</th>\n",
       "      <th>Soul_rune</th>\n",
       "      <th>Blood_rune</th>\n",
       "      <th>Law_rune</th>\n",
       "      <th>Rune_axe</th>\n",
       "      <th>datetime</th>\n",
       "      <th>dayofweek</th>\n",
       "      <th>hour</th>\n",
       "      <th>minute</th>\n",
       "      <th>slope</th>\n",
       "    </tr>\n",
       "    <tr>\n",
       "      <th>timestamp</th>\n",
       "      <th></th>\n",
       "      <th></th>\n",
       "      <th></th>\n",
       "      <th></th>\n",
       "      <th></th>\n",
       "      <th></th>\n",
       "      <th></th>\n",
       "      <th></th>\n",
       "      <th></th>\n",
       "      <th></th>\n",
       "      <th></th>\n",
       "    </tr>\n",
       "  </thead>\n",
       "  <tbody>\n",
       "    <tr>\n",
       "      <th>1970-01-01 00:00:01.577227800</th>\n",
       "      <td>66</td>\n",
       "      <td>218</td>\n",
       "      <td>146</td>\n",
       "      <td>305</td>\n",
       "      <td>142</td>\n",
       "      <td>7196</td>\n",
       "      <td>2019-12-24 22:50:00</td>\n",
       "      <td>1</td>\n",
       "      <td>22</td>\n",
       "      <td>50</td>\n",
       "      <td>-73.0</td>\n",
       "    </tr>\n",
       "    <tr>\n",
       "      <th>1970-01-01 00:00:01.577229600</th>\n",
       "      <td>66</td>\n",
       "      <td>219</td>\n",
       "      <td>147</td>\n",
       "      <td>304</td>\n",
       "      <td>142</td>\n",
       "      <td>7123</td>\n",
       "      <td>2019-12-24 23:20:00</td>\n",
       "      <td>1</td>\n",
       "      <td>23</td>\n",
       "      <td>20</td>\n",
       "      <td>20.5</td>\n",
       "    </tr>\n",
       "    <tr>\n",
       "      <th>1970-01-01 00:00:01.577231400</th>\n",
       "      <td>66</td>\n",
       "      <td>218</td>\n",
       "      <td>146</td>\n",
       "      <td>304</td>\n",
       "      <td>142</td>\n",
       "      <td>7237</td>\n",
       "      <td>2019-12-24 23:50:00</td>\n",
       "      <td>1</td>\n",
       "      <td>23</td>\n",
       "      <td>50</td>\n",
       "      <td>63.5</td>\n",
       "    </tr>\n",
       "    <tr>\n",
       "      <th>1970-01-01 00:00:01.577233501</th>\n",
       "      <td>66</td>\n",
       "      <td>218</td>\n",
       "      <td>145</td>\n",
       "      <td>304</td>\n",
       "      <td>140</td>\n",
       "      <td>7250</td>\n",
       "      <td>2019-12-25 00:25:01</td>\n",
       "      <td>2</td>\n",
       "      <td>0</td>\n",
       "      <td>25</td>\n",
       "      <td>39.5</td>\n",
       "    </tr>\n",
       "    <tr>\n",
       "      <th>1970-01-01 00:00:01.577235300</th>\n",
       "      <td>66</td>\n",
       "      <td>218</td>\n",
       "      <td>144</td>\n",
       "      <td>301</td>\n",
       "      <td>140</td>\n",
       "      <td>7316</td>\n",
       "      <td>2019-12-25 00:55:00</td>\n",
       "      <td>2</td>\n",
       "      <td>0</td>\n",
       "      <td>55</td>\n",
       "      <td>-19.5</td>\n",
       "    </tr>\n",
       "  </tbody>\n",
       "</table>\n",
       "</div>"
      ],
      "text/plain": [
       "                               Chaos_rune  Nature_rune  Soul_rune  Blood_rune  \\\n",
       "timestamp                                                                       \n",
       "1970-01-01 00:00:01.577227800          66          218        146         305   \n",
       "1970-01-01 00:00:01.577229600          66          219        147         304   \n",
       "1970-01-01 00:00:01.577231400          66          218        146         304   \n",
       "1970-01-01 00:00:01.577233501          66          218        145         304   \n",
       "1970-01-01 00:00:01.577235300          66          218        144         301   \n",
       "\n",
       "                               Law_rune  Rune_axe            datetime  \\\n",
       "timestamp                                                               \n",
       "1970-01-01 00:00:01.577227800       142      7196 2019-12-24 22:50:00   \n",
       "1970-01-01 00:00:01.577229600       142      7123 2019-12-24 23:20:00   \n",
       "1970-01-01 00:00:01.577231400       142      7237 2019-12-24 23:50:00   \n",
       "1970-01-01 00:00:01.577233501       140      7250 2019-12-25 00:25:01   \n",
       "1970-01-01 00:00:01.577235300       140      7316 2019-12-25 00:55:00   \n",
       "\n",
       "                               dayofweek  hour  minute  slope  \n",
       "timestamp                                                      \n",
       "1970-01-01 00:00:01.577227800          1    22      50  -73.0  \n",
       "1970-01-01 00:00:01.577229600          1    23      20   20.5  \n",
       "1970-01-01 00:00:01.577231400          1    23      50   63.5  \n",
       "1970-01-01 00:00:01.577233501          2     0      25   39.5  \n",
       "1970-01-01 00:00:01.577235300          2     0      55  -19.5  "
      ]
     },
     "execution_count": 13,
     "metadata": {},
     "output_type": "execute_result"
    }
   ],
   "source": [
    "tmp = selected.copy()\n",
    "tmp.index = pd.to_datetime(tmp.index)\n",
    "\n",
    "slope = pd.Series(np.gradient(tmp['Rune_axe']), tmp.index, name='slope')\n",
    "\n",
    "df = pd.concat([tmp, slope], axis=1)\n",
    "df.head()"
   ]
  },
  {
   "cell_type": "code",
   "execution_count": 14,
   "metadata": {},
   "outputs": [
    {
     "data": {
      "text/plain": [
       "0    0.012887\n",
       "1    0.025811\n",
       "2    0.041030\n",
       "3    0.054132\n",
       "4    0.067206\n",
       "dtype: float64"
      ]
     },
     "execution_count": 14,
     "metadata": {},
     "output_type": "execute_result"
    }
   ],
   "source": [
    "from scipy import integrate\n",
    "\n",
    "def integrate_method(self, how='trapz', unit='s'):\n",
    "    available_rules = set(['trapz', 'cumtrapz', 'simps', 'romb'])\n",
    "    if how in available_rules:\n",
    "        rule = integrate.__getattribute__(how)\n",
    "    else:\n",
    "        print('Unsupported integration rule: %s' % (how))\n",
    "        print('Expecting one of these sample-based integration rules: %s' % (str(list(available_rules))))\n",
    "        raise AttributeError\n",
    "    \n",
    "    result = rule(self.values, self.index.astype(np.int64) / 10**9)\n",
    "    #result = rule(self.values)\n",
    "    return result\n",
    "\n",
    "pd.Series.integrate = integrate_method\n",
    "\n",
    "integral = pd.Series(tmp['Rune_axe'].integrate('cumtrapz'))\n",
    "integral.head()"
   ]
  },
  {
   "cell_type": "code",
   "execution_count": 15,
   "metadata": {
    "collapsed": true
   },
   "outputs": [],
   "source": [
    "# Univariate linear regression tests and Recursive Feature Elimination (RFE)\n",
    "from sklearn import datasets\n",
    "from sklearn.feature_selection import RFE, f_regression, SelectKBest\n",
    "from sklearn.linear_model import LogisticRegression"
   ]
  },
  {
   "cell_type": "markdown",
   "metadata": {},
   "source": [
    "## Regression F Test"
   ]
  },
  {
   "cell_type": "code",
   "execution_count": 16,
   "metadata": {},
   "outputs": [
    {
     "name": "stdout",
     "output_type": "stream",
     "text": [
      "(100, 100)\n",
      "(100,)\n",
      "(100, 10)\n"
     ]
    }
   ],
   "source": [
    "# generate dataset\n",
    "X, y = datasets.make_regression(n_samples=100, n_features=100, n_informative=10)\n",
    "print(X.shape)\n",
    "print(y.shape)\n",
    "\n",
    "# define feature selection\n",
    "fs = SelectKBest(score_func=f_regression, k=10)\n",
    "# apply feature selection\n",
    "X_selected = fs.fit_transform(X, y)\n",
    "print(X_selected.shape)"
   ]
  },
  {
   "cell_type": "code",
   "execution_count": 17,
   "metadata": {},
   "outputs": [
    {
     "name": "stdout",
     "output_type": "stream",
     "text": [
      "(1086, 9)\n",
      "(1086,)\n",
      "(1086, 3)\n",
      "[1.28626315e+00 1.35550776e+01 1.23028012e+01 4.13374258e+00\n",
      " 4.74967310e+00 3.34798400e-01 6.40409953e-01 7.08422784e-01\n",
      " 9.16721174e-06]\n"
     ]
    },
    {
     "data": {
      "text/html": [
       "<div>\n",
       "<style scoped>\n",
       "    .dataframe tbody tr th:only-of-type {\n",
       "        vertical-align: middle;\n",
       "    }\n",
       "\n",
       "    .dataframe tbody tr th {\n",
       "        vertical-align: top;\n",
       "    }\n",
       "\n",
       "    .dataframe thead th {\n",
       "        text-align: right;\n",
       "    }\n",
       "</style>\n",
       "<table border=\"1\" class=\"dataframe\">\n",
       "  <thead>\n",
       "    <tr style=\"text-align: right;\">\n",
       "      <th></th>\n",
       "      <th>Nature_rune</th>\n",
       "      <th>Soul_rune</th>\n",
       "      <th>Law_rune</th>\n",
       "    </tr>\n",
       "    <tr>\n",
       "      <th>timestamp</th>\n",
       "      <th></th>\n",
       "      <th></th>\n",
       "      <th></th>\n",
       "    </tr>\n",
       "  </thead>\n",
       "  <tbody>\n",
       "    <tr>\n",
       "      <th>1970-01-01 00:00:01.577227800</th>\n",
       "      <td>-1.778269</td>\n",
       "      <td>0.140424</td>\n",
       "      <td>-0.652196</td>\n",
       "    </tr>\n",
       "    <tr>\n",
       "      <th>1970-01-01 00:00:01.577229600</th>\n",
       "      <td>-1.714797</td>\n",
       "      <td>0.425472</td>\n",
       "      <td>-0.652196</td>\n",
       "    </tr>\n",
       "    <tr>\n",
       "      <th>1970-01-01 00:00:01.577231400</th>\n",
       "      <td>-1.778269</td>\n",
       "      <td>0.140424</td>\n",
       "      <td>-0.652196</td>\n",
       "    </tr>\n",
       "    <tr>\n",
       "      <th>1970-01-01 00:00:01.577233501</th>\n",
       "      <td>-1.778269</td>\n",
       "      <td>-0.144624</td>\n",
       "      <td>-0.855143</td>\n",
       "    </tr>\n",
       "    <tr>\n",
       "      <th>1970-01-01 00:00:01.577235300</th>\n",
       "      <td>-1.778269</td>\n",
       "      <td>-0.429672</td>\n",
       "      <td>-0.855143</td>\n",
       "    </tr>\n",
       "  </tbody>\n",
       "</table>\n",
       "</div>"
      ],
      "text/plain": [
       "                               Nature_rune  Soul_rune  Law_rune\n",
       "timestamp                                                      \n",
       "1970-01-01 00:00:01.577227800    -1.778269   0.140424 -0.652196\n",
       "1970-01-01 00:00:01.577229600    -1.714797   0.425472 -0.652196\n",
       "1970-01-01 00:00:01.577231400    -1.778269   0.140424 -0.652196\n",
       "1970-01-01 00:00:01.577233501    -1.778269  -0.144624 -0.855143\n",
       "1970-01-01 00:00:01.577235300    -1.778269  -0.429672 -0.855143"
      ]
     },
     "execution_count": 17,
     "metadata": {},
     "output_type": "execute_result"
    }
   ],
   "source": [
    "features = df.drop(['datetime'], axis=1).copy()\n",
    "\n",
    "# normalize dataset\n",
    "dataset=(features-features.mean())/features.std()\n",
    "\n",
    "X = dataset.drop(['Rune_axe'], axis=1)\n",
    "y = dataset['Rune_axe']\n",
    "print(X.shape)\n",
    "print(y.shape)\n",
    "\n",
    "# define feature selection\n",
    "fs = SelectKBest(score_func=f_regression, k=3)\n",
    "# apply feature selection\n",
    "X_selected = fs.fit_transform(X, y)\n",
    "print(X_selected.shape)\n",
    "\n",
    "# Get scores for each of the columns\n",
    "scores = fs.scores_\n",
    "print(scores)\n",
    "\n",
    "# Get columns to keep and create new dataframe with those only\n",
    "cols = fs.get_support(indices=True)\n",
    "features_df_new = X.iloc[:,cols]\n",
    "features_df_new.head()\n"
   ]
  },
  {
   "cell_type": "markdown",
   "metadata": {},
   "source": [
    "## Recursive Feature Elimination (RFE)"
   ]
  },
  {
   "cell_type": "code",
   "execution_count": 18,
   "metadata": {},
   "outputs": [
    {
     "name": "stderr",
     "output_type": "stream",
     "text": [
      "C:\\Users\\User\\Anaconda3\\lib\\site-packages\\sklearn\\ensemble\\weight_boosting.py:29: DeprecationWarning: numpy.core.umath_tests is an internal NumPy module and should not be imported. It will be removed in a future NumPy release.\n",
      "  from numpy.core.umath_tests import inner1d\n"
     ]
    }
   ],
   "source": [
    "from sklearn.feature_selection import RFE\n",
    "from sklearn.ensemble import RandomForestRegressor\n",
    "from matplotlib import pyplot"
   ]
  },
  {
   "cell_type": "code",
   "execution_count": 19,
   "metadata": {},
   "outputs": [
    {
     "name": "stdout",
     "output_type": "stream",
     "text": [
      "Selected Features:\n",
      "Nature_rune\n",
      "Law_rune\n",
      "hour\n",
      "slope\n"
     ]
    },
    {
     "data": {
      "image/png": "[encoded data removed]",
      "text/plain": [
       "<Figure size 432x288 with 1 Axes>"
      ]
     },
     "metadata": {
      "needs_background": "light"
     },
     "output_type": "display_data"
    }
   ],
   "source": [
    "X = dataset.drop(['Rune_axe'], axis=1)\n",
    "y = dataset['Rune_axe']\n",
    "\n",
    "# perform feature selection\n",
    "rfe = RFE(RandomForestRegressor(n_estimators=500, random_state=1), 4)\n",
    "fit = rfe.fit(X, y)\n",
    "# report selected features\n",
    "print('Selected Features:')\n",
    "names = dataset.drop(['Rune_axe'], axis=1).columns.values\n",
    "for i in range(len(fit.support_)):\n",
    "    if fit.support_[i]:\n",
    "        print(names[i])\n",
    "        \n",
    "# plot feature rank\n",
    "names = dataset.drop(['Rune_axe'], axis=1).columns.values\n",
    "ticks = [i for i in range(len(names))]\n",
    "pyplot.bar(ticks, fit.ranking_)\n",
    "pyplot.xticks(ticks, names)\n",
    "pyplot.show()"
   ]
  },
  {
   "cell_type": "code",
   "execution_count": null,
   "metadata": {
    "collapsed": true
   },
   "outputs": [],
   "source": []
  }
 ],
 "metadata": {
  "kernelspec": {
   "display_name": "Python 3",
   "language": "python",
   "name": "python3"
  },
  "language_info": {
   "codemirror_mode": {
    "name": "ipython",
    "version": 3
   },
   "file_extension": ".py",
   "mimetype": "text/x-python",
   "name": "python",
   "nbconvert_exporter": "python",
   "pygments_lexer": "ipython3",
   "version": "3.6.3"
  }
 },
 "nbformat": 4,
 "nbformat_minor": 2
}
