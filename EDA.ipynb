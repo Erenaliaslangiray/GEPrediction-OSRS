{
 "cells": [
  {
   "cell_type": "markdown",
   "metadata": {},
   "source": [
    "# ASOS Exploratory Data Analysis"
   ]
  },
  {
   "cell_type": "code",
   "execution_count": 55,
   "metadata": {},
   "outputs": [],
   "source": [
    "import pandas as pd\n",
    "import numpy as np\n",
    "import matplotlib.pyplot as plt\n",
    "import seaborn as sns\n",
    "%matplotlib inline"
   ]
  },
  {
   "cell_type": "code",
   "execution_count": 37,
   "metadata": {},
   "outputs": [],
   "source": [
    "all_data = pd.read_csv('asos.csv', na_values=['M'])"
   ]
  },
  {
   "cell_type": "markdown",
   "metadata": {},
   "source": [
    "Data retrieved from: https://mesonet.agron.iastate.edu/request/download.phtml\n",
    "\n",
    "station:\n",
    "three or four character site identifier\n",
    "\n",
    "valid:\n",
    "timestamp of the observation\n",
    "\n",
    "tmpf:\n",
    "Air Temperature in Fahrenheit, typically @ 2 meters\n",
    "\n",
    "dwpf:\n",
    "Dew Point Temperature in Fahrenheit, typically @ 2 meters\n",
    "\n",
    "relh:\n",
    "Relative Humidity in %\n",
    "\n",
    "drct:\n",
    "Wind Direction in degrees from north\n",
    "\n",
    "sknt:\n",
    "Wind Speed in knots\n",
    "\n",
    "p01i:\n",
    "One hour precipitation for the period from the observation time to the time of the previous hourly precipitation reset. This varies slightly by site. Values are in inches. This value may or may not contain frozen precipitation melted by some device on the sensor or estimated by some other means. Unfortunately, we do not know of an authoritative database denoting which station has which sensor.\n",
    "\n",
    "alti:\n",
    "Pressure altimeter in inches\n",
    "\n",
    "mslp:\n",
    "Sea Level Pressure in millibar\n",
    "\n",
    "vsby:\n",
    "Visibility in miles\n",
    "\n",
    "gust:\n",
    "Wind Gust in knots\n",
    "\n",
    "skyl1:\n",
    "Sky Level 1 Altitude in feet\n",
    "\n",
    "skyl2:\n",
    "Sky Level 2 Altitude in feet\n",
    "\n",
    "skyl3:\n",
    "Sky Level 3 Altitude in feet\n",
    "\n",
    "skyl4:\n",
    "Sky Level 4 Altitude in feet\n",
    "\n",
    "wxcodes:\n",
    "Present Weather Codes (space seperated)\n",
    "\n",
    "feel:\n",
    "Apparent Temperature (Wind Chill or Heat Index) in Fahrenheit\n",
    "\n",
    "ice_accretion_1hr:\n",
    "Ice Accretion over 1 Hour (inches)\n",
    "\n",
    "ice_accretion_3hr:\n",
    "Ice Accretion over 3 Hours (inches)\n",
    "\n",
    "ice_accretion_6hr:\n",
    "Ice Accretion over 6 Hours (inches)\n",
    "\n",
    "peak_wind_gust:\n",
    "Peak Wind Gust (from PK WND METAR remark) (knots)\n",
    "\n",
    "peak_wind_drct:\n",
    "Peak Wind Gust Direction (from PK WND METAR remark) (deg)\n",
    "\n",
    "peak_wind_time:\n",
    "Peak Wind Gust Time (from PK WND METAR remark)\n",
    "\n",
    "metar:\n",
    "unprocessed reported observation in METAR format"
   ]
  },
  {
   "cell_type": "code",
   "execution_count": 49,
   "metadata": {},
   "outputs": [
    {
     "name": "stdout",
     "output_type": "stream",
     "text": [
      "valid        0\n",
      "drct     13138\n",
      "sknt      8276\n",
      "alti       152\n",
      "vsby      1195\n",
      "dtype: int64\n"
     ]
    }
   ],
   "source": [
    "df = all_data[['valid','drct', 'sknt', 'alti', 'vsby']].copy()\n",
    "print(df.isnull().sum(axis = 0))\n",
    "df.dropna()\n",
    "df = df[df.vsby != 10]  # problem: over 300000 rows with visibility = 10 probs because any is over 10 was set as 10"
   ]
  },
  {
   "cell_type": "code",
   "execution_count": 53,
   "metadata": {},
   "outputs": [
    {
     "name": "stdout",
     "output_type": "stream",
     "text": [
      "                drct           sknt           alti           vsby\n",
      "count  111623.000000  112568.000000  115878.000000  114768.000000\n",
      "mean      120.617435      11.364954      29.601726       4.723652\n",
      "std       104.949439       6.989391       0.397854       2.606585\n",
      "min         0.000000       0.000000      20.380000       0.000000\n",
      "25%        50.000000       6.000000      29.330000       2.500000\n",
      "50%        80.000000      11.000000      29.640000       4.000000\n",
      "75%       150.000000      16.000000      29.900000       7.000000\n",
      "max       360.000000      51.000000      30.680000       9.000000\n",
      "(115963, 5)\n"
     ]
    },
    {
     "name": "stderr",
     "output_type": "stream",
     "text": [
      "C:\\Users\\Christopher Kok\\Anaconda3\\lib\\site-packages\\ipykernel_launcher.py:2: SettingWithCopyWarning: \n",
      "A value is trying to be set on a copy of a slice from a DataFrame\n",
      "\n",
      "See the caveats in the documentation: http://pandas.pydata.org/pandas-docs/stable/user_guide/indexing.html#returning-a-view-versus-a-copy\n",
      "  \n"
     ]
    }
   ],
   "source": [
    "# Removing negative values from visibility\n",
    "df['vsby'][df['vsby'] < 0] = 0\n",
    "print(df.describe())\n",
    "print(df.shape)"
   ]
  },
  {
   "cell_type": "markdown",
   "metadata": {},
   "source": [
    "## Distribution Plots & Heatmap"
   ]
  },
  {
   "cell_type": "code",
   "execution_count": 61,
   "metadata": {},
   "outputs": [
    {
     "data": {
      "text/plain": [
       "array([[<matplotlib.axes._subplots.AxesSubplot object at 0x0000020852E8E828>,\n",
       "        <matplotlib.axes._subplots.AxesSubplot object at 0x000002084912DD30>],\n",
       "       [<matplotlib.axes._subplots.AxesSubplot object at 0x00000208490F6400>,\n",
       "        <matplotlib.axes._subplots.AxesSubplot object at 0x0000020849191A90>]],\n",
       "      dtype=object)"
      ]
     },
     "execution_count": 61,
     "metadata": {},
     "output_type": "execute_result"
    },
    {
     "data": {
      "image/png": "[encoded data removed]",
      "text/plain": [
       "<Figure size 432x288 with 4 Axes>"
      ]
     },
     "metadata": {
      "needs_background": "light"
     },
     "output_type": "display_data"
    }
   ],
   "source": [
    "df.hist(bins=30)"
   ]
  },
  {
   "cell_type": "code",
   "execution_count": 62,
   "metadata": {},
   "outputs": [
    {
     "data": {
      "text/plain": [
       "<matplotlib.axes._subplots.AxesSubplot at 0x2084538e518>"
      ]
     },
     "execution_count": 62,
     "metadata": {},
     "output_type": "execute_result"
    },
    {
     "data": {
      "image/png": "[encoded data removed]",
      "text/plain": [
       "<Figure size 432x288 with 1 Axes>"
      ]
     },
     "metadata": {
      "needs_background": "light"
     },
     "output_type": "display_data"
    }
   ],
   "source": [
    "sns.boxplot(x=df['sknt'])"
   ]
  },
  {
   "cell_type": "code",
   "execution_count": 63,
   "metadata": {},
   "outputs": [
    {
     "data": {
      "text/html": [
       "<div>\n",
       "<style scoped>\n",
       "    .dataframe tbody tr th:only-of-type {\n",
       "        vertical-align: middle;\n",
       "    }\n",
       "\n",
       "    .dataframe tbody tr th {\n",
       "        vertical-align: top;\n",
       "    }\n",
       "\n",
       "    .dataframe thead th {\n",
       "        text-align: right;\n",
       "    }\n",
       "</style>\n",
       "<table border=\"1\" class=\"dataframe\">\n",
       "  <thead>\n",
       "    <tr style=\"text-align: right;\">\n",
       "      <th></th>\n",
       "      <th>drct</th>\n",
       "      <th>sknt</th>\n",
       "      <th>alti</th>\n",
       "      <th>vsby</th>\n",
       "    </tr>\n",
       "  </thead>\n",
       "  <tbody>\n",
       "    <tr>\n",
       "      <th>drct</th>\n",
       "      <td>1.000000</td>\n",
       "      <td>-0.028300</td>\n",
       "      <td>-0.140194</td>\n",
       "      <td>0.134467</td>\n",
       "    </tr>\n",
       "    <tr>\n",
       "      <th>sknt</th>\n",
       "      <td>-0.028300</td>\n",
       "      <td>1.000000</td>\n",
       "      <td>-0.276365</td>\n",
       "      <td>-0.068810</td>\n",
       "    </tr>\n",
       "    <tr>\n",
       "      <th>alti</th>\n",
       "      <td>-0.140194</td>\n",
       "      <td>-0.276365</td>\n",
       "      <td>1.000000</td>\n",
       "      <td>-0.044350</td>\n",
       "    </tr>\n",
       "    <tr>\n",
       "      <th>vsby</th>\n",
       "      <td>0.134467</td>\n",
       "      <td>-0.068810</td>\n",
       "      <td>-0.044350</td>\n",
       "      <td>1.000000</td>\n",
       "    </tr>\n",
       "  </tbody>\n",
       "</table>\n",
       "</div>"
      ],
      "text/plain": [
       "          drct      sknt      alti      vsby\n",
       "drct  1.000000 -0.028300 -0.140194  0.134467\n",
       "sknt -0.028300  1.000000 -0.276365 -0.068810\n",
       "alti -0.140194 -0.276365  1.000000 -0.044350\n",
       "vsby  0.134467 -0.068810 -0.044350  1.000000"
      ]
     },
     "execution_count": 63,
     "metadata": {},
     "output_type": "execute_result"
    },
    {
     "data": {
      "image/png": "[encoded data removed]",
      "text/plain": [
       "<Figure size 1440x720 with 2 Axes>"
      ]
     },
     "metadata": {
      "needs_background": "light"
     },
     "output_type": "display_data"
    }
   ],
   "source": [
    "plt.figure(figsize=(20,10))\n",
    "c= df.corr()\n",
    "sns.heatmap(c,annot=True)\n",
    "c"
   ]
  },
  {
   "cell_type": "code",
   "execution_count": null,
   "metadata": {
    "collapsed": true
   },
   "outputs": [],
   "source": []
  }
 ],
 "metadata": {
  "kernelspec": {
   "display_name": "Python 3",
   "language": "python",
   "name": "python3"
  },
  "language_info": {
   "codemirror_mode": {
    "name": "ipython",
    "version": 3
   },
   "file_extension": ".py",
   "mimetype": "text/x-python",
   "name": "python",
   "nbconvert_exporter": "python",
   "pygments_lexer": "ipython3",
   "version": "3.6.9"
  }
 },
 "nbformat": 4,
 "nbformat_minor": 2
}
